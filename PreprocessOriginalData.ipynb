{
 "cells": [
  {
   "cell_type": "code",
   "execution_count": 1,
   "metadata": {},
   "outputs": [],
   "source": [
    "from sklearn.preprocessing import LabelEncoder\n",
    "import pandas as pd\n",
    "\n",
    "# Read original dataset\n",
    "full_data = pd.read_csv(\"CC_LCL-FullData.csv\")\n",
    "\n",
    "# Convert datetime column to pandas DateTime type\n",
    "full_data['DateTime'] = pd.to_datetime(full_data['DateTime'])\n",
    "\n",
    "# Extract the year\n",
    "full_data['year'] = full_data['DateTime'].dt.year\n",
    "\n",
    "# Only use year 2013\n",
    "full_data = full_data[full_data['year'] == 2013]\n",
    "full_data.drop(columns=['year'], inplace=True)\n",
    "\n",
    "# Extract day of the year\n",
    "full_data['dayoftheyear'] = full_data['DateTime'].dt.dayofyear\n",
    "\n",
    "# Check if the day is a weekend (Saturday=5, Sunday=6)\n",
    "full_data['is_weekend'] = full_data['DateTime'].dt.dayofweek >= 5\n",
    "\n",
    "# Extract hour\n",
    "full_data['hour'] = full_data['DateTime'].dt.hour\n",
    "\n",
    "# Drop DateTime column as it is not needed anymore\n",
    "full_data.drop(columns=[\"DateTime\"], inplace=True)\n",
    "\n",
    "# Select only standard customers \n",
    "full_data = full_data[full_data[\"stdorToU\"] == \"Std\"]\n",
    "full_data.drop(columns=[\"stdorToU\"], inplace=True)\n",
    "\n",
    "# Encode the ID of meters\n",
    "label_encoder_lclid = LabelEncoder()\n",
    "full_data['LCLid'] = label_encoder_lclid.fit_transform(full_data['LCLid'])\n",
    "full_data['LCLid'] = full_data['LCLid'].astype('int16')\n",
    "\n",
    "# Ensure that target does not contain NULLs and is numerric \n",
    "full_data['KWH/hh (per half hour) '] = pd.to_numeric(full_data['KWH/hh (per half hour) '], errors='coerce').fillna(0.0).astype('float16')\n",
    "\n",
    "# Calculate hourly consumption \n",
    "hourly_data = full_data.groupby(['LCLid','dayoftheyear','hour','is_weekend'])['KWH/hh (per half hour) '].sum().reset_index()\n",
    "hourly_data = hourly_data.rename(columns={'KWH/hh (per half hour) ': 'KWH/hh (per hour)'})\n",
    "\n",
    "# Sort the data \n",
    "hourly_data.sort_values(by=['LCLid', 'dayoftheyear', 'hour'], inplace=True)\n",
    "\n",
    "# Save the DataFrame to a CSV file\n",
    "hourly_data.to_csv('Preprocessed_data.csv', index=False)"
   ]
  },
  {
   "cell_type": "code",
   "execution_count": null,
   "metadata": {},
   "outputs": [
    {
     "data": {
      "text/html": [
       "<div>\n",
       "<style scoped>\n",
       "    .dataframe tbody tr th:only-of-type {\n",
       "        vertical-align: middle;\n",
       "    }\n",
       "\n",
       "    .dataframe tbody tr th {\n",
       "        vertical-align: top;\n",
       "    }\n",
       "\n",
       "    .dataframe thead th {\n",
       "        text-align: right;\n",
       "    }\n",
       "</style>\n",
       "<table border=\"1\" class=\"dataframe\">\n",
       "  <thead>\n",
       "    <tr style=\"text-align: right;\">\n",
       "      <th></th>\n",
       "      <th>LCLid</th>\n",
       "      <th>dayoftheyear</th>\n",
       "      <th>hour</th>\n",
       "      <th>is_weekend</th>\n",
       "      <th>KWH/hh (per hour)</th>\n",
       "    </tr>\n",
       "  </thead>\n",
       "  <tbody>\n",
       "    <tr>\n",
       "      <th>0</th>\n",
       "      <td>0</td>\n",
       "      <td>1</td>\n",
       "      <td>0</td>\n",
       "      <td>False</td>\n",
       "      <td>0.459961</td>\n",
       "    </tr>\n",
       "    <tr>\n",
       "      <th>1</th>\n",
       "      <td>0</td>\n",
       "      <td>1</td>\n",
       "      <td>1</td>\n",
       "      <td>False</td>\n",
       "      <td>0.426025</td>\n",
       "    </tr>\n",
       "    <tr>\n",
       "      <th>2</th>\n",
       "      <td>0</td>\n",
       "      <td>1</td>\n",
       "      <td>2</td>\n",
       "      <td>False</td>\n",
       "      <td>0.411011</td>\n",
       "    </tr>\n",
       "    <tr>\n",
       "      <th>3</th>\n",
       "      <td>0</td>\n",
       "      <td>1</td>\n",
       "      <td>3</td>\n",
       "      <td>False</td>\n",
       "      <td>0.395020</td>\n",
       "    </tr>\n",
       "    <tr>\n",
       "      <th>4</th>\n",
       "      <td>0</td>\n",
       "      <td>1</td>\n",
       "      <td>4</td>\n",
       "      <td>False</td>\n",
       "      <td>0.221008</td>\n",
       "    </tr>\n",
       "    <tr>\n",
       "      <th>...</th>\n",
       "      <td>...</td>\n",
       "      <td>...</td>\n",
       "      <td>...</td>\n",
       "      <td>...</td>\n",
       "      <td>...</td>\n",
       "    </tr>\n",
       "    <tr>\n",
       "      <th>95</th>\n",
       "      <td>0</td>\n",
       "      <td>4</td>\n",
       "      <td>23</td>\n",
       "      <td>False</td>\n",
       "      <td>0.449951</td>\n",
       "    </tr>\n",
       "    <tr>\n",
       "      <th>96</th>\n",
       "      <td>0</td>\n",
       "      <td>5</td>\n",
       "      <td>0</td>\n",
       "      <td>True</td>\n",
       "      <td>0.402954</td>\n",
       "    </tr>\n",
       "    <tr>\n",
       "      <th>97</th>\n",
       "      <td>0</td>\n",
       "      <td>5</td>\n",
       "      <td>1</td>\n",
       "      <td>True</td>\n",
       "      <td>0.396973</td>\n",
       "    </tr>\n",
       "    <tr>\n",
       "      <th>98</th>\n",
       "      <td>0</td>\n",
       "      <td>5</td>\n",
       "      <td>2</td>\n",
       "      <td>True</td>\n",
       "      <td>0.395020</td>\n",
       "    </tr>\n",
       "    <tr>\n",
       "      <th>99</th>\n",
       "      <td>0</td>\n",
       "      <td>5</td>\n",
       "      <td>3</td>\n",
       "      <td>True</td>\n",
       "      <td>0.323975</td>\n",
       "    </tr>\n",
       "  </tbody>\n",
       "</table>\n",
       "<p>100 rows × 5 columns</p>\n",
       "</div>"
      ],
      "text/plain": [
       "    LCLid  dayoftheyear  hour  is_weekend  KWH/hh (per hour)\n",
       "0       0             1     0       False           0.459961\n",
       "1       0             1     1       False           0.426025\n",
       "2       0             1     2       False           0.411011\n",
       "3       0             1     3       False           0.395020\n",
       "4       0             1     4       False           0.221008\n",
       "..    ...           ...   ...         ...                ...\n",
       "95      0             4    23       False           0.449951\n",
       "96      0             5     0        True           0.402954\n",
       "97      0             5     1        True           0.396973\n",
       "98      0             5     2        True           0.395020\n",
       "99      0             5     3        True           0.323975\n",
       "\n",
       "[100 rows x 5 columns]"
      ]
     },
     "execution_count": 2,
     "metadata": {},
     "output_type": "execute_result"
    }
   ],
   "source": [
    "hourly_data.head(100)"
   ]
  },
  {
   "cell_type": "code",
   "execution_count": null,
   "metadata": {},
   "outputs": [
    {
     "name": "stdout",
     "output_type": "stream",
     "text": [
      "LCLid                0\n",
      "dayoftheyear         0\n",
      "hour                 0\n",
      "is_weekend           0\n",
      "KWH/hh (per hour)    0\n",
      "dtype: int64\n"
     ]
    }
   ],
   "source": [
    "print(hourly_data.isnull().sum())"
   ]
  },
  {
   "cell_type": "code",
   "execution_count": null,
   "metadata": {},
   "outputs": [
    {
     "name": "stdout",
     "output_type": "stream",
     "text": [
      "LCLid                  int16\n",
      "dayoftheyear           int32\n",
      "hour                   int32\n",
      "is_weekend              bool\n",
      "KWH/hh (per hour)    float32\n",
      "dtype: object\n"
     ]
    }
   ],
   "source": [
    "print(hourly_data.dtypes)"
   ]
  },
  {
   "cell_type": "code",
   "execution_count": null,
   "metadata": {},
   "outputs": [
    {
     "name": "stdout",
     "output_type": "stream",
     "text": [
      "[<class 'int'>]\n",
      "[<class 'int'>]\n",
      "[<class 'int'>]\n",
      "[<class 'bool'>]\n",
      "[<class 'float'>]\n"
     ]
    }
   ],
   "source": [
    "\n",
    "\n",
    "# Check the data types in the 'LCLid' column\n",
    "print(hourly_data['LCLid'].apply(type).unique())\n",
    "\n",
    "# Check the data types in the 'dayoftheyear' column\n",
    "print(hourly_data['dayoftheyear'].apply(type).unique())\n",
    "\n",
    "# Check the data types in the 'hour' column\n",
    "print(hourly_data['hour'].apply(type).unique())\n",
    "\n",
    "# Check the data types in the 'hour' column\n",
    "print(hourly_data['is_weekend'].apply(type).unique())\n",
    "\n",
    "# Check the data types in the 'hour' column\n",
    "print(hourly_data['KWH/hh (per hour)'].apply(type).unique())"
   ]
  },
  {
   "cell_type": "code",
   "execution_count": null,
   "metadata": {},
   "outputs": [],
   "source": [
    "hourly_data.nunique()"
   ]
  },
  {
   "cell_type": "code",
   "execution_count": null,
   "metadata": {},
   "outputs": [],
   "source": [
    "hourly_data['LCLid'].duplicated().sum()"
   ]
  }
 ],
 "metadata": {
  "kernelspec": {
   "display_name": "Python 3",
   "language": "python",
   "name": "python3"
  },
  "language_info": {
   "codemirror_mode": {
    "name": "ipython",
    "version": 3
   },
   "file_extension": ".py",
   "mimetype": "text/x-python",
   "name": "python",
   "nbconvert_exporter": "python",
   "pygments_lexer": "ipython3",
   "version": "3.11.9"
  }
 },
 "nbformat": 4,
 "nbformat_minor": 2
}
