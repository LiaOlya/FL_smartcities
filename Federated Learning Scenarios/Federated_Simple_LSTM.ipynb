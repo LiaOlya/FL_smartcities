{
 "cells": [
  {
   "cell_type": "markdown",
   "metadata": {},
   "source": [
    "# Londonn Smart Meters (Simulation with TensorFlow/Keras)\n"
   ]
  },
  {
   "cell_type": "code",
   "execution_count": 1,
   "metadata": {},
   "outputs": [
    {
     "name": "stderr",
     "output_type": "stream",
     "text": [
      "2024-07-10 17:02:49,959\tINFO util.py:154 -- Missing packages: ['ipywidgets']. Run `pip install -U ipywidgets`, then restart the notebook server for rich notebook output.\n"
     ]
    }
   ],
   "source": [
    "import pandas as pd\n",
    "import numpy as np\n",
    "from typing import Dict, List, Tuple\n",
    "\n",
    "from tensorflow.keras.models import Sequential\n",
    "from tensorflow.keras.layers import LSTM, Dense, Dropout\n",
    "from tensorflow.keras.optimizers import Adam\n",
    "from tensorflow import convert_to_tensor\n",
    "\n",
    "import flwr as fl\n",
    "from flwr.common import Metrics\n",
    "\n",
    "from flwr.simulation.ray_transport.utils import enable_tf_gpu_growth\n",
    "\n",
    "import tensorflow as tf\n",
    "\n",
    "# Change NUM_CLIENTS to 100 for FL with Simple LSTM Model where number of clients are equal to number of meters\n",
    "VERBOSE = 0\n",
    "NUM_CLIENTS = 30\n",
    "# Define number of meters to be used in the project \n",
    "NUM_OF_METERS = 100 \n",
    "# write hourly_data['LCLid'].max() to include all meters available in the dataset"
   ]
  },
  {
   "cell_type": "code",
   "execution_count": 2,
   "metadata": {},
   "outputs": [],
   "source": [
    "def get_model():\n",
    "    model = Sequential()\n",
    "    model.add(LSTM(50, return_sequences=False, input_shape=(None, 1))) # This adds an LSTM layer with 50 neurons (units)\n",
    "    model.add(Dropout(0.2))\n",
    "    model.add(Dense(1))\n",
    "\n",
    "    model.compile(optimizer=Adam(learning_rate=0.01), loss='mean_squared_error', metrics=['mean_absolute_error'])\n",
    "    return model"
   ]
  },
  {
   "cell_type": "code",
   "execution_count": 3,
   "metadata": {},
   "outputs": [],
   "source": [
    "class FlowerClient(fl.client.NumPyClient):\n",
    "    def __init__(self, x_train, y_train, x_val, y_val) -> None:\n",
    "        # Create model\n",
    "        self.model = get_model()\n",
    "        self.x_train, self.y_train = x_train, y_train\n",
    "        self.x_val, self.y_val = x_val, y_val\n",
    "\n",
    "    def get_parameters(self, config):\n",
    "        return self.model.get_weights()\n",
    "\n",
    "    def fit(self, parameters, config):\n",
    "        \"\"\"Train parameters on the locally held training set.\"\"\"\n",
    "\n",
    "        # Update local model parameters\n",
    "        self.model.set_weights(parameters)\n",
    "\n",
    "        # Get hyperparameters for this round\n",
    "        #batch_size: int = config[\"batch_size\"]\n",
    "        #epochs: int = config[\"local_epochs\"]\n",
    "\n",
    "        # Train the model using hyperparameters from config\n",
    "        history = self.model.fit(\n",
    "            self.x_train,\n",
    "            self.y_train,\n",
    "            batch_size = 512,\n",
    "            epochs = 10,\n",
    "            verbose=0\n",
    "        )\n",
    "\n",
    "        # Return updated model parameters and results\n",
    "        parameters_prime = self.model.get_weights()\n",
    "        num_examples_train = len(self.x_train)\n",
    "        results = {\n",
    "            \"loss\": history.history[\"loss\"][0],\n",
    "            \"accuracy\": history.history[\"mean_absolute_error\"][0]\n",
    "        }\n",
    "        return parameters_prime, num_examples_train, results\n",
    "\n",
    "    def evaluate(self, parameters, config):\n",
    "        \"\"\"Evaluate parameters on the locally held test set.\"\"\"\n",
    "\n",
    "        # Update local model with global parameters\n",
    "        self.model.set_weights(parameters)\n",
    "\n",
    "        # Get config values\n",
    "        #steps: int = config[\"val_steps\"]\n",
    "\n",
    "        # Evaluate global model parameters on the local test data and return results\n",
    "        results = self.model.evaluate(self.x_val, self.y_val, 32)#, steps=steps)\n",
    "        num_examples_test = len(self.x_val)\n",
    "        return results[0], num_examples_test, {\"accuracy\": results[1]}"
   ]
  },
  {
   "cell_type": "markdown",
   "metadata": {},
   "source": [
    "In order to use preprocessed dataset with only LCLid (unique consumer ID) and KWH/hh (per hour) (energy consumption per hour) columns replace the following cell with the code snipped below:\n",
    "\n",
    "hourly_data = pd.read_csv(\"Preprocessed_data2013_2.csv\", dtype={'LCLid': np.int16, 'KWH/hh (per hour) ': np.float64})\n"
   ]
  },
  {
   "cell_type": "code",
   "execution_count": 4,
   "metadata": {},
   "outputs": [
    {
     "name": "stdout",
     "output_type": "stream",
     "text": [
      "<class 'pandas.core.frame.DataFrame'>\n",
      "RangeIndex: 53148577 entries, 0 to 53148576\n",
      "Data columns (total 5 columns):\n",
      " #   Column              Dtype  \n",
      "---  ------              -----  \n",
      " 0   LCLid               int16  \n",
      " 1   dayoftheyear        int16  \n",
      " 2   hour                int8   \n",
      " 3   is_weekend          int8   \n",
      " 4   KWH/hh (per hour)   float64\n",
      "dtypes: float64(1), int16(2), int8(2)\n",
      "memory usage: 709.6 MB\n"
     ]
    }
   ],
   "source": [
    "# Read the data\n",
    "dataset = pd.read_csv(\"Preprocessed_data.csv\", dtype={'LCLid': np.int16, 'KWH/hh (per hour) ': np.float64, 'dayoftheyear': np.int16,\n",
    "       'hour': np.int8, 'is_weekend': np.int8})\n",
    "\n",
    "dataset.info()"
   ]
  },
  {
   "cell_type": "code",
   "execution_count": 5,
   "metadata": {},
   "outputs": [],
   "source": [
    "def train_test_validate(data):\n",
    "\n",
    "    # Initialize train and validation \n",
    "    train_l = []\n",
    "    val_l = []\n",
    "\n",
    "    # Counter of elements inside the partition \n",
    "    part_counter = 0\n",
    "\n",
    "    # Number of meters that each of the clients will have (note: last client will have more or equal than others)\n",
    "    part_size = int(NUM_OF_METERS / NUM_CLIENTS)\n",
    "\n",
    "    # Initialize counter for the number of partitions \n",
    "    part_id = 0\n",
    "\n",
    "    for i in range(0, NUM_OF_METERS):\n",
    "\n",
    "        # Get the data for current meter\n",
    "        tmp_data = data[data['LCLid'] == i]\n",
    "\n",
    "        # Split index between train and validate\n",
    "        val_split = int(len(tmp_data) * 0.8)\n",
    "        # Split index between validate and test\n",
    "        test_split = int(len(tmp_data) * 0.9)\n",
    "\n",
    "        # Set initial splits for current meter\n",
    "        train_ = tmp_data[:val_split]\n",
    "        vali_ = tmp_data[val_split:test_split]\n",
    "        test_ = tmp_data[test_split:]\n",
    "\n",
    "        # Concatanate the test data \n",
    "        if (i > 0):\n",
    "            test = pd.concat([test, test_], ignore_index=True)\n",
    "        else:\n",
    "            test = test_\n",
    "\n",
    "        # Concatanate train and validation inside current partition  \n",
    "        if (part_counter > 0):\n",
    "            train = pd.concat([train, train_], ignore_index=True)\n",
    "            valid = pd.concat([valid, vali_], ignore_index=True)\n",
    "        else: \n",
    "            train = train_\n",
    "            valid = vali_\n",
    "            \n",
    "        # Increase the counter inside current partition \n",
    "        part_counter += 1\n",
    "        if (part_counter >= part_size) and (part_id < NUM_CLIENTS - 1):\n",
    "\n",
    "            # Reset counter inside current partition for the next one \n",
    "            part_counter = 0\n",
    "\n",
    "            # Append validation and train data to the partition they belong to   \n",
    "            train_l.append(train.reset_index(drop=True))\n",
    "            val_l.append(valid.reset_index(drop=True))\n",
    "\n",
    "            # Increase partition counter\n",
    "            part_id += 1\n",
    "\n",
    "            # Reset values \n",
    "            train = pd.DataFrame()\n",
    "            valid = pd.DataFrame()\n",
    "\n",
    "    if (part_counter != 0):\n",
    "        \n",
    "        # Append train and validation to the last partition\n",
    "        train_l.append(train)\n",
    "        val_l.append(valid)\n",
    "\n",
    "    return {\"train\": train_l, \"test\": test.reset_index(drop=True), \"validation\": val_l}"
   ]
  },
  {
   "cell_type": "code",
   "execution_count": 6,
   "metadata": {},
   "outputs": [],
   "source": [
    "def get_client_fn(partition):\n",
    "    \"\"\"Return a function to construct a client.\n",
    "\n",
    "    The VirtualClientEngine will execute this function whenever a client is sampled by\n",
    "    the strategy to participate.\n",
    "    \"\"\"\n",
    "\n",
    "    def client_fn(cid: str) -> fl.client.Client:\n",
    "        \"\"\"Construct a FlowerClient with its own dataset partition.\"\"\"\n",
    "        \n",
    "        # Extract partition for client with id = cid\n",
    "        trainset = partition[\"train\"][int(cid)]\n",
    "        valset = partition[\"validation\"][int(cid)] \n",
    "\n",
    "        # Split into features and targets and transform into tensors \n",
    "        x_train_tensor = tf.convert_to_tensor(np.asarray(trainset.drop(columns=['KWH/hh (per hour) '])))\n",
    "        y_train_tensor = tf.convert_to_tensor(np.asarray(trainset['KWH/hh (per hour) ']))\n",
    "        x_val_tensor = tf.convert_to_tensor(np.asarray(valset.drop(columns=['KWH/hh (per hour) '])))\n",
    "        y_val_tensor = tf.convert_to_tensor(np.asarray(valset['KWH/hh (per hour) ']))\n",
    "\n",
    "        # Create and return client\n",
    "        return FlowerClient(x_train_tensor, y_train_tensor, x_val_tensor, y_val_tensor).to_client()\n",
    "\n",
    "    return client_fn\n",
    "\n",
    "\n",
    "def weighted_average(metrics: List[Tuple[int, Metrics]]) -> Metrics:\n",
    "    \"\"\"Aggregation function for (federated) evaluation metrics, i.e. those returned by\n",
    "    the client's evaluate() method.\"\"\"\n",
    "    # Multiply accuracy of each client by number of examples used\n",
    "    accuracies = [num_examples * m[\"accuracy\"] for num_examples, m in metrics]\n",
    "    examples = [num_examples for num_examples, _ in metrics]\n",
    "\n",
    "    # Aggregate and return custom metric (weighted average)\n",
    "    return {\"accuracy\": sum(accuracies) / sum(examples)}\n",
    "\n",
    "\n",
    "def get_evaluate_fn(testset):\n",
    "    \"\"\"Return an evaluation function for server-side (i.e. centralised) evaluation.\"\"\"\n",
    "\n",
    "    # The `evaluate` function will be called after every round by the strategy\n",
    "    def evaluate(\n",
    "        server_round: int,\n",
    "        parameters: fl.common.NDArrays,\n",
    "        config: Dict[str, fl.common.Scalar],\n",
    "    ):\n",
    "        model = get_model()  # Construct the model\n",
    "        model.set_weights(parameters)  # Update model with the latest parameters\n",
    "        results = model.evaluate(tf.convert_to_tensor(np.asarray(testset.drop(columns=['KWH/hh (per hour) ']))), \n",
    "                                 tf.convert_to_tensor(np.asarray(testset['KWH/hh (per hour) '])), \n",
    "                                 verbose=VERBOSE)\n",
    "        return results[0], {\"accuracy\": results[1]}\n",
    "\n",
    "    return evaluate"
   ]
  },
  {
   "cell_type": "code",
   "execution_count": 7,
   "metadata": {},
   "outputs": [],
   "source": [
    "from flwr.simulation.ray_transport.utils import enable_tf_gpu_growth\n",
    "# Enable GPU growth in your main process\n",
    "enable_tf_gpu_growth()\n",
    "\n",
    "df_dataset = train_test_validate(dataset)\n",
    "\n",
    "# Get the whole test set for centralised evaluation\n",
    "centralized_testset = df_dataset[\"test\"]\n"
   ]
  },
  {
   "cell_type": "code",
   "execution_count": 8,
   "metadata": {},
   "outputs": [
    {
     "name": "stderr",
     "output_type": "stream",
     "text": [
      "\u001b[93mWARNING \u001b[0m:   \n",
      "Setting `min_available_clients` lower than `min_fit_clients` or\n",
      "`min_evaluate_clients` can cause the server to fail when there are too few clients\n",
      "connected to the server. `min_available_clients` must be set to a value larger\n",
      "than or equal to the values of `min_fit_clients` and `min_evaluate_clients`.\n",
      "\n",
      "\u001b[92mINFO \u001b[0m:      Starting Flower simulation, config: num_rounds=10, no round_timeout\n",
      "2024-07-10 17:03:10,844\tINFO worker.py:1752 -- Started a local Ray instance.\n",
      "\u001b[92mINFO \u001b[0m:      Flower VCE: Ray initialized with resources: {'CPU': 12.0, 'node:__internal_head__': 1.0, 'memory': 11507554715.0, 'object_store_memory': 5753777356.0, 'node:127.0.0.1': 1.0, 'accelerator_type:G': 1.0, 'GPU': 1.0}\n",
      "\u001b[92mINFO \u001b[0m:      Optimize your simulation with Flower VCE: https://flower.ai/docs/framework/how-to-run-simulations.html\n",
      "\u001b[92mINFO \u001b[0m:      Flower VCE: Resources for each Virtual Client: {'num_cpus': 8.0}\n",
      "\u001b[92mINFO \u001b[0m:      Flower VCE: Creating VirtualClientEngineActorPool with 1 actors\n",
      "\u001b[92mINFO \u001b[0m:      [INIT]\n",
      "\u001b[92mINFO \u001b[0m:      Requesting initial parameters from one random client\n",
      "\u001b[36m(pid=11724)\u001b[0m 2024-07-10 17:03:14.358691: I tensorflow/core/util/port.cc:113] oneDNN custom operations are on. You may see slightly different numerical results due to floating-point round-off errors from different computation orders. To turn them off, set the environment variable `TF_ENABLE_ONEDNN_OPTS=0`.\n",
      "\u001b[36m(pid=11724)\u001b[0m 2024-07-10 17:03:15.129202: I tensorflow/core/util/port.cc:113] oneDNN custom operations are on. You may see slightly different numerical results due to floating-point round-off errors from different computation orders. To turn them off, set the environment variable `TF_ENABLE_ONEDNN_OPTS=0`.\n",
      "\u001b[36m(ClientAppActor pid=11724)\u001b[0m 2024-07-10 17:03:16.788199: I tensorflow/core/platform/cpu_feature_guard.cc:210] This TensorFlow binary is optimized to use available CPU instructions in performance-critical operations.\n",
      "\u001b[36m(ClientAppActor pid=11724)\u001b[0m To enable the following instructions: AVX2 FMA, in other operations, rebuild TensorFlow with the appropriate compiler flags.\n",
      "\u001b[36m(ClientAppActor pid=11724)\u001b[0m c:\\Users\\Yedek\\AppData\\Local\\Programs\\Python\\Python311\\Lib\\site-packages\\keras\\src\\layers\\rnn\\rnn.py:204: UserWarning: Do not pass an `input_shape`/`input_dim` argument to a layer. When using Sequential models, prefer using an `Input(shape)` object as the first layer in the model instead.\n",
      "\u001b[36m(ClientAppActor pid=11724)\u001b[0m   super().__init__(**kwargs)\n",
      "\u001b[92mINFO \u001b[0m:      Received initial parameters from one random client\n",
      "\u001b[92mINFO \u001b[0m:      Evaluating initial global parameters\n",
      "c:\\Users\\Yedek\\AppData\\Local\\Programs\\Python\\Python311\\Lib\\site-packages\\keras\\src\\layers\\rnn\\rnn.py:204: UserWarning: Do not pass an `input_shape`/`input_dim` argument to a layer. When using Sequential models, prefer using an `Input(shape)` object as the first layer in the model instead.\n",
      "  super().__init__(**kwargs)\n",
      "\u001b[92mINFO \u001b[0m:      initial parameters (loss, other metrics): 2.3573930263519287, {'accuracy': 0.9640632271766663}\n",
      "\u001b[92mINFO \u001b[0m:      \n",
      "\u001b[92mINFO \u001b[0m:      [ROUND 1]\n",
      "\u001b[92mINFO \u001b[0m:      Sampling failed: number of available clients (30) is less than number of requested clients (40).\n",
      "\u001b[92mINFO \u001b[0m:      configure_fit: no clients selected, cancel\n",
      "c:\\Users\\Yedek\\AppData\\Local\\Programs\\Python\\Python311\\Lib\\site-packages\\keras\\src\\layers\\rnn\\rnn.py:204: UserWarning: Do not pass an `input_shape`/`input_dim` argument to a layer. When using Sequential models, prefer using an `Input(shape)` object as the first layer in the model instead.\n",
      "  super().__init__(**kwargs)\n",
      "\u001b[92mINFO \u001b[0m:      fit progress: (1, 2.3573930263519287, {'accuracy': 0.9640632271766663}, 2.7682141000004776)\n",
      "\u001b[92mINFO \u001b[0m:      configure_evaluate: strategy sampled 10 clients (out of 30)\n",
      "\u001b[36m(ClientAppActor pid=11724)\u001b[0m c:\\Users\\Yedek\\AppData\\Local\\Programs\\Python\\Python311\\Lib\\site-packages\\keras\\src\\layers\\rnn\\rnn.py:204: UserWarning: Do not pass an `input_shape`/`input_dim` argument to a layer. When using Sequential models, prefer using an `Input(shape)` object as the first layer in the model instead.\n",
      "\u001b[36m(ClientAppActor pid=11724)\u001b[0m   super().__init__(**kwargs)\n",
      "\u001b[36m(ClientAppActor pid=11724)\u001b[0m 2024-07-10 17:03:22.790076: E tensorflow/core/util/util.cc:131] oneDNN supports DT_INT16 only on platforms with AVX-512. Falling back to the default Eigen-based implementation if present.\n",
      "\u001b[36m(ClientAppActor pid=11724)\u001b[0m c:\\Users\\Yedek\\AppData\\Local\\Programs\\Python\\Python311\\Lib\\site-packages\\keras\\src\\layers\\rnn\\rnn.py:204: UserWarning: Do not pass an `input_shape`/`input_dim` argument to a layer. When using Sequential models, prefer using an `Input(shape)` object as the first layer in the model instead.\n",
      "\u001b[36m(ClientAppActor pid=11724)\u001b[0m   super().__init__(**kwargs)\n"
     ]
    },
    {
     "name": "stdout",
     "output_type": "stream",
     "text": [
      "\u001b[36m(ClientAppActor pid=11724)\u001b[0m \n",
      "\u001b[36m(ClientAppActor pid=11724)\u001b[0m \u001b[1m  1/132\u001b[0m \u001b[37m━━━━━━━━━━━━━━━━━━━━\u001b[0m \u001b[1m36s\u001b[0m 280ms/step - loss: 1.2314 - mean_absolute_error: 0.8956\n",
      "\u001b[36m(ClientAppActor pid=11724)\u001b[0m \u001b[1m 66/132\u001b[0m \u001b[32m━━━━━━━━━━\u001b[0m\u001b[37m━━━━━━━━━━\u001b[0m \u001b[1m0s\u001b[0m 868us/step - loss: 2.4689 - mean_absolute_error: 1.0788 \n",
      "\u001b[36m(ClientAppActor pid=11724)\u001b[0m \n",
      "\u001b[36m(ClientAppActor pid=11724)\u001b[0m \u001b[1m132/132\u001b[0m \u001b[32m━━━━━━━━━━━━━━━━━━━━\u001b[0m\u001b[37m\u001b[0m \u001b[1m0s\u001b[0m 722us/step - loss: 2.0384 - mean_absolute_error: 0.9261\n",
      "\u001b[36m(ClientAppActor pid=11724)\u001b[0m \n",
      "\u001b[36m(ClientAppActor pid=11724)\u001b[0m \u001b[1m  1/132\u001b[0m \u001b[37m━━━━━━━━━━━━━━━━━━━━\u001b[0m \u001b[1m34s\u001b[0m 261ms/step - loss: 0.9315 - mean_absolute_error: 0.8802\n",
      "\u001b[36m(ClientAppActor pid=11724)\u001b[0m \u001b[1m 88/132\u001b[0m \u001b[32m━━━━━━━━━━━━━\u001b[0m\u001b[37m━━━━━━━\u001b[0m \u001b[1m0s\u001b[0m 641us/step - loss: 2.0324 - mean_absolute_error: 1.1989 \n",
      "\u001b[36m(ClientAppActor pid=11724)\u001b[0m \u001b[1m132/132\u001b[0m \u001b[32m━━━━━━━━━━━━━━━━━━━━\u001b[0m\u001b[37m\u001b[0m \u001b[1m0s\u001b[0m 545us/step - loss: 1.8119 - mean_absolute_error: 1.1129\n"
     ]
    },
    {
     "name": "stderr",
     "output_type": "stream",
     "text": [
      "\u001b[36m(ClientAppActor pid=11724)\u001b[0m c:\\Users\\Yedek\\AppData\\Local\\Programs\\Python\\Python311\\Lib\\site-packages\\keras\\src\\layers\\rnn\\rnn.py:204: UserWarning: Do not pass an `input_shape`/`input_dim` argument to a layer. When using Sequential models, prefer using an `Input(shape)` object as the first layer in the model instead.\n",
      "\u001b[36m(ClientAppActor pid=11724)\u001b[0m   super().__init__(**kwargs)\n"
     ]
    },
    {
     "name": "stdout",
     "output_type": "stream",
     "text": [
      "\u001b[36m(ClientAppActor pid=11724)\u001b[0m \n",
      "\u001b[36m(ClientAppActor pid=11724)\u001b[0m \u001b[1m  1/132\u001b[0m \u001b[37m━━━━━━━━━━━━━━━━━━━━\u001b[0m \u001b[1m51s\u001b[0m 394ms/step - loss: 0.4876 - mean_absolute_error: 0.6747\n",
      "\u001b[36m(ClientAppActor pid=11724)\u001b[0m \u001b[1m103/132\u001b[0m \u001b[32m━━━━━━━━━━━━━━━\u001b[0m\u001b[37m━━━━━\u001b[0m \u001b[1m0s\u001b[0m 613us/step - loss: 2.8519 - mean_absolute_error: 1.2871 \n",
      "\u001b[36m(ClientAppActor pid=11724)\u001b[0m \u001b[1m132/132\u001b[0m \u001b[32m━━━━━━━━━━━━━━━━━━━━\u001b[0m\u001b[37m\u001b[0m \u001b[1m0s\u001b[0m 596us/step - loss: 2.6437 - mean_absolute_error: 1.2201\n"
     ]
    },
    {
     "name": "stderr",
     "output_type": "stream",
     "text": [
      "\u001b[36m(ClientAppActor pid=11724)\u001b[0m c:\\Users\\Yedek\\AppData\\Local\\Programs\\Python\\Python311\\Lib\\site-packages\\keras\\src\\layers\\rnn\\rnn.py:204: UserWarning: Do not pass an `input_shape`/`input_dim` argument to a layer. When using Sequential models, prefer using an `Input(shape)` object as the first layer in the model instead.\n",
      "\u001b[36m(ClientAppActor pid=11724)\u001b[0m   super().__init__(**kwargs)\n"
     ]
    },
    {
     "name": "stdout",
     "output_type": "stream",
     "text": [
      "\u001b[36m(ClientAppActor pid=11724)\u001b[0m \n",
      "\u001b[36m(ClientAppActor pid=11724)\u001b[0m \u001b[1m  1/132\u001b[0m \u001b[37m━━━━━━━━━━━━━━━━━━━━\u001b[0m \u001b[1m35s\u001b[0m 267ms/step - loss: 0.3562 - mean_absolute_error: 0.5761\n",
      "\u001b[36m(ClientAppActor pid=11724)\u001b[0m \n",
      "\u001b[36m(ClientAppActor pid=11724)\u001b[0m \u001b[1m 99/132\u001b[0m \u001b[32m━━━━━━━━━━━━━━━\u001b[0m\u001b[37m━━━━━\u001b[0m \u001b[1m0s\u001b[0m 642us/step - loss: 0.8202 - mean_absolute_error: 0.7681 \n",
      "\u001b[36m(ClientAppActor pid=11724)\u001b[0m \u001b[1m132/132\u001b[0m \u001b[32m━━━━━━━━━━━━━━━━━━━━\u001b[0m\u001b[37m\u001b[0m \u001b[1m0s\u001b[0m 599us/step - loss: 0.8680 - mean_absolute_error: 0.7699\n"
     ]
    },
    {
     "name": "stderr",
     "output_type": "stream",
     "text": [
      "\u001b[36m(ClientAppActor pid=11724)\u001b[0m c:\\Users\\Yedek\\AppData\\Local\\Programs\\Python\\Python311\\Lib\\site-packages\\keras\\src\\layers\\rnn\\rnn.py:204: UserWarning: Do not pass an `input_shape`/`input_dim` argument to a layer. When using Sequential models, prefer using an `Input(shape)` object as the first layer in the model instead.\n",
      "\u001b[36m(ClientAppActor pid=11724)\u001b[0m   super().__init__(**kwargs)\n"
     ]
    },
    {
     "name": "stdout",
     "output_type": "stream",
     "text": [
      "\u001b[36m(ClientAppActor pid=11724)\u001b[0m \n",
      "\u001b[36m(ClientAppActor pid=11724)\u001b[0m \u001b[1m  1/132\u001b[0m \u001b[37m━━━━━━━━━━━━━━━━━━━━\u001b[0m \u001b[1m33s\u001b[0m 254ms/step - loss: 0.0050 - mean_absolute_error: 0.0463\n",
      "\u001b[36m(ClientAppActor pid=11724)\u001b[0m \n",
      "\u001b[36m(ClientAppActor pid=11724)\u001b[0m \u001b[1m 98/132\u001b[0m \u001b[32m━━━━━━━━━━━━━━\u001b[0m\u001b[37m━━━━━━\u001b[0m \u001b[1m0s\u001b[0m 649us/step - loss: 0.2187 - mean_absolute_error: 0.2151 \n",
      "\u001b[36m(ClientAppActor pid=11724)\u001b[0m \u001b[1m132/132\u001b[0m \u001b[32m━━━━━━━━━━━━━━━━━━━━\u001b[0m\u001b[37m\u001b[0m \u001b[1m0s\u001b[0m 599us/step - loss: 0.3147 - mean_absolute_error: 0.2865\n"
     ]
    },
    {
     "name": "stderr",
     "output_type": "stream",
     "text": [
      "\u001b[36m(ClientAppActor pid=11724)\u001b[0m c:\\Users\\Yedek\\AppData\\Local\\Programs\\Python\\Python311\\Lib\\site-packages\\keras\\src\\layers\\rnn\\rnn.py:204: UserWarning: Do not pass an `input_shape`/`input_dim` argument to a layer. When using Sequential models, prefer using an `Input(shape)` object as the first layer in the model instead.\n",
      "\u001b[36m(ClientAppActor pid=11724)\u001b[0m   super().__init__(**kwargs)\n"
     ]
    },
    {
     "name": "stdout",
     "output_type": "stream",
     "text": [
      "\u001b[36m(ClientAppActor pid=11724)\u001b[0m \n",
      "\u001b[36m(ClientAppActor pid=11724)\u001b[0m \u001b[1m  1/547\u001b[0m \u001b[37m━━━━━━━━━━━━━━━━━━━━\u001b[0m \u001b[1m2:14\u001b[0m 246ms/step - loss: 0.0553 - mean_absolute_error: 0.2210\n",
      "\u001b[36m(ClientAppActor pid=11724)\u001b[0m \u001b[1m 79/547\u001b[0m \u001b[32m━━\u001b[0m\u001b[37m━━━━━━━━━━━━━━━━━━\u001b[0m \u001b[1m0s\u001b[0m 801us/step - loss: 0.2610 - mean_absolute_error: 0.3491  \n",
      "\u001b[36m(ClientAppActor pid=11724)\u001b[0m \n",
      "\u001b[36m(ClientAppActor pid=11724)\u001b[0m \u001b[1m189/547\u001b[0m \u001b[32m━━━━━━\u001b[0m\u001b[37m━━━━━━━━━━━━━━\u001b[0m \u001b[1m0s\u001b[0m 669us/step - loss: 0.5484 - mean_absolute_error: 0.5076\n",
      "\u001b[36m(ClientAppActor pid=11724)\u001b[0m \u001b[1m289/547\u001b[0m \u001b[32m━━━━━━━━━━\u001b[0m\u001b[37m━━━━━━━━━━\u001b[0m \u001b[1m0s\u001b[0m 631us/step - loss: 0.7411 - mean_absolute_error: 0.5955\n",
      "\u001b[36m(ClientAppActor pid=11724)\u001b[0m \n",
      "\u001b[36m(ClientAppActor pid=11724)\u001b[0m \u001b[1m385/547\u001b[0m \u001b[32m━━━━━━━━━━━━━━\u001b[0m\u001b[37m━━━━━━\u001b[0m \u001b[1m0s\u001b[0m 614us/step - loss: 0.8752 - mean_absolute_error: 0.6497\n",
      "\u001b[36m(ClientAppActor pid=11724)\u001b[0m \u001b[1m480/547\u001b[0m \u001b[32m━━━━━━━━━━━━━━━━━\u001b[0m\u001b[37m━━━\u001b[0m \u001b[1m0s\u001b[0m 605us/step - loss: 0.9544 - mean_absolute_error: 0.6808\n",
      "\u001b[36m(ClientAppActor pid=11724)\u001b[0m \n",
      "\u001b[36m(ClientAppActor pid=11724)\u001b[0m \u001b[1m547/547\u001b[0m \u001b[32m━━━━━━━━━━━━━━━━━━━━\u001b[0m\u001b[37m\u001b[0m \u001b[1m1s\u001b[0m 576us/step - loss: 0.9863 - mean_absolute_error: 0.6918\n"
     ]
    },
    {
     "name": "stderr",
     "output_type": "stream",
     "text": [
      "\u001b[36m(ClientAppActor pid=11724)\u001b[0m c:\\Users\\Yedek\\AppData\\Local\\Programs\\Python\\Python311\\Lib\\site-packages\\keras\\src\\layers\\rnn\\rnn.py:204: UserWarning: Do not pass an `input_shape`/`input_dim` argument to a layer. When using Sequential models, prefer using an `Input(shape)` object as the first layer in the model instead.\n",
      "\u001b[36m(ClientAppActor pid=11724)\u001b[0m   super().__init__(**kwargs)\n"
     ]
    },
    {
     "name": "stdout",
     "output_type": "stream",
     "text": [
      "\u001b[36m(ClientAppActor pid=11724)\u001b[0m \n",
      "\u001b[36m(ClientAppActor pid=11724)\u001b[0m \u001b[1m  1/132\u001b[0m \u001b[37m━━━━━━━━━━━━━━━━━━━━\u001b[0m \u001b[1m32s\u001b[0m 247ms/step - loss: 0.7483 - mean_absolute_error: 0.7832\n",
      "\u001b[36m(ClientAppActor pid=11724)\u001b[0m \u001b[1m 78/132\u001b[0m \u001b[32m━━━━━━━━━━━\u001b[0m\u001b[37m━━━━━━━━━\u001b[0m \u001b[1m0s\u001b[0m 713us/step - loss: 1.7959 - mean_absolute_error: 1.0592 \n",
      "\u001b[36m(ClientAppActor pid=11724)\u001b[0m \n",
      "\u001b[36m(ClientAppActor pid=11724)\u001b[0m \u001b[1m132/132\u001b[0m \u001b[32m━━━━━━━━━━━━━━━━━━━━\u001b[0m\u001b[37m\u001b[0m \u001b[1m0s\u001b[0m 602us/step - loss: 1.5456 - mean_absolute_error: 0.9594\n"
     ]
    },
    {
     "name": "stderr",
     "output_type": "stream",
     "text": [
      "\u001b[36m(ClientAppActor pid=11724)\u001b[0m c:\\Users\\Yedek\\AppData\\Local\\Programs\\Python\\Python311\\Lib\\site-packages\\keras\\src\\layers\\rnn\\rnn.py:204: UserWarning: Do not pass an `input_shape`/`input_dim` argument to a layer. When using Sequential models, prefer using an `Input(shape)` object as the first layer in the model instead.\n",
      "\u001b[36m(ClientAppActor pid=11724)\u001b[0m   super().__init__(**kwargs)\n",
      "\u001b[36m(ClientAppActor pid=11724)\u001b[0m c:\\Users\\Yedek\\AppData\\Local\\Programs\\Python\\Python311\\Lib\\site-packages\\keras\\src\\layers\\rnn\\rnn.py:204: UserWarning: Do not pass an `input_shape`/`input_dim` argument to a layer. When using Sequential models, prefer using an `Input(shape)` object as the first layer in the model instead.\n",
      "\u001b[36m(ClientAppActor pid=11724)\u001b[0m   super().__init__(**kwargs)\n"
     ]
    },
    {
     "name": "stdout",
     "output_type": "stream",
     "text": [
      "\u001b[36m(ClientAppActor pid=11724)\u001b[0m \n",
      "\u001b[36m(ClientAppActor pid=11724)\u001b[0m \u001b[1m  1/113\u001b[0m \u001b[37m━━━━━━━━━━━━━━━━━━━━\u001b[0m \u001b[1m28s\u001b[0m 252ms/step - loss: 2.3713 - mean_absolute_error: 1.1847\n",
      "\u001b[36m(ClientAppActor pid=11724)\u001b[0m \u001b[1m 83/113\u001b[0m \u001b[32m━━━━━━━━━━━━━━\u001b[0m\u001b[37m━━━━━━\u001b[0m \u001b[1m0s\u001b[0m 761us/step - loss: 1.5852 - mean_absolute_error: 0.8688 \n",
      "\u001b[36m(ClientAppActor pid=11724)\u001b[0m \u001b[1m113/113\u001b[0m \u001b[32m━━━━━━━━━━━━━━━━━━━━\u001b[0m\u001b[37m\u001b[0m \u001b[1m0s\u001b[0m 697us/step - loss: 1.7226 - mean_absolute_error: 0.8555\n",
      "\u001b[36m(ClientAppActor pid=11724)\u001b[0m \n",
      "\u001b[36m(ClientAppActor pid=11724)\u001b[0m \u001b[1m  1/128\u001b[0m \u001b[37m━━━━━━━━━━━━━━━━━━━━\u001b[0m \u001b[1m32s\u001b[0m 253ms/step - loss: 0.2679 - mean_absolute_error: 0.4892\n",
      "\u001b[36m(ClientAppActor pid=11724)\u001b[0m \n",
      "\u001b[36m(ClientAppActor pid=11724)\u001b[0m \u001b[1m 90/128\u001b[0m \u001b[32m━━━━━━━━━━━━━━\u001b[0m\u001b[37m━━━━━━\u001b[0m \u001b[1m0s\u001b[0m 697us/step - loss: 0.2846 - mean_absolute_error: 0.4671 \n",
      "\u001b[36m(ClientAppActor pid=11724)\u001b[0m \u001b[1m128/128\u001b[0m \u001b[32m━━━━━━━━━━━━━━━━━━━━\u001b[0m\u001b[37m\u001b[0m \u001b[1m0s\u001b[0m 615us/step - loss: 0.2620 - mean_absolute_error: 0.4383\n"
     ]
    },
    {
     "name": "stderr",
     "output_type": "stream",
     "text": [
      "\u001b[36m(ClientAppActor pid=11724)\u001b[0m c:\\Users\\Yedek\\AppData\\Local\\Programs\\Python\\Python311\\Lib\\site-packages\\keras\\src\\layers\\rnn\\rnn.py:204: UserWarning: Do not pass an `input_shape`/`input_dim` argument to a layer. When using Sequential models, prefer using an `Input(shape)` object as the first layer in the model instead.\n",
      "\u001b[36m(ClientAppActor pid=11724)\u001b[0m   super().__init__(**kwargs)\n",
      "\u001b[92mINFO \u001b[0m:      aggregate_evaluate: received 10 results and 0 failures\n",
      "\u001b[92mINFO \u001b[0m:      \n",
      "\u001b[92mINFO \u001b[0m:      [ROUND 2]\n",
      "\u001b[92mINFO \u001b[0m:      Sampling failed: number of available clients (30) is less than number of requested clients (40).\n",
      "\u001b[92mINFO \u001b[0m:      configure_fit: no clients selected, cancel\n"
     ]
    },
    {
     "name": "stdout",
     "output_type": "stream",
     "text": [
      "\u001b[36m(ClientAppActor pid=11724)\u001b[0m \n",
      "\u001b[36m(ClientAppActor pid=11724)\u001b[0m \u001b[1m  1/132\u001b[0m \u001b[37m━━━━━━━━━━━━━━━━━━━━\u001b[0m \u001b[1m33s\u001b[0m 252ms/step - loss: 0.7109 - mean_absolute_error: 0.6670\n",
      "\u001b[36m(ClientAppActor pid=11724)\u001b[0m \u001b[1m 90/132\u001b[0m \u001b[32m━━━━━━━━━━━━━\u001b[0m\u001b[37m━━━━━━━\u001b[0m \u001b[1m0s\u001b[0m 702us/step - loss: 0.7894 - mean_absolute_error: 0.7020 \n",
      "\u001b[36m(ClientAppActor pid=11724)\u001b[0m \n",
      "\u001b[36m(ClientAppActor pid=11724)\u001b[0m \u001b[1m132/132\u001b[0m \u001b[32m━━━━━━━━━━━━━━━━━━━━\u001b[0m\u001b[37m\u001b[0m \u001b[1m0s\u001b[0m 599us/step - loss: 0.7282 - mean_absolute_error: 0.6624\n"
     ]
    },
    {
     "name": "stderr",
     "output_type": "stream",
     "text": [
      "c:\\Users\\Yedek\\AppData\\Local\\Programs\\Python\\Python311\\Lib\\site-packages\\keras\\src\\layers\\rnn\\rnn.py:204: UserWarning: Do not pass an `input_shape`/`input_dim` argument to a layer. When using Sequential models, prefer using an `Input(shape)` object as the first layer in the model instead.\n",
      "  super().__init__(**kwargs)\n",
      "\u001b[92mINFO \u001b[0m:      fit progress: (2, 2.3573930263519287, {'accuracy': 0.9640632271766663}, 9.947119000000384)\n",
      "\u001b[92mINFO \u001b[0m:      configure_evaluate: strategy sampled 10 clients (out of 30)\n",
      "\u001b[36m(ClientAppActor pid=11724)\u001b[0m c:\\Users\\Yedek\\AppData\\Local\\Programs\\Python\\Python311\\Lib\\site-packages\\keras\\src\\layers\\rnn\\rnn.py:204: UserWarning: Do not pass an `input_shape`/`input_dim` argument to a layer. When using Sequential models, prefer using an `Input(shape)` object as the first layer in the model instead.\n",
      "\u001b[36m(ClientAppActor pid=11724)\u001b[0m   super().__init__(**kwargs)\n"
     ]
    },
    {
     "name": "stdout",
     "output_type": "stream",
     "text": [
      "\u001b[36m(ClientAppActor pid=11724)\u001b[0m \n",
      "\u001b[36m(ClientAppActor pid=11724)\u001b[0m \u001b[1m  1/121\u001b[0m \u001b[37m━━━━━━━━━━━━━━━━━━━━\u001b[0m \u001b[1m29s\u001b[0m 245ms/step - loss: 6.2059 - mean_absolute_error: 2.1670\n",
      "\u001b[36m(ClientAppActor pid=11724)\u001b[0m \u001b[1m 91/121\u001b[0m \u001b[32m━━━━━━━━━━━━━━━\u001b[0m\u001b[37m━━━━━\u001b[0m \u001b[1m0s\u001b[0m 695us/step - loss: 5.7434 - mean_absolute_error: 1.8552 \n",
      "\u001b[36m(ClientAppActor pid=11724)\u001b[0m \n",
      "\u001b[36m(ClientAppActor pid=11724)\u001b[0m \u001b[1m121/121\u001b[0m \u001b[32m━━━━━━━━━━━━━━━━━━━━\u001b[0m\u001b[37m\u001b[0m \u001b[1m0s\u001b[0m 654us/step - loss: 5.1636 - mean_absolute_error: 1.7147\n"
     ]
    },
    {
     "name": "stderr",
     "output_type": "stream",
     "text": [
      "\u001b[36m(ClientAppActor pid=11724)\u001b[0m c:\\Users\\Yedek\\AppData\\Local\\Programs\\Python\\Python311\\Lib\\site-packages\\keras\\src\\layers\\rnn\\rnn.py:204: UserWarning: Do not pass an `input_shape`/`input_dim` argument to a layer. When using Sequential models, prefer using an `Input(shape)` object as the first layer in the model instead.\n",
      "\u001b[36m(ClientAppActor pid=11724)\u001b[0m   super().__init__(**kwargs)\n"
     ]
    },
    {
     "name": "stdout",
     "output_type": "stream",
     "text": [
      "\u001b[36m(ClientAppActor pid=11724)\u001b[0m \n",
      "\u001b[36m(ClientAppActor pid=11724)\u001b[0m \u001b[1m  1/132\u001b[0m \u001b[37m━━━━━━━━━━━━━━━━━━━━\u001b[0m \u001b[1m33s\u001b[0m 253ms/step - loss: 0.9315 - mean_absolute_error: 0.8802\n",
      "\u001b[36m(ClientAppActor pid=11724)\u001b[0m \u001b[1m 93/132\u001b[0m \u001b[32m━━━━━━━━━━━━━━\u001b[0m\u001b[37m━━━━━━\u001b[0m \u001b[1m0s\u001b[0m 672us/step - loss: 2.0035 - mean_absolute_error: 1.1883 \n",
      "\u001b[36m(ClientAppActor pid=11724)\u001b[0m \u001b[1m132/132\u001b[0m \u001b[32m━━━━━━━━━━━━━━━━━━━━\u001b[0m\u001b[37m\u001b[0m \u001b[1m0s\u001b[0m 591us/step - loss: 1.8119 - mean_absolute_error: 1.1129\n"
     ]
    },
    {
     "name": "stderr",
     "output_type": "stream",
     "text": [
      "\u001b[36m(ClientAppActor pid=11724)\u001b[0m c:\\Users\\Yedek\\AppData\\Local\\Programs\\Python\\Python311\\Lib\\site-packages\\keras\\src\\layers\\rnn\\rnn.py:204: UserWarning: Do not pass an `input_shape`/`input_dim` argument to a layer. When using Sequential models, prefer using an `Input(shape)` object as the first layer in the model instead.\n",
      "\u001b[36m(ClientAppActor pid=11724)\u001b[0m   super().__init__(**kwargs)\n"
     ]
    },
    {
     "name": "stdout",
     "output_type": "stream",
     "text": [
      "\u001b[36m(ClientAppActor pid=11724)\u001b[0m \n",
      "\u001b[36m(ClientAppActor pid=11724)\u001b[0m \u001b[1m  1/128\u001b[0m \u001b[37m━━━━━━━━━━━━━━━━━━━━\u001b[0m \u001b[1m31s\u001b[0m 245ms/step - loss: 0.2679 - mean_absolute_error: 0.4892\n",
      "\u001b[36m(ClientAppActor pid=11724)\u001b[0m \n",
      "\u001b[36m(ClientAppActor pid=11724)\u001b[0m \u001b[1m 81/128\u001b[0m \u001b[32m━━━━━━━━━━━━\u001b[0m\u001b[37m━━━━━━━━\u001b[0m \u001b[1m0s\u001b[0m 691us/step - loss: 0.2918 - mean_absolute_error: 0.4741 \n",
      "\u001b[36m(ClientAppActor pid=11724)\u001b[0m \u001b[1m128/128\u001b[0m \u001b[32m━━━━━━━━━━━━━━━━━━━━\u001b[0m\u001b[37m\u001b[0m \u001b[1m0s\u001b[0m 621us/step - loss: 0.2620 - mean_absolute_error: 0.4383\n"
     ]
    },
    {
     "name": "stderr",
     "output_type": "stream",
     "text": [
      "\u001b[36m(ClientAppActor pid=11724)\u001b[0m c:\\Users\\Yedek\\AppData\\Local\\Programs\\Python\\Python311\\Lib\\site-packages\\keras\\src\\layers\\rnn\\rnn.py:204: UserWarning: Do not pass an `input_shape`/`input_dim` argument to a layer. When using Sequential models, prefer using an `Input(shape)` object as the first layer in the model instead.\n",
      "\u001b[36m(ClientAppActor pid=11724)\u001b[0m   super().__init__(**kwargs)\n"
     ]
    },
    {
     "name": "stdout",
     "output_type": "stream",
     "text": [
      "\u001b[36m(ClientAppActor pid=11724)\u001b[0m \n",
      "\u001b[36m(ClientAppActor pid=11724)\u001b[0m \u001b[1m  1/132\u001b[0m \u001b[37m━━━━━━━━━━━━━━━━━━━━\u001b[0m \u001b[1m32s\u001b[0m 251ms/step - loss: 0.7263 - mean_absolute_error: 0.7276\n",
      "\u001b[36m(ClientAppActor pid=11724)\u001b[0m \u001b[1m 97/132\u001b[0m \u001b[32m━━━━━━━━━━━━━━\u001b[0m\u001b[37m━━━━━━\u001b[0m \u001b[1m0s\u001b[0m 651us/step - loss: 0.3450 - mean_absolute_error: 0.4876 \n",
      "\u001b[36m(ClientAppActor pid=11724)\u001b[0m \u001b[1m132/132\u001b[0m \u001b[32m━━━━━━━━━━━━━━━━━━━━\u001b[0m\u001b[37m\u001b[0m \u001b[1m0s\u001b[0m 599us/step - loss: 0.3844 - mean_absolute_error: 0.5002\n"
     ]
    },
    {
     "name": "stderr",
     "output_type": "stream",
     "text": [
      "\u001b[36m(ClientAppActor pid=11724)\u001b[0m c:\\Users\\Yedek\\AppData\\Local\\Programs\\Python\\Python311\\Lib\\site-packages\\keras\\src\\layers\\rnn\\rnn.py:204: UserWarning: Do not pass an `input_shape`/`input_dim` argument to a layer. When using Sequential models, prefer using an `Input(shape)` object as the first layer in the model instead.\n",
      "\u001b[36m(ClientAppActor pid=11724)\u001b[0m   super().__init__(**kwargs)\n"
     ]
    },
    {
     "name": "stdout",
     "output_type": "stream",
     "text": [
      "\u001b[36m(ClientAppActor pid=11724)\u001b[0m \n",
      "\u001b[36m(ClientAppActor pid=11724)\u001b[0m \u001b[1m 1/98\u001b[0m \u001b[37m━━━━━━━━━━━━━━━━━━━━\u001b[0m \u001b[1m24s\u001b[0m 253ms/step - loss: 0.6670 - mean_absolute_error: 0.7618\n",
      "\u001b[36m(ClientAppActor pid=11724)\u001b[0m \n",
      "\u001b[36m(ClientAppActor pid=11724)\u001b[0m \u001b[1m96/98\u001b[0m \u001b[32m━━━━━━━━━━━━━━━━━━━\u001b[0m\u001b[37m━\u001b[0m \u001b[1m0s\u001b[0m 662us/step - loss: 1.0947 - mean_absolute_error: 0.7650 \n",
      "\u001b[36m(ClientAppActor pid=11724)\u001b[0m \u001b[1m98/98\u001b[0m \u001b[32m━━━━━━━━━━━━━━━━━━━━\u001b[0m\u001b[37m\u001b[0m \u001b[1m0s\u001b[0m 648us/step - loss: 1.1102 - mean_absolute_error: 0.7708\n"
     ]
    },
    {
     "name": "stderr",
     "output_type": "stream",
     "text": [
      "\u001b[36m(ClientAppActor pid=11724)\u001b[0m c:\\Users\\Yedek\\AppData\\Local\\Programs\\Python\\Python311\\Lib\\site-packages\\keras\\src\\layers\\rnn\\rnn.py:204: UserWarning: Do not pass an `input_shape`/`input_dim` argument to a layer. When using Sequential models, prefer using an `Input(shape)` object as the first layer in the model instead.\n",
      "\u001b[36m(ClientAppActor pid=11724)\u001b[0m   super().__init__(**kwargs)\n"
     ]
    },
    {
     "name": "stdout",
     "output_type": "stream",
     "text": [
      "\u001b[36m(ClientAppActor pid=11724)\u001b[0m \n",
      "\u001b[36m(ClientAppActor pid=11724)\u001b[0m \u001b[1m  1/132\u001b[0m \u001b[37m━━━━━━━━━━━━━━━━━━━━\u001b[0m \u001b[1m33s\u001b[0m 257ms/step - loss: 0.1033 - mean_absolute_error: 0.3080\n",
      "\u001b[36m(ClientAppActor pid=11724)\u001b[0m \u001b[1m 93/132\u001b[0m \u001b[32m━━━━━━━━━━━━━━\u001b[0m\u001b[37m━━━━━━\u001b[0m \u001b[1m0s\u001b[0m 629us/step - loss: 0.2621 - mean_absolute_error: 0.4243 \n",
      "\u001b[36m(ClientAppActor pid=11724)\u001b[0m \n",
      "\u001b[36m(ClientAppActor pid=11724)\u001b[0m \u001b[1m132/132\u001b[0m \u001b[32m━━━━━━━━━━━━━━━━━━━━\u001b[0m\u001b[37m\u001b[0m \u001b[1m0s\u001b[0m 564us/step - loss: 0.3007 - mean_absolute_error: 0.4379\n"
     ]
    },
    {
     "name": "stderr",
     "output_type": "stream",
     "text": [
      "\u001b[36m(ClientAppActor pid=11724)\u001b[0m c:\\Users\\Yedek\\AppData\\Local\\Programs\\Python\\Python311\\Lib\\site-packages\\keras\\src\\layers\\rnn\\rnn.py:204: UserWarning: Do not pass an `input_shape`/`input_dim` argument to a layer. When using Sequential models, prefer using an `Input(shape)` object as the first layer in the model instead.\n",
      "\u001b[36m(ClientAppActor pid=11724)\u001b[0m   super().__init__(**kwargs)\n"
     ]
    },
    {
     "name": "stdout",
     "output_type": "stream",
     "text": [
      "\u001b[36m(ClientAppActor pid=11724)\u001b[0m \n",
      "\u001b[36m(ClientAppActor pid=11724)\u001b[0m \u001b[1m  1/128\u001b[0m \u001b[37m━━━━━━━━━━━━━━━━━━━━\u001b[0m \u001b[1m32s\u001b[0m 252ms/step - loss: 0.9348 - mean_absolute_error: 0.8182\n",
      "\u001b[36m(ClientAppActor pid=11724)\u001b[0m \u001b[1m 93/128\u001b[0m \u001b[32m━━━━━━━━━━━━━━\u001b[0m\u001b[37m━━━━━━\u001b[0m \u001b[1m0s\u001b[0m 684us/step - loss: 0.6349 - mean_absolute_error: 0.6486 \n",
      "\u001b[36m(ClientAppActor pid=11724)\u001b[0m \u001b[1m128/128\u001b[0m \u001b[32m━━━━━━━━━━━━━━━━━━━━\u001b[0m\u001b[37m\u001b[0m \u001b[1m0s\u001b[0m 618us/step - loss: 0.5894 - mean_absolute_error: 0.6273\n"
     ]
    },
    {
     "name": "stderr",
     "output_type": "stream",
     "text": [
      "\u001b[36m(ClientAppActor pid=11724)\u001b[0m c:\\Users\\Yedek\\AppData\\Local\\Programs\\Python\\Python311\\Lib\\site-packages\\keras\\src\\layers\\rnn\\rnn.py:204: UserWarning: Do not pass an `input_shape`/`input_dim` argument to a layer. When using Sequential models, prefer using an `Input(shape)` object as the first layer in the model instead.\n",
      "\u001b[36m(ClientAppActor pid=11724)\u001b[0m   super().__init__(**kwargs)\n"
     ]
    },
    {
     "name": "stdout",
     "output_type": "stream",
     "text": [
      "\u001b[36m(ClientAppActor pid=11724)\u001b[0m \n",
      "\u001b[36m(ClientAppActor pid=11724)\u001b[0m \u001b[1m  1/132\u001b[0m \u001b[37m━━━━━━━━━━━━━━━━━━━━\u001b[0m \u001b[1m32s\u001b[0m 247ms/step - loss: 0.2711 - mean_absolute_error: 0.4863\n",
      "\u001b[36m(ClientAppActor pid=11724)\u001b[0m \n",
      "\u001b[36m(ClientAppActor pid=11724)\u001b[0m \u001b[1m 81/132\u001b[0m \u001b[32m━━━━━━━━━━━━\u001b[0m\u001b[37m━━━━━━━━\u001b[0m \u001b[1m0s\u001b[0m 780us/step - loss: 0.4898 - mean_absolute_error: 0.6082 \n",
      "\u001b[36m(ClientAppActor pid=11724)\u001b[0m \u001b[1m132/132\u001b[0m \u001b[32m━━━━━━━━━━━━━━━━━━━━\u001b[0m\u001b[37m\u001b[0m \u001b[1m0s\u001b[0m 596us/step - loss: 0.5273 - mean_absolute_error: 0.6178\n"
     ]
    },
    {
     "name": "stderr",
     "output_type": "stream",
     "text": [
      "\u001b[36m(ClientAppActor pid=11724)\u001b[0m c:\\Users\\Yedek\\AppData\\Local\\Programs\\Python\\Python311\\Lib\\site-packages\\keras\\src\\layers\\rnn\\rnn.py:204: UserWarning: Do not pass an `input_shape`/`input_dim` argument to a layer. When using Sequential models, prefer using an `Input(shape)` object as the first layer in the model instead.\n",
      "\u001b[36m(ClientAppActor pid=11724)\u001b[0m   super().__init__(**kwargs)\n"
     ]
    },
    {
     "name": "stdout",
     "output_type": "stream",
     "text": [
      "\u001b[36m(ClientAppActor pid=11724)\u001b[0m \n",
      "\u001b[36m(ClientAppActor pid=11724)\u001b[0m \u001b[1m  1/123\u001b[0m \u001b[37m━━━━━━━━━━━━━━━━━━━━\u001b[0m \u001b[1m30s\u001b[0m 252ms/step - loss: 0.0138 - mean_absolute_error: 0.0967\n",
      "\u001b[36m(ClientAppActor pid=11724)\u001b[0m \n",
      "\u001b[36m(ClientAppActor pid=11724)\u001b[0m \u001b[1m106/123\u001b[0m \u001b[32m━━━━━━━━━━━━━━━━━\u001b[0m\u001b[37m━━━\u001b[0m \u001b[1m0s\u001b[0m 598us/step - loss: 0.3340 - mean_absolute_error: 0.3996 \n",
      "\u001b[36m(ClientAppActor pid=11724)\u001b[0m \u001b[1m123/123\u001b[0m \u001b[32m━━━━━━━━━━━━━━━━━━━━\u001b[0m\u001b[37m\u001b[0m \u001b[1m0s\u001b[0m 515us/step - loss: 0.4021 - mean_absolute_error: 0.4434\n"
     ]
    },
    {
     "name": "stderr",
     "output_type": "stream",
     "text": [
      "\u001b[36m(ClientAppActor pid=11724)\u001b[0m c:\\Users\\Yedek\\AppData\\Local\\Programs\\Python\\Python311\\Lib\\site-packages\\keras\\src\\layers\\rnn\\rnn.py:204: UserWarning: Do not pass an `input_shape`/`input_dim` argument to a layer. When using Sequential models, prefer using an `Input(shape)` object as the first layer in the model instead.\n",
      "\u001b[36m(ClientAppActor pid=11724)\u001b[0m   super().__init__(**kwargs)\n",
      "\u001b[92mINFO \u001b[0m:      aggregate_evaluate: received 10 results and 0 failures\n",
      "\u001b[92mINFO \u001b[0m:      \n",
      "\u001b[92mINFO \u001b[0m:      [ROUND 3]\n",
      "\u001b[92mINFO \u001b[0m:      Sampling failed: number of available clients (30) is less than number of requested clients (40).\n",
      "\u001b[92mINFO \u001b[0m:      configure_fit: no clients selected, cancel\n",
      "c:\\Users\\Yedek\\AppData\\Local\\Programs\\Python\\Python311\\Lib\\site-packages\\keras\\src\\layers\\rnn\\rnn.py:204: UserWarning: Do not pass an `input_shape`/`input_dim` argument to a layer. When using Sequential models, prefer using an `Input(shape)` object as the first layer in the model instead.\n",
      "  super().__init__(**kwargs)\n"
     ]
    },
    {
     "name": "stdout",
     "output_type": "stream",
     "text": [
      "\u001b[36m(ClientAppActor pid=11724)\u001b[0m \n",
      "\u001b[36m(ClientAppActor pid=11724)\u001b[0m \u001b[1m  1/132\u001b[0m \u001b[37m━━━━━━━━━━━━━━━━━━━━\u001b[0m \u001b[1m33s\u001b[0m 253ms/step - loss: 0.5002 - mean_absolute_error: 0.6486\n",
      "\u001b[36m(ClientAppActor pid=11724)\u001b[0m \u001b[1m 89/132\u001b[0m \u001b[32m━━━━━━━━━━━━━\u001b[0m\u001b[37m━━━━━━━\u001b[0m \u001b[1m0s\u001b[0m 715us/step - loss: 1.2656 - mean_absolute_error: 0.8959 \n",
      "\u001b[36m(ClientAppActor pid=11724)\u001b[0m \u001b[1m132/132\u001b[0m \u001b[32m━━━━━━━━━━━━━━━━━━━━\u001b[0m\u001b[37m\u001b[0m \u001b[1m0s\u001b[0m 599us/step - loss: 1.4944 - mean_absolute_error: 0.9325\n"
     ]
    },
    {
     "name": "stderr",
     "output_type": "stream",
     "text": [
      "\u001b[92mINFO \u001b[0m:      fit progress: (3, 2.3573930263519287, {'accuracy': 0.9640632271766663}, 16.78127989999848)\n",
      "\u001b[92mINFO \u001b[0m:      configure_evaluate: strategy sampled 10 clients (out of 30)\n",
      "\u001b[36m(ClientAppActor pid=11724)\u001b[0m c:\\Users\\Yedek\\AppData\\Local\\Programs\\Python\\Python311\\Lib\\site-packages\\keras\\src\\layers\\rnn\\rnn.py:204: UserWarning: Do not pass an `input_shape`/`input_dim` argument to a layer. When using Sequential models, prefer using an `Input(shape)` object as the first layer in the model instead.\n",
      "\u001b[36m(ClientAppActor pid=11724)\u001b[0m   super().__init__(**kwargs)\n",
      "\u001b[36m(ClientAppActor pid=11724)\u001b[0m c:\\Users\\Yedek\\AppData\\Local\\Programs\\Python\\Python311\\Lib\\site-packages\\keras\\src\\layers\\rnn\\rnn.py:204: UserWarning: Do not pass an `input_shape`/`input_dim` argument to a layer. When using Sequential models, prefer using an `Input(shape)` object as the first layer in the model instead.\n",
      "\u001b[36m(ClientAppActor pid=11724)\u001b[0m   super().__init__(**kwargs)\n"
     ]
    },
    {
     "name": "stdout",
     "output_type": "stream",
     "text": [
      "\u001b[36m(ClientAppActor pid=11724)\u001b[0m \n",
      "\u001b[36m(ClientAppActor pid=11724)\u001b[0m \u001b[1m  1/113\u001b[0m \u001b[37m━━━━━━━━━━━━━━━━━━━━\u001b[0m \u001b[1m28s\u001b[0m 252ms/step - loss: 2.3713 - mean_absolute_error: 1.1847\n",
      "\u001b[36m(ClientAppActor pid=11724)\u001b[0m \u001b[1m 96/113\u001b[0m \u001b[32m━━━━━━━━━━━━━━━━\u001b[0m\u001b[37m━━━━\u001b[0m \u001b[1m0s\u001b[0m 663us/step - loss: 1.6793 - mean_absolute_error: 0.8704 \n",
      "\u001b[36m(ClientAppActor pid=11724)\u001b[0m \u001b[1m113/113\u001b[0m \u001b[32m━━━━━━━━━━━━━━━━━━━━\u001b[0m\u001b[37m\u001b[0m \u001b[1m0s\u001b[0m 562us/step - loss: 1.7226 - mean_absolute_error: 0.8555\n",
      "\u001b[36m(ClientAppActor pid=11724)\u001b[0m \n",
      "\u001b[36m(ClientAppActor pid=11724)\u001b[0m \u001b[1m  1/132\u001b[0m \u001b[37m━━━━━━━━━━━━━━━━━━━━\u001b[0m \u001b[1m33s\u001b[0m 253ms/step - loss: 0.3714 - mean_absolute_error: 0.5183\n",
      "\u001b[36m(ClientAppActor pid=11724)\u001b[0m \n",
      "\u001b[36m(ClientAppActor pid=11724)\u001b[0m \u001b[1m 93/132\u001b[0m \u001b[32m━━━━━━━━━━━━━━\u001b[0m\u001b[37m━━━━━━\u001b[0m \u001b[1m0s\u001b[0m 688us/step - loss: 0.7028 - mean_absolute_error: 0.6480 \n",
      "\u001b[36m(ClientAppActor pid=11724)\u001b[0m \u001b[1m132/132\u001b[0m \u001b[32m━━━━━━━━━━━━━━━━━━━━\u001b[0m\u001b[37m\u001b[0m \u001b[1m0s\u001b[0m 602us/step - loss: 0.6598 - mean_absolute_error: 0.6325\n"
     ]
    },
    {
     "name": "stderr",
     "output_type": "stream",
     "text": [
      "\u001b[36m(ClientAppActor pid=11724)\u001b[0m c:\\Users\\Yedek\\AppData\\Local\\Programs\\Python\\Python311\\Lib\\site-packages\\keras\\src\\layers\\rnn\\rnn.py:204: UserWarning: Do not pass an `input_shape`/`input_dim` argument to a layer. When using Sequential models, prefer using an `Input(shape)` object as the first layer in the model instead.\n",
      "\u001b[36m(ClientAppActor pid=11724)\u001b[0m   super().__init__(**kwargs)\n"
     ]
    },
    {
     "name": "stdout",
     "output_type": "stream",
     "text": [
      "\u001b[36m(ClientAppActor pid=11724)\u001b[0m \n",
      "\u001b[36m(ClientAppActor pid=11724)\u001b[0m \u001b[1m  1/132\u001b[0m \u001b[37m━━━━━━━━━━━━━━━━━━━━\u001b[0m \u001b[1m33s\u001b[0m 252ms/step - loss: 0.2986 - mean_absolute_error: 0.4749\n",
      "\u001b[36m(ClientAppActor pid=11724)\u001b[0m \u001b[1m 79/132\u001b[0m \u001b[32m━━━━━━━━━━━\u001b[0m\u001b[37m━━━━━━━━━\u001b[0m \u001b[1m0s\u001b[0m 766us/step - loss: 0.6002 - mean_absolute_error: 0.6243 \n",
      "\u001b[36m(ClientAppActor pid=11724)\u001b[0m \n",
      "\u001b[36m(ClientAppActor pid=11724)\u001b[0m \u001b[1m132/132\u001b[0m \u001b[32m━━━━━━━━━━━━━━━━━━━━\u001b[0m\u001b[37m\u001b[0m \u001b[1m0s\u001b[0m 602us/step - loss: 0.5294 - mean_absolute_error: 0.5687\n"
     ]
    },
    {
     "name": "stderr",
     "output_type": "stream",
     "text": [
      "\u001b[36m(ClientAppActor pid=11724)\u001b[0m c:\\Users\\Yedek\\AppData\\Local\\Programs\\Python\\Python311\\Lib\\site-packages\\keras\\src\\layers\\rnn\\rnn.py:204: UserWarning: Do not pass an `input_shape`/`input_dim` argument to a layer. When using Sequential models, prefer using an `Input(shape)` object as the first layer in the model instead.\n",
      "\u001b[36m(ClientAppActor pid=11724)\u001b[0m   super().__init__(**kwargs)\n"
     ]
    },
    {
     "name": "stdout",
     "output_type": "stream",
     "text": [
      "\u001b[36m(ClientAppActor pid=11724)\u001b[0m \n",
      "\u001b[36m(ClientAppActor pid=11724)\u001b[0m \u001b[1m  1/128\u001b[0m \u001b[37m━━━━━━━━━━━━━━━━━━━━\u001b[0m \u001b[1m33s\u001b[0m 261ms/step - loss: 0.1980 - mean_absolute_error: 0.4256\n",
      "\u001b[36m(ClientAppActor pid=11724)\u001b[0m \u001b[1m105/128\u001b[0m \u001b[32m━━━━━━━━━━━━━━━━\u001b[0m\u001b[37m━━━━\u001b[0m \u001b[1m0s\u001b[0m 605us/step - loss: 0.4039 - mean_absolute_error: 0.5254 \n",
      "\u001b[36m(ClientAppActor pid=11724)\u001b[0m \n",
      "\u001b[36m(ClientAppActor pid=11724)\u001b[0m \u001b[1m128/128\u001b[0m \u001b[32m━━━━━━━━━━━━━━━━━━━━\u001b[0m\u001b[37m\u001b[0m \u001b[1m0s\u001b[0m 531us/step - loss: 0.5716 - mean_absolute_error: 0.5774\n"
     ]
    },
    {
     "name": "stderr",
     "output_type": "stream",
     "text": [
      "\u001b[36m(ClientAppActor pid=11724)\u001b[0m c:\\Users\\Yedek\\AppData\\Local\\Programs\\Python\\Python311\\Lib\\site-packages\\keras\\src\\layers\\rnn\\rnn.py:204: UserWarning: Do not pass an `input_shape`/`input_dim` argument to a layer. When using Sequential models, prefer using an `Input(shape)` object as the first layer in the model instead.\n",
      "\u001b[36m(ClientAppActor pid=11724)\u001b[0m   super().__init__(**kwargs)\n"
     ]
    },
    {
     "name": "stdout",
     "output_type": "stream",
     "text": [
      "\u001b[36m(ClientAppActor pid=11724)\u001b[0m \n",
      "\u001b[36m(ClientAppActor pid=11724)\u001b[0m \u001b[1m  1/132\u001b[0m \u001b[37m━━━━━━━━━━━━━━━━━━━━\u001b[0m \u001b[1m32s\u001b[0m 251ms/step - loss: 0.4876 - mean_absolute_error: 0.6747\n",
      "\u001b[36m(ClientAppActor pid=11724)\u001b[0m \n",
      "\u001b[36m(ClientAppActor pid=11724)\u001b[0m \u001b[1m101/132\u001b[0m \u001b[32m━━━━━━━━━━━━━━━\u001b[0m\u001b[37m━━━━━\u001b[0m \u001b[1m0s\u001b[0m 628us/step - loss: 2.8660 - mean_absolute_error: 1.2918 \n",
      "\u001b[36m(ClientAppActor pid=11724)\u001b[0m \u001b[1m132/132\u001b[0m \u001b[32m━━━━━━━━━━━━━━━━━━━━\u001b[0m\u001b[37m\u001b[0m \u001b[1m0s\u001b[0m 599us/step - loss: 2.6437 - mean_absolute_error: 1.2201\n"
     ]
    },
    {
     "name": "stderr",
     "output_type": "stream",
     "text": [
      "\u001b[36m(ClientAppActor pid=11724)\u001b[0m c:\\Users\\Yedek\\AppData\\Local\\Programs\\Python\\Python311\\Lib\\site-packages\\keras\\src\\layers\\rnn\\rnn.py:204: UserWarning: Do not pass an `input_shape`/`input_dim` argument to a layer. When using Sequential models, prefer using an `Input(shape)` object as the first layer in the model instead.\n",
      "\u001b[36m(ClientAppActor pid=11724)\u001b[0m   super().__init__(**kwargs)\n"
     ]
    },
    {
     "name": "stdout",
     "output_type": "stream",
     "text": [
      "\u001b[36m(ClientAppActor pid=11724)\u001b[0m \n",
      "\u001b[36m(ClientAppActor pid=11724)\u001b[0m \u001b[1m  1/128\u001b[0m \u001b[37m━━━━━━━━━━━━━━━━━━━━\u001b[0m \u001b[1m33s\u001b[0m 268ms/step - loss: 0.9348 - mean_absolute_error: 0.8182\n",
      "\u001b[36m(ClientAppActor pid=11724)\u001b[0m \n",
      "\u001b[36m(ClientAppActor pid=11724)\u001b[0m \u001b[1m105/128\u001b[0m \u001b[32m━━━━━━━━━━━━━━━━\u001b[0m\u001b[37m━━━━\u001b[0m \u001b[1m0s\u001b[0m 609us/step - loss: 0.6187 - mean_absolute_error: 0.6412 \n",
      "\u001b[36m(ClientAppActor pid=11724)\u001b[0m \u001b[1m128/128\u001b[0m \u001b[32m━━━━━━━━━━━━━━━━━━━━\u001b[0m\u001b[37m\u001b[0m \u001b[1m0s\u001b[0m 498us/step - loss: 0.5894 - mean_absolute_error: 0.6273\n"
     ]
    },
    {
     "name": "stderr",
     "output_type": "stream",
     "text": [
      "\u001b[36m(ClientAppActor pid=11724)\u001b[0m c:\\Users\\Yedek\\AppData\\Local\\Programs\\Python\\Python311\\Lib\\site-packages\\keras\\src\\layers\\rnn\\rnn.py:204: UserWarning: Do not pass an `input_shape`/`input_dim` argument to a layer. When using Sequential models, prefer using an `Input(shape)` object as the first layer in the model instead.\n",
      "\u001b[36m(ClientAppActor pid=11724)\u001b[0m   super().__init__(**kwargs)\n"
     ]
    },
    {
     "name": "stdout",
     "output_type": "stream",
     "text": [
      "\u001b[36m(ClientAppActor pid=11724)\u001b[0m \n",
      "\u001b[36m(ClientAppActor pid=11724)\u001b[0m \u001b[1m  1/111\u001b[0m \u001b[37m━━━━━━━━━━━━━━━━━━━━\u001b[0m \u001b[1m27s\u001b[0m 252ms/step - loss: 0.0339 - mean_absolute_error: 0.1710\n",
      "\u001b[36m(ClientAppActor pid=11724)\u001b[0m \u001b[1m106/111\u001b[0m \u001b[32m━━━━━━━━━━━━━━━━━━━\u001b[0m\u001b[37m━\u001b[0m \u001b[1m0s\u001b[0m 603us/step - loss: 0.2016 - mean_absolute_error: 0.3209 \n",
      "\u001b[36m(ClientAppActor pid=11724)\u001b[0m \u001b[1m111/111\u001b[0m \u001b[32m━━━━━━━━━━━━━━━━━━━━\u001b[0m\u001b[37m\u001b[0m \u001b[1m0s\u001b[0m 616us/step - loss: 0.2175 - mean_absolute_error: 0.3317\n"
     ]
    },
    {
     "name": "stderr",
     "output_type": "stream",
     "text": [
      "\u001b[36m(ClientAppActor pid=11724)\u001b[0m c:\\Users\\Yedek\\AppData\\Local\\Programs\\Python\\Python311\\Lib\\site-packages\\keras\\src\\layers\\rnn\\rnn.py:204: UserWarning: Do not pass an `input_shape`/`input_dim` argument to a layer. When using Sequential models, prefer using an `Input(shape)` object as the first layer in the model instead.\n",
      "\u001b[36m(ClientAppActor pid=11724)\u001b[0m   super().__init__(**kwargs)\n"
     ]
    },
    {
     "name": "stdout",
     "output_type": "stream",
     "text": [
      "\u001b[36m(ClientAppActor pid=11724)\u001b[0m \n",
      "\u001b[36m(ClientAppActor pid=11724)\u001b[0m \u001b[1m  1/132\u001b[0m \u001b[37m━━━━━━━━━━━━━━━━━━━━\u001b[0m \u001b[1m32s\u001b[0m 251ms/step - loss: 0.1676 - mean_absolute_error: 0.3636\n",
      "\u001b[36m(ClientAppActor pid=11724)\u001b[0m \n",
      "\u001b[36m(ClientAppActor pid=11724)\u001b[0m \u001b[1m 99/132\u001b[0m \u001b[32m━━━━━━━━━━━━━━━\u001b[0m\u001b[37m━━━━━\u001b[0m \u001b[1m0s\u001b[0m 646us/step - loss: 0.1948 - mean_absolute_error: 0.3268 \n",
      "\u001b[36m(ClientAppActor pid=11724)\u001b[0m \u001b[1m132/132\u001b[0m \u001b[32m━━━━━━━━━━━━━━━━━━━━\u001b[0m\u001b[37m\u001b[0m \u001b[1m0s\u001b[0m 602us/step - loss: 0.2456 - mean_absolute_error: 0.3571\n"
     ]
    },
    {
     "name": "stderr",
     "output_type": "stream",
     "text": [
      "\u001b[36m(ClientAppActor pid=11724)\u001b[0m c:\\Users\\Yedek\\AppData\\Local\\Programs\\Python\\Python311\\Lib\\site-packages\\keras\\src\\layers\\rnn\\rnn.py:204: UserWarning: Do not pass an `input_shape`/`input_dim` argument to a layer. When using Sequential models, prefer using an `Input(shape)` object as the first layer in the model instead.\n",
      "\u001b[36m(ClientAppActor pid=11724)\u001b[0m   super().__init__(**kwargs)\n"
     ]
    },
    {
     "name": "stdout",
     "output_type": "stream",
     "text": [
      "\u001b[36m(ClientAppActor pid=11724)\u001b[0m \n",
      "\u001b[36m(ClientAppActor pid=11724)\u001b[0m \u001b[1m  1/132\u001b[0m \u001b[37m━━━━━━━━━━━━━━━━━━━━\u001b[0m \u001b[1m32s\u001b[0m 251ms/step - loss: 0.1329 - mean_absolute_error: 0.3251\n",
      "\u001b[36m(ClientAppActor pid=11724)\u001b[0m \n",
      "\u001b[36m(ClientAppActor pid=11724)\u001b[0m \u001b[1m 97/132\u001b[0m \u001b[32m━━━━━━━━━━━━━━\u001b[0m\u001b[37m━━━━━━\u001b[0m \u001b[1m0s\u001b[0m 659us/step - loss: 2.3960 - mean_absolute_error: 0.8894 \n",
      "\u001b[36m(ClientAppActor pid=11724)\u001b[0m \u001b[1m132/132\u001b[0m \u001b[32m━━━━━━━━━━━━━━━━━━━━\u001b[0m\u001b[37m\u001b[0m \u001b[1m0s\u001b[0m 602us/step - loss: 2.3662 - mean_absolute_error: 0.8977\n"
     ]
    },
    {
     "name": "stderr",
     "output_type": "stream",
     "text": [
      "\u001b[36m(ClientAppActor pid=11724)\u001b[0m c:\\Users\\Yedek\\AppData\\Local\\Programs\\Python\\Python311\\Lib\\site-packages\\keras\\src\\layers\\rnn\\rnn.py:204: UserWarning: Do not pass an `input_shape`/`input_dim` argument to a layer. When using Sequential models, prefer using an `Input(shape)` object as the first layer in the model instead.\n",
      "\u001b[36m(ClientAppActor pid=11724)\u001b[0m   super().__init__(**kwargs)\n",
      "\u001b[92mINFO \u001b[0m:      aggregate_evaluate: received 10 results and 0 failures\n",
      "\u001b[92mINFO \u001b[0m:      \n",
      "\u001b[92mINFO \u001b[0m:      [ROUND 4]\n",
      "\u001b[92mINFO \u001b[0m:      Sampling failed: number of available clients (30) is less than number of requested clients (40).\n",
      "\u001b[92mINFO \u001b[0m:      configure_fit: no clients selected, cancel\n"
     ]
    },
    {
     "name": "stdout",
     "output_type": "stream",
     "text": [
      "\u001b[36m(ClientAppActor pid=11724)\u001b[0m \n",
      "\u001b[36m(ClientAppActor pid=11724)\u001b[0m \u001b[1m  1/132\u001b[0m \u001b[37m━━━━━━━━━━━━━━━━━━━━\u001b[0m \u001b[1m31s\u001b[0m 244ms/step - loss: 0.1033 - mean_absolute_error: 0.3080\n",
      "\u001b[36m(ClientAppActor pid=11724)\u001b[0m \u001b[1m 82/132\u001b[0m \u001b[32m━━━━━━━━━━━━\u001b[0m\u001b[37m━━━━━━━━\u001b[0m \u001b[1m0s\u001b[0m 696us/step - loss: 0.2561 - mean_absolute_error: 0.4249 \n",
      "\u001b[36m(ClientAppActor pid=11724)\u001b[0m \n",
      "\u001b[36m(ClientAppActor pid=11724)\u001b[0m \u001b[1m132/132\u001b[0m \u001b[32m━━━━━━━━━━━━━━━━━━━━\u001b[0m\u001b[37m\u001b[0m \u001b[1m0s\u001b[0m 602us/step - loss: 0.3007 - mean_absolute_error: 0.4379\n"
     ]
    },
    {
     "name": "stderr",
     "output_type": "stream",
     "text": [
      "c:\\Users\\Yedek\\AppData\\Local\\Programs\\Python\\Python311\\Lib\\site-packages\\keras\\src\\layers\\rnn\\rnn.py:204: UserWarning: Do not pass an `input_shape`/`input_dim` argument to a layer. When using Sequential models, prefer using an `Input(shape)` object as the first layer in the model instead.\n",
      "  super().__init__(**kwargs)\n",
      "\u001b[92mINFO \u001b[0m:      fit progress: (4, 2.3573930263519287, {'accuracy': 0.9640632271766663}, 23.797891499998514)\n",
      "\u001b[92mINFO \u001b[0m:      configure_evaluate: strategy sampled 10 clients (out of 30)\n",
      "\u001b[36m(ClientAppActor pid=11724)\u001b[0m c:\\Users\\Yedek\\AppData\\Local\\Programs\\Python\\Python311\\Lib\\site-packages\\keras\\src\\layers\\rnn\\rnn.py:204: UserWarning: Do not pass an `input_shape`/`input_dim` argument to a layer. When using Sequential models, prefer using an `Input(shape)` object as the first layer in the model instead.\n",
      "\u001b[36m(ClientAppActor pid=11724)\u001b[0m   super().__init__(**kwargs)\n"
     ]
    },
    {
     "name": "stdout",
     "output_type": "stream",
     "text": [
      "\u001b[36m(ClientAppActor pid=11724)\u001b[0m \n",
      "\u001b[36m(ClientAppActor pid=11724)\u001b[0m \u001b[1m  1/128\u001b[0m \u001b[37m━━━━━━━━━━━━━━━━━━━━\u001b[0m \u001b[1m32s\u001b[0m 254ms/step - loss: 0.9348 - mean_absolute_error: 0.8182\n",
      "\u001b[36m(ClientAppActor pid=11724)\u001b[0m \u001b[1m 91/128\u001b[0m \u001b[32m━━━━━━━━━━━━━━\u001b[0m\u001b[37m━━━━━━\u001b[0m \u001b[1m0s\u001b[0m 677us/step - loss: 0.6378 - mean_absolute_error: 0.6500 \n",
      "\u001b[36m(ClientAppActor pid=11724)\u001b[0m \n",
      "\u001b[36m(ClientAppActor pid=11724)\u001b[0m \u001b[1m128/128\u001b[0m \u001b[32m━━━━━━━━━━━━━━━━━━━━\u001b[0m\u001b[37m\u001b[0m \u001b[1m0s\u001b[0m 606us/step - loss: 0.5894 - mean_absolute_error: 0.6273\n"
     ]
    },
    {
     "name": "stderr",
     "output_type": "stream",
     "text": [
      "\u001b[36m(ClientAppActor pid=11724)\u001b[0m c:\\Users\\Yedek\\AppData\\Local\\Programs\\Python\\Python311\\Lib\\site-packages\\keras\\src\\layers\\rnn\\rnn.py:204: UserWarning: Do not pass an `input_shape`/`input_dim` argument to a layer. When using Sequential models, prefer using an `Input(shape)` object as the first layer in the model instead.\n",
      "\u001b[36m(ClientAppActor pid=11724)\u001b[0m   super().__init__(**kwargs)\n"
     ]
    },
    {
     "name": "stdout",
     "output_type": "stream",
     "text": [
      "\u001b[36m(ClientAppActor pid=11724)\u001b[0m \n",
      "\u001b[36m(ClientAppActor pid=11724)\u001b[0m \u001b[1m  1/113\u001b[0m \u001b[37m━━━━━━━━━━━━━━━━━━━━\u001b[0m \u001b[1m28s\u001b[0m 253ms/step - loss: 2.3713 - mean_absolute_error: 1.1847\n",
      "\u001b[36m(ClientAppActor pid=11724)\u001b[0m \u001b[1m 95/113\u001b[0m \u001b[32m━━━━━━━━━━━━━━━━\u001b[0m\u001b[37m━━━━\u001b[0m \u001b[1m0s\u001b[0m 669us/step - loss: 1.6745 - mean_absolute_error: 0.8708 \n",
      "\u001b[36m(ClientAppActor pid=11724)\u001b[0m \u001b[1m113/113\u001b[0m \u001b[32m━━━━━━━━━━━━━━━━━━━━\u001b[0m\u001b[37m\u001b[0m \u001b[1m0s\u001b[0m 562us/step - loss: 1.7226 - mean_absolute_error: 0.8555\n"
     ]
    },
    {
     "name": "stderr",
     "output_type": "stream",
     "text": [
      "\u001b[36m(ClientAppActor pid=11724)\u001b[0m c:\\Users\\Yedek\\AppData\\Local\\Programs\\Python\\Python311\\Lib\\site-packages\\keras\\src\\layers\\rnn\\rnn.py:204: UserWarning: Do not pass an `input_shape`/`input_dim` argument to a layer. When using Sequential models, prefer using an `Input(shape)` object as the first layer in the model instead.\n",
      "\u001b[36m(ClientAppActor pid=11724)\u001b[0m   super().__init__(**kwargs)\n"
     ]
    },
    {
     "name": "stdout",
     "output_type": "stream",
     "text": [
      "\u001b[36m(ClientAppActor pid=11724)\u001b[0m \n",
      "\u001b[36m(ClientAppActor pid=11724)\u001b[0m \u001b[1m  1/132\u001b[0m \u001b[37m━━━━━━━━━━━━━━━━━━━━\u001b[0m \u001b[1m33s\u001b[0m 252ms/step - loss: 0.1033 - mean_absolute_error: 0.3080\n",
      "\u001b[36m(ClientAppActor pid=11724)\u001b[0m \n",
      "\u001b[36m(ClientAppActor pid=11724)\u001b[0m \u001b[1m101/132\u001b[0m \u001b[32m━━━━━━━━━━━━━━━\u001b[0m\u001b[37m━━━━━\u001b[0m \u001b[1m0s\u001b[0m 633us/step - loss: 0.2681 - mean_absolute_error: 0.4255 \n",
      "\u001b[36m(ClientAppActor pid=11724)\u001b[0m \u001b[1m132/132\u001b[0m \u001b[32m━━━━━━━━━━━━━━━━━━━━\u001b[0m\u001b[37m\u001b[0m \u001b[1m0s\u001b[0m 602us/step - loss: 0.3007 - mean_absolute_error: 0.4379\n"
     ]
    },
    {
     "name": "stderr",
     "output_type": "stream",
     "text": [
      "\u001b[36m(ClientAppActor pid=11724)\u001b[0m c:\\Users\\Yedek\\AppData\\Local\\Programs\\Python\\Python311\\Lib\\site-packages\\keras\\src\\layers\\rnn\\rnn.py:204: UserWarning: Do not pass an `input_shape`/`input_dim` argument to a layer. When using Sequential models, prefer using an `Input(shape)` object as the first layer in the model instead.\n",
      "\u001b[36m(ClientAppActor pid=11724)\u001b[0m   super().__init__(**kwargs)\n"
     ]
    },
    {
     "name": "stdout",
     "output_type": "stream",
     "text": [
      "\u001b[36m(ClientAppActor pid=11724)\u001b[0m \n",
      "\u001b[36m(ClientAppActor pid=11724)\u001b[0m \u001b[1m  1/132\u001b[0m \u001b[37m━━━━━━━━━━━━━━━━━━━━\u001b[0m \u001b[1m55s\u001b[0m 425ms/step - loss: 0.5002 - mean_absolute_error: 0.6486\n",
      "\u001b[36m(ClientAppActor pid=11724)\u001b[0m \u001b[1m 88/132\u001b[0m \u001b[32m━━━━━━━━━━━━━\u001b[0m\u001b[37m━━━━━━━\u001b[0m \u001b[1m0s\u001b[0m 723us/step - loss: 1.2535 - mean_absolute_error: 0.8934 \n",
      "\u001b[36m(ClientAppActor pid=11724)\u001b[0m \u001b[1m132/132\u001b[0m \u001b[32m━━━━━━━━━━━━━━━━━━━━\u001b[0m\u001b[37m\u001b[0m \u001b[1m1s\u001b[0m 599us/step - loss: 1.4944 - mean_absolute_error: 0.9325\n"
     ]
    },
    {
     "name": "stderr",
     "output_type": "stream",
     "text": [
      "\u001b[36m(ClientAppActor pid=11724)\u001b[0m c:\\Users\\Yedek\\AppData\\Local\\Programs\\Python\\Python311\\Lib\\site-packages\\keras\\src\\layers\\rnn\\rnn.py:204: UserWarning: Do not pass an `input_shape`/`input_dim` argument to a layer. When using Sequential models, prefer using an `Input(shape)` object as the first layer in the model instead.\n",
      "\u001b[36m(ClientAppActor pid=11724)\u001b[0m   super().__init__(**kwargs)\n"
     ]
    },
    {
     "name": "stdout",
     "output_type": "stream",
     "text": [
      "\u001b[36m(ClientAppActor pid=11724)\u001b[0m \n",
      "\u001b[36m(ClientAppActor pid=11724)\u001b[0m \u001b[1m  1/123\u001b[0m \u001b[37m━━━━━━━━━━━━━━━━━━━━\u001b[0m \u001b[1m30s\u001b[0m 246ms/step - loss: 0.0138 - mean_absolute_error: 0.0967\n",
      "\u001b[36m(ClientAppActor pid=11724)\u001b[0m \n",
      "\u001b[36m(ClientAppActor pid=11724)\u001b[0m \u001b[1m 78/123\u001b[0m \u001b[32m━━━━━━━━━━━━\u001b[0m\u001b[37m━━━━━━━━\u001b[0m \u001b[1m0s\u001b[0m 704us/step - loss: 0.2290 - mean_absolute_error: 0.3280 \n",
      "\u001b[36m(ClientAppActor pid=11724)\u001b[0m \u001b[1m123/123\u001b[0m \u001b[32m━━━━━━━━━━━━━━━━━━━━\u001b[0m\u001b[37m\u001b[0m \u001b[1m0s\u001b[0m 650us/step - loss: 0.4021 - mean_absolute_error: 0.4434\n"
     ]
    },
    {
     "name": "stderr",
     "output_type": "stream",
     "text": [
      "\u001b[36m(ClientAppActor pid=11724)\u001b[0m c:\\Users\\Yedek\\AppData\\Local\\Programs\\Python\\Python311\\Lib\\site-packages\\keras\\src\\layers\\rnn\\rnn.py:204: UserWarning: Do not pass an `input_shape`/`input_dim` argument to a layer. When using Sequential models, prefer using an `Input(shape)` object as the first layer in the model instead.\n",
      "\u001b[36m(ClientAppActor pid=11724)\u001b[0m   super().__init__(**kwargs)\n"
     ]
    },
    {
     "name": "stdout",
     "output_type": "stream",
     "text": [
      "\u001b[36m(ClientAppActor pid=11724)\u001b[0m \n",
      "\u001b[36m(ClientAppActor pid=11724)\u001b[0m \u001b[1m  1/132\u001b[0m \u001b[37m━━━━━━━━━━━━━━━━━━━━\u001b[0m \u001b[1m33s\u001b[0m 252ms/step - loss: 0.9315 - mean_absolute_error: 0.8802\n",
      "\u001b[36m(ClientAppActor pid=11724)\u001b[0m \u001b[1m 81/132\u001b[0m \u001b[32m━━━━━━━━━━━━\u001b[0m\u001b[37m━━━━━━━━\u001b[0m \u001b[1m0s\u001b[0m 642us/step - loss: 2.0760 - mean_absolute_error: 1.2151 \n",
      "\u001b[36m(ClientAppActor pid=11724)\u001b[0m \n",
      "\u001b[36m(ClientAppActor pid=11724)\u001b[0m \u001b[1m132/132\u001b[0m \u001b[32m━━━━━━━━━━━━━━━━━━━━\u001b[0m\u001b[37m\u001b[0m \u001b[1m0s\u001b[0m 599us/step - loss: 1.8119 - mean_absolute_error: 1.1129\n"
     ]
    },
    {
     "name": "stderr",
     "output_type": "stream",
     "text": [
      "\u001b[36m(ClientAppActor pid=11724)\u001b[0m c:\\Users\\Yedek\\AppData\\Local\\Programs\\Python\\Python311\\Lib\\site-packages\\keras\\src\\layers\\rnn\\rnn.py:204: UserWarning: Do not pass an `input_shape`/`input_dim` argument to a layer. When using Sequential models, prefer using an `Input(shape)` object as the first layer in the model instead.\n",
      "\u001b[36m(ClientAppActor pid=11724)\u001b[0m   super().__init__(**kwargs)\n"
     ]
    },
    {
     "name": "stdout",
     "output_type": "stream",
     "text": [
      "\u001b[36m(ClientAppActor pid=11724)\u001b[0m \n",
      "\u001b[36m(ClientAppActor pid=11724)\u001b[0m \u001b[1m  1/132\u001b[0m \u001b[37m━━━━━━━━━━━━━━━━━━━━\u001b[0m \u001b[1m33s\u001b[0m 253ms/step - loss: 0.1329 - mean_absolute_error: 0.3251\n",
      "\u001b[36m(ClientAppActor pid=11724)\u001b[0m \u001b[1m 90/132\u001b[0m \u001b[32m━━━━━━━━━━━━━\u001b[0m\u001b[37m━━━━━━━\u001b[0m \u001b[1m0s\u001b[0m 702us/step - loss: 2.3665 - mean_absolute_error: 0.8747 \n",
      "\u001b[36m(ClientAppActor pid=11724)\u001b[0m \n",
      "\u001b[36m(ClientAppActor pid=11724)\u001b[0m \u001b[1m132/132\u001b[0m \u001b[32m━━━━━━━━━━━━━━━━━━━━\u001b[0m\u001b[37m\u001b[0m \u001b[1m0s\u001b[0m 641us/step - loss: 2.3662 - mean_absolute_error: 0.8977\n"
     ]
    },
    {
     "name": "stderr",
     "output_type": "stream",
     "text": [
      "\u001b[36m(ClientAppActor pid=11724)\u001b[0m c:\\Users\\Yedek\\AppData\\Local\\Programs\\Python\\Python311\\Lib\\site-packages\\keras\\src\\layers\\rnn\\rnn.py:204: UserWarning: Do not pass an `input_shape`/`input_dim` argument to a layer. When using Sequential models, prefer using an `Input(shape)` object as the first layer in the model instead.\n",
      "\u001b[36m(ClientAppActor pid=11724)\u001b[0m   super().__init__(**kwargs)\n"
     ]
    },
    {
     "name": "stdout",
     "output_type": "stream",
     "text": [
      "\u001b[36m(ClientAppActor pid=11724)\u001b[0m \n",
      "\u001b[36m(ClientAppActor pid=11724)\u001b[0m \u001b[1m  1/132\u001b[0m \u001b[37m━━━━━━━━━━━━━━━━━━━━\u001b[0m \u001b[1m33s\u001b[0m 253ms/step - loss: 1.0598 - mean_absolute_error: 0.9438\n",
      "\u001b[36m(ClientAppActor pid=11724)\u001b[0m \n",
      "\u001b[36m(ClientAppActor pid=11724)\u001b[0m \u001b[1m 92/132\u001b[0m \u001b[32m━━━━━━━━━━━━━\u001b[0m\u001b[37m━━━━━━━\u001b[0m \u001b[1m0s\u001b[0m 691us/step - loss: 1.5326 - mean_absolute_error: 1.0059 \n",
      "\u001b[36m(ClientAppActor pid=11724)\u001b[0m \u001b[1m132/132\u001b[0m \u001b[32m━━━━━━━━━━━━━━━━━━━━\u001b[0m\u001b[37m\u001b[0m \u001b[1m0s\u001b[0m 602us/step - loss: 1.3395 - mean_absolute_error: 0.9163\n"
     ]
    },
    {
     "name": "stderr",
     "output_type": "stream",
     "text": [
      "\u001b[36m(ClientAppActor pid=11724)\u001b[0m c:\\Users\\Yedek\\AppData\\Local\\Programs\\Python\\Python311\\Lib\\site-packages\\keras\\src\\layers\\rnn\\rnn.py:204: UserWarning: Do not pass an `input_shape`/`input_dim` argument to a layer. When using Sequential models, prefer using an `Input(shape)` object as the first layer in the model instead.\n",
      "\u001b[36m(ClientAppActor pid=11724)\u001b[0m   super().__init__(**kwargs)\n"
     ]
    },
    {
     "name": "stdout",
     "output_type": "stream",
     "text": [
      "\u001b[36m(ClientAppActor pid=11724)\u001b[0m \n",
      "\u001b[36m(ClientAppActor pid=11724)\u001b[0m \u001b[1m  1/132\u001b[0m \u001b[37m━━━━━━━━━━━━━━━━━━━━\u001b[0m \u001b[1m33s\u001b[0m 253ms/step - loss: 0.3562 - mean_absolute_error: 0.5761\n",
      "\u001b[36m(ClientAppActor pid=11724)\u001b[0m \n",
      "\u001b[36m(ClientAppActor pid=11724)\u001b[0m \u001b[1m 89/132\u001b[0m \u001b[32m━━━━━━━━━━━━━\u001b[0m\u001b[37m━━━━━━━\u001b[0m \u001b[1m0s\u001b[0m 715us/step - loss: 0.8274 - mean_absolute_error: 0.7757 \n",
      "\u001b[36m(ClientAppActor pid=11724)\u001b[0m \u001b[1m132/132\u001b[0m \u001b[32m━━━━━━━━━━━━━━━━━━━━\u001b[0m\u001b[37m\u001b[0m \u001b[1m0s\u001b[0m 611us/step - loss: 0.8680 - mean_absolute_error: 0.7699\n"
     ]
    },
    {
     "name": "stderr",
     "output_type": "stream",
     "text": [
      "\u001b[36m(ClientAppActor pid=11724)\u001b[0m c:\\Users\\Yedek\\AppData\\Local\\Programs\\Python\\Python311\\Lib\\site-packages\\keras\\src\\layers\\rnn\\rnn.py:204: UserWarning: Do not pass an `input_shape`/`input_dim` argument to a layer. When using Sequential models, prefer using an `Input(shape)` object as the first layer in the model instead.\n",
      "\u001b[36m(ClientAppActor pid=11724)\u001b[0m   super().__init__(**kwargs)\n",
      "\u001b[92mINFO \u001b[0m:      aggregate_evaluate: received 10 results and 0 failures\n",
      "\u001b[92mINFO \u001b[0m:      \n",
      "\u001b[92mINFO \u001b[0m:      [ROUND 5]\n",
      "\u001b[92mINFO \u001b[0m:      Sampling failed: number of available clients (30) is less than number of requested clients (40).\n",
      "\u001b[92mINFO \u001b[0m:      configure_fit: no clients selected, cancel\n"
     ]
    },
    {
     "name": "stdout",
     "output_type": "stream",
     "text": [
      "\u001b[36m(ClientAppActor pid=11724)\u001b[0m \n",
      "\u001b[36m(ClientAppActor pid=11724)\u001b[0m \u001b[1m  1/132\u001b[0m \u001b[37m━━━━━━━━━━━━━━━━━━━━\u001b[0m \u001b[1m30s\u001b[0m 236ms/step - loss: 0.2986 - mean_absolute_error: 0.4749\n",
      "\u001b[36m(ClientAppActor pid=11724)\u001b[0m \u001b[1m 81/132\u001b[0m \u001b[32m━━━━━━━━━━━━\u001b[0m\u001b[37m━━━━━━━━\u001b[0m \u001b[1m0s\u001b[0m 781us/step - loss: 0.5974 - mean_absolute_error: 0.6219 \n",
      "\u001b[36m(ClientAppActor pid=11724)\u001b[0m \n",
      "\u001b[36m(ClientAppActor pid=11724)\u001b[0m \u001b[1m132/132\u001b[0m \u001b[32m━━━━━━━━━━━━━━━━━━━━\u001b[0m\u001b[37m\u001b[0m \u001b[1m0s\u001b[0m 661us/step - loss: 0.5294 - mean_absolute_error: 0.5687\n"
     ]
    },
    {
     "name": "stderr",
     "output_type": "stream",
     "text": [
      "c:\\Users\\Yedek\\AppData\\Local\\Programs\\Python\\Python311\\Lib\\site-packages\\keras\\src\\layers\\rnn\\rnn.py:204: UserWarning: Do not pass an `input_shape`/`input_dim` argument to a layer. When using Sequential models, prefer using an `Input(shape)` object as the first layer in the model instead.\n",
      "  super().__init__(**kwargs)\n",
      "\u001b[92mINFO \u001b[0m:      fit progress: (5, 2.3573930263519287, {'accuracy': 0.9640632271766663}, 30.65627029999814)\n",
      "\u001b[92mINFO \u001b[0m:      configure_evaluate: strategy sampled 10 clients (out of 30)\n",
      "\u001b[36m(ClientAppActor pid=11724)\u001b[0m c:\\Users\\Yedek\\AppData\\Local\\Programs\\Python\\Python311\\Lib\\site-packages\\keras\\src\\layers\\rnn\\rnn.py:204: UserWarning: Do not pass an `input_shape`/`input_dim` argument to a layer. When using Sequential models, prefer using an `Input(shape)` object as the first layer in the model instead.\n",
      "\u001b[36m(ClientAppActor pid=11724)\u001b[0m   super().__init__(**kwargs)\n"
     ]
    },
    {
     "name": "stdout",
     "output_type": "stream",
     "text": [
      "\u001b[36m(ClientAppActor pid=11724)\u001b[0m \n",
      "\u001b[36m(ClientAppActor pid=11724)\u001b[0m \u001b[1m  1/121\u001b[0m \u001b[37m━━━━━━━━━━━━━━━━━━━━\u001b[0m \u001b[1m30s\u001b[0m 253ms/step - loss: 6.2059 - mean_absolute_error: 2.1670\n",
      "\u001b[36m(ClientAppActor pid=11724)\u001b[0m \u001b[1m 94/121\u001b[0m \u001b[32m━━━━━━━━━━━━━━━\u001b[0m\u001b[37m━━━━━\u001b[0m \u001b[1m0s\u001b[0m 617us/step - loss: 5.6835 - mean_absolute_error: 1.8408 \n",
      "\u001b[36m(ClientAppActor pid=11724)\u001b[0m \u001b[1m121/121\u001b[0m \u001b[32m━━━━━━━━━━━━━━━━━━━━\u001b[0m\u001b[37m\u001b[0m \u001b[1m0s\u001b[0m 524us/step - loss: 5.1636 - mean_absolute_error: 1.7147\n"
     ]
    },
    {
     "name": "stderr",
     "output_type": "stream",
     "text": [
      "\u001b[36m(ClientAppActor pid=11724)\u001b[0m c:\\Users\\Yedek\\AppData\\Local\\Programs\\Python\\Python311\\Lib\\site-packages\\keras\\src\\layers\\rnn\\rnn.py:204: UserWarning: Do not pass an `input_shape`/`input_dim` argument to a layer. When using Sequential models, prefer using an `Input(shape)` object as the first layer in the model instead.\n",
      "\u001b[36m(ClientAppActor pid=11724)\u001b[0m   super().__init__(**kwargs)\n"
     ]
    },
    {
     "name": "stdout",
     "output_type": "stream",
     "text": [
      "\u001b[36m(ClientAppActor pid=11724)\u001b[0m \n",
      "\u001b[36m(ClientAppActor pid=11724)\u001b[0m \u001b[1m  1/128\u001b[0m \u001b[37m━━━━━━━━━━━━━━━━━━━━\u001b[0m \u001b[1m30s\u001b[0m 236ms/step - loss: 0.1980 - mean_absolute_error: 0.4256\n",
      "\u001b[36m(ClientAppActor pid=11724)\u001b[0m \n",
      "\u001b[36m(ClientAppActor pid=11724)\u001b[0m \u001b[1m 84/128\u001b[0m \u001b[32m━━━━━━━━━━━━━\u001b[0m\u001b[37m━━━━━━━\u001b[0m \u001b[1m0s\u001b[0m 758us/step - loss: 0.3208 - mean_absolute_error: 0.5021 \n",
      "\u001b[36m(ClientAppActor pid=11724)\u001b[0m \u001b[1m128/128\u001b[0m \u001b[32m━━━━━━━━━━━━━━━━━━━━\u001b[0m\u001b[37m\u001b[0m \u001b[1m0s\u001b[0m 638us/step - loss: 0.5716 - mean_absolute_error: 0.5774\n"
     ]
    },
    {
     "name": "stderr",
     "output_type": "stream",
     "text": [
      "\u001b[36m(ClientAppActor pid=11724)\u001b[0m c:\\Users\\Yedek\\AppData\\Local\\Programs\\Python\\Python311\\Lib\\site-packages\\keras\\src\\layers\\rnn\\rnn.py:204: UserWarning: Do not pass an `input_shape`/`input_dim` argument to a layer. When using Sequential models, prefer using an `Input(shape)` object as the first layer in the model instead.\n",
      "\u001b[36m(ClientAppActor pid=11724)\u001b[0m   super().__init__(**kwargs)\n"
     ]
    },
    {
     "name": "stdout",
     "output_type": "stream",
     "text": [
      "\u001b[36m(ClientAppActor pid=11724)\u001b[0m \n",
      "\u001b[36m(ClientAppActor pid=11724)\u001b[0m \u001b[1m  1/132\u001b[0m \u001b[37m━━━━━━━━━━━━━━━━━━━━\u001b[0m \u001b[1m32s\u001b[0m 248ms/step - loss: 0.3714 - mean_absolute_error: 0.5183\n",
      "\u001b[36m(ClientAppActor pid=11724)\u001b[0m \u001b[1m 81/132\u001b[0m \u001b[32m━━━━━━━━━━━━\u001b[0m\u001b[37m━━━━━━━━\u001b[0m \u001b[1m0s\u001b[0m 781us/step - loss: 0.7274 - mean_absolute_error: 0.6604 \n",
      "\u001b[36m(ClientAppActor pid=11724)\u001b[0m \n",
      "\u001b[36m(ClientAppActor pid=11724)\u001b[0m \u001b[1m132/132\u001b[0m \u001b[32m━━━━━━━━━━━━━━━━━━━━\u001b[0m\u001b[37m\u001b[0m \u001b[1m0s\u001b[0m 668us/step - loss: 0.6598 - mean_absolute_error: 0.6325\n"
     ]
    },
    {
     "name": "stderr",
     "output_type": "stream",
     "text": [
      "\u001b[36m(ClientAppActor pid=11724)\u001b[0m c:\\Users\\Yedek\\AppData\\Local\\Programs\\Python\\Python311\\Lib\\site-packages\\keras\\src\\layers\\rnn\\rnn.py:204: UserWarning: Do not pass an `input_shape`/`input_dim` argument to a layer. When using Sequential models, prefer using an `Input(shape)` object as the first layer in the model instead.\n",
      "\u001b[36m(ClientAppActor pid=11724)\u001b[0m   super().__init__(**kwargs)\n"
     ]
    },
    {
     "name": "stdout",
     "output_type": "stream",
     "text": [
      "\u001b[36m(ClientAppActor pid=11724)\u001b[0m \n",
      "\u001b[36m(ClientAppActor pid=11724)\u001b[0m \u001b[1m  1/132\u001b[0m \u001b[37m━━━━━━━━━━━━━━━━━━━━\u001b[0m \u001b[1m32s\u001b[0m 251ms/step - loss: 0.9315 - mean_absolute_error: 0.8802\n",
      "\u001b[36m(ClientAppActor pid=11724)\u001b[0m \u001b[1m 98/132\u001b[0m \u001b[32m━━━━━━━━━━━━━━\u001b[0m\u001b[37m━━━━━━\u001b[0m \u001b[1m0s\u001b[0m 644us/step - loss: 1.9762 - mean_absolute_error: 1.1781 \n",
      "\u001b[36m(ClientAppActor pid=11724)\u001b[0m \u001b[1m132/132\u001b[0m \u001b[32m━━━━━━━━━━━━━━━━━━━━\u001b[0m\u001b[37m\u001b[0m \u001b[1m0s\u001b[0m 612us/step - loss: 1.8119 - mean_absolute_error: 1.1129\n"
     ]
    },
    {
     "name": "stderr",
     "output_type": "stream",
     "text": [
      "\u001b[36m(ClientAppActor pid=11724)\u001b[0m c:\\Users\\Yedek\\AppData\\Local\\Programs\\Python\\Python311\\Lib\\site-packages\\keras\\src\\layers\\rnn\\rnn.py:204: UserWarning: Do not pass an `input_shape`/`input_dim` argument to a layer. When using Sequential models, prefer using an `Input(shape)` object as the first layer in the model instead.\n",
      "\u001b[36m(ClientAppActor pid=11724)\u001b[0m   super().__init__(**kwargs)\n"
     ]
    },
    {
     "name": "stdout",
     "output_type": "stream",
     "text": [
      "\u001b[36m(ClientAppActor pid=11724)\u001b[0m \n",
      "\u001b[36m(ClientAppActor pid=11724)\u001b[0m \u001b[1m 1/99\u001b[0m \u001b[37m━━━━━━━━━━━━━━━━━━━━\u001b[0m \u001b[1m43s\u001b[0m 442ms/step - loss: 0.3726 - mean_absolute_error: 0.4943\n",
      "\u001b[36m(ClientAppActor pid=11724)\u001b[0m \n",
      "\u001b[36m(ClientAppActor pid=11724)\u001b[0m \u001b[1m97/99\u001b[0m \u001b[32m━━━━━━━━━━━━━━━━━━━\u001b[0m\u001b[37m━\u001b[0m \u001b[1m0s\u001b[0m 655us/step - loss: 0.1758 - mean_absolute_error: 0.3164 \n",
      "\u001b[36m(ClientAppActor pid=11724)\u001b[0m \u001b[1m99/99\u001b[0m \u001b[32m━━━━━━━━━━━━━━━━━━━━\u001b[0m\u001b[37m\u001b[0m \u001b[1m1s\u001b[0m 642us/step - loss: 0.1739 - mean_absolute_error: 0.3142\n"
     ]
    },
    {
     "name": "stderr",
     "output_type": "stream",
     "text": [
      "\u001b[36m(ClientAppActor pid=11724)\u001b[0m c:\\Users\\Yedek\\AppData\\Local\\Programs\\Python\\Python311\\Lib\\site-packages\\keras\\src\\layers\\rnn\\rnn.py:204: UserWarning: Do not pass an `input_shape`/`input_dim` argument to a layer. When using Sequential models, prefer using an `Input(shape)` object as the first layer in the model instead.\n",
      "\u001b[36m(ClientAppActor pid=11724)\u001b[0m   super().__init__(**kwargs)\n"
     ]
    },
    {
     "name": "stdout",
     "output_type": "stream",
     "text": [
      "\u001b[36m(ClientAppActor pid=11724)\u001b[0m \n",
      "\u001b[36m(ClientAppActor pid=11724)\u001b[0m \u001b[1m  1/132\u001b[0m \u001b[37m━━━━━━━━━━━━━━━━━━━━\u001b[0m \u001b[1m35s\u001b[0m 273ms/step - loss: 0.3562 - mean_absolute_error: 0.5761\n",
      "\u001b[36m(ClientAppActor pid=11724)\u001b[0m \u001b[1m 83/132\u001b[0m \u001b[32m━━━━━━━━━━━━\u001b[0m\u001b[37m━━━━━━━━\u001b[0m \u001b[1m0s\u001b[0m 694us/step - loss: 0.8333 - mean_absolute_error: 0.7810 \n",
      "\u001b[36m(ClientAppActor pid=11724)\u001b[0m \n",
      "\u001b[36m(ClientAppActor pid=11724)\u001b[0m \u001b[1m132/132\u001b[0m \u001b[32m━━━━━━━━━━━━━━━━━━━━\u001b[0m\u001b[37m\u001b[0m \u001b[1m0s\u001b[0m 557us/step - loss: 0.8680 - mean_absolute_error: 0.7699\n"
     ]
    },
    {
     "name": "stderr",
     "output_type": "stream",
     "text": [
      "\u001b[36m(ClientAppActor pid=11724)\u001b[0m c:\\Users\\Yedek\\AppData\\Local\\Programs\\Python\\Python311\\Lib\\site-packages\\keras\\src\\layers\\rnn\\rnn.py:204: UserWarning: Do not pass an `input_shape`/`input_dim` argument to a layer. When using Sequential models, prefer using an `Input(shape)` object as the first layer in the model instead.\n",
      "\u001b[36m(ClientAppActor pid=11724)\u001b[0m   super().__init__(**kwargs)\n"
     ]
    },
    {
     "name": "stdout",
     "output_type": "stream",
     "text": [
      "\u001b[36m(ClientAppActor pid=11724)\u001b[0m \n",
      "\u001b[36m(ClientAppActor pid=11724)\u001b[0m \u001b[1m  1/128\u001b[0m \u001b[37m━━━━━━━━━━━━━━━━━━━━\u001b[0m \u001b[1m32s\u001b[0m 252ms/step - loss: 0.9348 - mean_absolute_error: 0.8182\n",
      "\u001b[36m(ClientAppActor pid=11724)\u001b[0m \u001b[1m 99/128\u001b[0m \u001b[32m━━━━━━━━━━━━━━━\u001b[0m\u001b[37m━━━━━\u001b[0m \u001b[1m0s\u001b[0m 638us/step - loss: 0.6266 - mean_absolute_error: 0.6449 \n",
      "\u001b[36m(ClientAppActor pid=11724)\u001b[0m \u001b[1m128/128\u001b[0m \u001b[32m━━━━━━━━━━━━━━━━━━━━\u001b[0m\u001b[37m\u001b[0m \u001b[1m0s\u001b[0m 615us/step - loss: 0.5894 - mean_absolute_error: 0.6273\n"
     ]
    },
    {
     "name": "stderr",
     "output_type": "stream",
     "text": [
      "\u001b[36m(ClientAppActor pid=11724)\u001b[0m c:\\Users\\Yedek\\AppData\\Local\\Programs\\Python\\Python311\\Lib\\site-packages\\keras\\src\\layers\\rnn\\rnn.py:204: UserWarning: Do not pass an `input_shape`/`input_dim` argument to a layer. When using Sequential models, prefer using an `Input(shape)` object as the first layer in the model instead.\n",
      "\u001b[36m(ClientAppActor pid=11724)\u001b[0m   super().__init__(**kwargs)\n"
     ]
    },
    {
     "name": "stdout",
     "output_type": "stream",
     "text": [
      "\u001b[36m(ClientAppActor pid=11724)\u001b[0m \n",
      "\u001b[36m(ClientAppActor pid=11724)\u001b[0m \u001b[1m  1/132\u001b[0m \u001b[37m━━━━━━━━━━━━━━━━━━━━\u001b[0m \u001b[1m33s\u001b[0m 257ms/step - loss: 0.2986 - mean_absolute_error: 0.4749\n",
      "\u001b[36m(ClientAppActor pid=11724)\u001b[0m \n",
      "\u001b[36m(ClientAppActor pid=11724)\u001b[0m \u001b[1m 91/132\u001b[0m \u001b[32m━━━━━━━━━━━━━\u001b[0m\u001b[37m━━━━━━━\u001b[0m \u001b[1m0s\u001b[0m 637us/step - loss: 0.5820 - mean_absolute_error: 0.6089 \n",
      "\u001b[36m(ClientAppActor pid=11724)\u001b[0m \u001b[1m132/132\u001b[0m \u001b[32m━━━━━━━━━━━━━━━━━━━━\u001b[0m\u001b[37m\u001b[0m \u001b[1m0s\u001b[0m 557us/step - loss: 0.5294 - mean_absolute_error: 0.5687\n"
     ]
    },
    {
     "name": "stderr",
     "output_type": "stream",
     "text": [
      "\u001b[36m(ClientAppActor pid=11724)\u001b[0m c:\\Users\\Yedek\\AppData\\Local\\Programs\\Python\\Python311\\Lib\\site-packages\\keras\\src\\layers\\rnn\\rnn.py:204: UserWarning: Do not pass an `input_shape`/`input_dim` argument to a layer. When using Sequential models, prefer using an `Input(shape)` object as the first layer in the model instead.\n",
      "\u001b[36m(ClientAppActor pid=11724)\u001b[0m   super().__init__(**kwargs)\n"
     ]
    },
    {
     "name": "stdout",
     "output_type": "stream",
     "text": [
      "\u001b[36m(ClientAppActor pid=11724)\u001b[0m \n",
      "\u001b[36m(ClientAppActor pid=11724)\u001b[0m \u001b[1m  1/132\u001b[0m \u001b[37m━━━━━━━━━━━━━━━━━━━━\u001b[0m \u001b[1m33s\u001b[0m 253ms/step - loss: 0.1334 - mean_absolute_error: 0.3140\n",
      "\u001b[36m(ClientAppActor pid=11724)\u001b[0m \n",
      "\u001b[36m(ClientAppActor pid=11724)\u001b[0m \u001b[1m 93/132\u001b[0m \u001b[32m━━━━━━━━━━━━━━\u001b[0m\u001b[37m━━━━━━\u001b[0m \u001b[1m0s\u001b[0m 688us/step - loss: 0.2103 - mean_absolute_error: 0.3775 \n",
      "\u001b[36m(ClientAppActor pid=11724)\u001b[0m \u001b[1m132/132\u001b[0m \u001b[32m━━━━━━━━━━━━━━━━━━━━\u001b[0m\u001b[37m\u001b[0m \u001b[1m0s\u001b[0m 602us/step - loss: 0.4488 - mean_absolute_error: 0.4439\n"
     ]
    },
    {
     "name": "stderr",
     "output_type": "stream",
     "text": [
      "\u001b[36m(ClientAppActor pid=11724)\u001b[0m c:\\Users\\Yedek\\AppData\\Local\\Programs\\Python\\Python311\\Lib\\site-packages\\keras\\src\\layers\\rnn\\rnn.py:204: UserWarning: Do not pass an `input_shape`/`input_dim` argument to a layer. When using Sequential models, prefer using an `Input(shape)` object as the first layer in the model instead.\n",
      "\u001b[36m(ClientAppActor pid=11724)\u001b[0m   super().__init__(**kwargs)\n",
      "\u001b[92mINFO \u001b[0m:      aggregate_evaluate: received 10 results and 0 failures\n",
      "\u001b[92mINFO \u001b[0m:      \n",
      "\u001b[92mINFO \u001b[0m:      [ROUND 6]\n",
      "\u001b[92mINFO \u001b[0m:      Sampling failed: number of available clients (30) is less than number of requested clients (40).\n",
      "\u001b[92mINFO \u001b[0m:      configure_fit: no clients selected, cancel\n"
     ]
    },
    {
     "name": "stdout",
     "output_type": "stream",
     "text": [
      "\u001b[36m(ClientAppActor pid=11724)\u001b[0m \n",
      "\u001b[36m(ClientAppActor pid=11724)\u001b[0m \u001b[1m  1/130\u001b[0m \u001b[37m━━━━━━━━━━━━━━━━━━━━\u001b[0m \u001b[1m32s\u001b[0m 253ms/step - loss: 0.6060 - mean_absolute_error: 0.7064\n",
      "\u001b[36m(ClientAppActor pid=11724)\u001b[0m \u001b[1m 87/130\u001b[0m \u001b[32m━━━━━━━━━━━━━\u001b[0m\u001b[37m━━━━━━━\u001b[0m \u001b[1m0s\u001b[0m 731us/step - loss: 1.3154 - mean_absolute_error: 0.9128 \n",
      "\u001b[36m(ClientAppActor pid=11724)\u001b[0m \n",
      "\u001b[36m(ClientAppActor pid=11724)\u001b[0m \u001b[1m130/130\u001b[0m \u001b[32m━━━━━━━━━━━━━━━━━━━━\u001b[0m\u001b[37m\u001b[0m \u001b[1m0s\u001b[0m 628us/step - loss: 2.0117 - mean_absolute_error: 1.0157\n"
     ]
    },
    {
     "name": "stderr",
     "output_type": "stream",
     "text": [
      "c:\\Users\\Yedek\\AppData\\Local\\Programs\\Python\\Python311\\Lib\\site-packages\\keras\\src\\layers\\rnn\\rnn.py:204: UserWarning: Do not pass an `input_shape`/`input_dim` argument to a layer. When using Sequential models, prefer using an `Input(shape)` object as the first layer in the model instead.\n",
      "  super().__init__(**kwargs)\n",
      "\u001b[92mINFO \u001b[0m:      fit progress: (6, 2.3573930263519287, {'accuracy': 0.9640632271766663}, 37.516089400000055)\n",
      "\u001b[92mINFO \u001b[0m:      configure_evaluate: strategy sampled 10 clients (out of 30)\n",
      "\u001b[36m(ClientAppActor pid=11724)\u001b[0m c:\\Users\\Yedek\\AppData\\Local\\Programs\\Python\\Python311\\Lib\\site-packages\\keras\\src\\layers\\rnn\\rnn.py:204: UserWarning: Do not pass an `input_shape`/`input_dim` argument to a layer. When using Sequential models, prefer using an `Input(shape)` object as the first layer in the model instead.\n",
      "\u001b[36m(ClientAppActor pid=11724)\u001b[0m   super().__init__(**kwargs)\n"
     ]
    },
    {
     "name": "stdout",
     "output_type": "stream",
     "text": [
      "\u001b[36m(ClientAppActor pid=11724)\u001b[0m \n",
      "\u001b[36m(ClientAppActor pid=11724)\u001b[0m \u001b[1m  1/132\u001b[0m \u001b[37m━━━━━━━━━━━━━━━━━━━━\u001b[0m \u001b[1m33s\u001b[0m 258ms/step - loss: 0.2711 - mean_absolute_error: 0.4863\n",
      "\u001b[36m(ClientAppActor pid=11724)\u001b[0m \u001b[1m 94/132\u001b[0m \u001b[32m━━━━━━━━━━━━━━\u001b[0m\u001b[37m━━━━━━\u001b[0m \u001b[1m0s\u001b[0m 606us/step - loss: 0.5118 - mean_absolute_error: 0.6174 \n",
      "\u001b[36m(ClientAppActor pid=11724)\u001b[0m \u001b[1m132/132\u001b[0m \u001b[32m━━━━━━━━━━━━━━━━━━━━\u001b[0m\u001b[37m\u001b[0m \u001b[1m0s\u001b[0m 550us/step - loss: 0.5273 - mean_absolute_error: 0.6178\n"
     ]
    },
    {
     "name": "stderr",
     "output_type": "stream",
     "text": [
      "\u001b[36m(ClientAppActor pid=11724)\u001b[0m c:\\Users\\Yedek\\AppData\\Local\\Programs\\Python\\Python311\\Lib\\site-packages\\keras\\src\\layers\\rnn\\rnn.py:204: UserWarning: Do not pass an `input_shape`/`input_dim` argument to a layer. When using Sequential models, prefer using an `Input(shape)` object as the first layer in the model instead.\n",
      "\u001b[36m(ClientAppActor pid=11724)\u001b[0m   super().__init__(**kwargs)\n"
     ]
    },
    {
     "name": "stdout",
     "output_type": "stream",
     "text": [
      "\u001b[36m(ClientAppActor pid=11724)\u001b[0m \n",
      "\u001b[36m(ClientAppActor pid=11724)\u001b[0m \u001b[1m  1/132\u001b[0m \u001b[37m━━━━━━━━━━━━━━━━━━━━\u001b[0m \u001b[1m34s\u001b[0m 263ms/step - loss: 1.0598 - mean_absolute_error: 0.9438\n",
      "\u001b[36m(ClientAppActor pid=11724)\u001b[0m \n",
      "\u001b[36m(ClientAppActor pid=11724)\u001b[0m \u001b[1m105/132\u001b[0m \u001b[32m━━━━━━━━━━━━━━━\u001b[0m\u001b[37m━━━━━\u001b[0m \u001b[1m0s\u001b[0m 609us/step - loss: 1.4671 - mean_absolute_error: 0.9763 \n",
      "\u001b[36m(ClientAppActor pid=11724)\u001b[0m \u001b[1m132/132\u001b[0m \u001b[32m━━━━━━━━━━━━━━━━━━━━\u001b[0m\u001b[37m\u001b[0m \u001b[1m0s\u001b[0m 602us/step - loss: 1.3395 - mean_absolute_error: 0.9163\n"
     ]
    },
    {
     "name": "stderr",
     "output_type": "stream",
     "text": [
      "\u001b[36m(ClientAppActor pid=11724)\u001b[0m c:\\Users\\Yedek\\AppData\\Local\\Programs\\Python\\Python311\\Lib\\site-packages\\keras\\src\\layers\\rnn\\rnn.py:204: UserWarning: Do not pass an `input_shape`/`input_dim` argument to a layer. When using Sequential models, prefer using an `Input(shape)` object as the first layer in the model instead.\n",
      "\u001b[36m(ClientAppActor pid=11724)\u001b[0m   super().__init__(**kwargs)\n"
     ]
    },
    {
     "name": "stdout",
     "output_type": "stream",
     "text": [
      "\u001b[36m(ClientAppActor pid=11724)\u001b[0m \n",
      "\u001b[36m(ClientAppActor pid=11724)\u001b[0m \u001b[1m  1/132\u001b[0m \u001b[37m━━━━━━━━━━━━━━━━━━━━\u001b[0m \u001b[1m34s\u001b[0m 261ms/step - loss: 1.7097 - mean_absolute_error: 1.0682\n",
      "\u001b[36m(ClientAppActor pid=11724)\u001b[0m \n",
      "\u001b[36m(ClientAppActor pid=11724)\u001b[0m \u001b[1m 86/132\u001b[0m \u001b[32m━━━━━━━━━━━━━\u001b[0m\u001b[37m━━━━━━━\u001b[0m \u001b[1m0s\u001b[0m 639us/step - loss: 1.3576 - mean_absolute_error: 0.8507 \n",
      "\u001b[36m(ClientAppActor pid=11724)\u001b[0m \u001b[1m132/132\u001b[0m \u001b[32m━━━━━━━━━━━━━━━━━━━━\u001b[0m\u001b[37m\u001b[0m \u001b[1m0s\u001b[0m 534us/step - loss: 1.3874 - mean_absolute_error: 0.8100\n"
     ]
    },
    {
     "name": "stderr",
     "output_type": "stream",
     "text": [
      "\u001b[36m(ClientAppActor pid=11724)\u001b[0m c:\\Users\\Yedek\\AppData\\Local\\Programs\\Python\\Python311\\Lib\\site-packages\\keras\\src\\layers\\rnn\\rnn.py:204: UserWarning: Do not pass an `input_shape`/`input_dim` argument to a layer. When using Sequential models, prefer using an `Input(shape)` object as the first layer in the model instead.\n",
      "\u001b[36m(ClientAppActor pid=11724)\u001b[0m   super().__init__(**kwargs)\n"
     ]
    },
    {
     "name": "stdout",
     "output_type": "stream",
     "text": [
      "\u001b[36m(ClientAppActor pid=11724)\u001b[0m \n",
      "\u001b[36m(ClientAppActor pid=11724)\u001b[0m \u001b[1m  1/132\u001b[0m \u001b[37m━━━━━━━━━━━━━━━━━━━━\u001b[0m \u001b[1m33s\u001b[0m 252ms/step - loss: 0.3562 - mean_absolute_error: 0.5761\n",
      "\u001b[36m(ClientAppActor pid=11724)\u001b[0m \u001b[1m 80/132\u001b[0m \u001b[32m━━━━━━━━━━━━\u001b[0m\u001b[37m━━━━━━━━\u001b[0m \u001b[1m0s\u001b[0m 796us/step - loss: 0.8359 - mean_absolute_error: 0.7836 \n",
      "\u001b[36m(ClientAppActor pid=11724)\u001b[0m \n",
      "\u001b[36m(ClientAppActor pid=11724)\u001b[0m \u001b[1m132/132\u001b[0m \u001b[32m━━━━━━━━━━━━━━━━━━━━\u001b[0m\u001b[37m\u001b[0m \u001b[1m0s\u001b[0m 672us/step - loss: 0.8680 - mean_absolute_error: 0.7699\n"
     ]
    },
    {
     "name": "stderr",
     "output_type": "stream",
     "text": [
      "\u001b[36m(ClientAppActor pid=11724)\u001b[0m c:\\Users\\Yedek\\AppData\\Local\\Programs\\Python\\Python311\\Lib\\site-packages\\keras\\src\\layers\\rnn\\rnn.py:204: UserWarning: Do not pass an `input_shape`/`input_dim` argument to a layer. When using Sequential models, prefer using an `Input(shape)` object as the first layer in the model instead.\n",
      "\u001b[36m(ClientAppActor pid=11724)\u001b[0m   super().__init__(**kwargs)\n",
      "\u001b[36m(ClientAppActor pid=11724)\u001b[0m c:\\Users\\Yedek\\AppData\\Local\\Programs\\Python\\Python311\\Lib\\site-packages\\keras\\src\\layers\\rnn\\rnn.py:204: UserWarning: Do not pass an `input_shape`/`input_dim` argument to a layer. When using Sequential models, prefer using an `Input(shape)` object as the first layer in the model instead.\n",
      "\u001b[36m(ClientAppActor pid=11724)\u001b[0m   super().__init__(**kwargs)\n"
     ]
    },
    {
     "name": "stdout",
     "output_type": "stream",
     "text": [
      "\u001b[36m(ClientAppActor pid=11724)\u001b[0m \n",
      "\u001b[36m(ClientAppActor pid=11724)\u001b[0m \u001b[1m  1/111\u001b[0m \u001b[37m━━━━━━━━━━━━━━━━━━━━\u001b[0m \u001b[1m28s\u001b[0m 260ms/step - loss: 0.0339 - mean_absolute_error: 0.1710\n",
      "\u001b[36m(ClientAppActor pid=11724)\u001b[0m \u001b[1m 92/111\u001b[0m \u001b[32m━━━━━━━━━━━━━━━━\u001b[0m\u001b[37m━━━━\u001b[0m \u001b[1m0s\u001b[0m 603us/step - loss: 0.1607 - mean_absolute_error: 0.2940 \n",
      "\u001b[36m(ClientAppActor pid=11724)\u001b[0m \u001b[1m111/111\u001b[0m \u001b[32m━━━━━━━━━━━━━━━━━━━━\u001b[0m\u001b[37m\u001b[0m \u001b[1m0s\u001b[0m 499us/step - loss: 0.2175 - mean_absolute_error: 0.3317\n",
      "\u001b[36m(ClientAppActor pid=11724)\u001b[0m \n",
      "\u001b[36m(ClientAppActor pid=11724)\u001b[0m \u001b[1m  1/132\u001b[0m \u001b[37m━━━━━━━━━━━━━━━━━━━━\u001b[0m \u001b[1m30s\u001b[0m 236ms/step - loss: 0.1329 - mean_absolute_error: 0.3251\n",
      "\u001b[36m(ClientAppActor pid=11724)\u001b[0m \u001b[1m 79/132\u001b[0m \u001b[32m━━━━━━━━━━━\u001b[0m\u001b[37m━━━━━━━━━\u001b[0m \u001b[1m0s\u001b[0m 806us/step - loss: 2.2812 - mean_absolute_error: 0.8392 \n",
      "\u001b[36m(ClientAppActor pid=11724)\u001b[0m \n",
      "\u001b[36m(ClientAppActor pid=11724)\u001b[0m \u001b[1m132/132\u001b[0m \u001b[32m━━━━━━━━━━━━━━━━━━━━\u001b[0m\u001b[37m\u001b[0m \u001b[1m0s\u001b[0m 722us/step - loss: 2.3662 - mean_absolute_error: 0.8977\n"
     ]
    },
    {
     "name": "stderr",
     "output_type": "stream",
     "text": [
      "\u001b[36m(ClientAppActor pid=11724)\u001b[0m c:\\Users\\Yedek\\AppData\\Local\\Programs\\Python\\Python311\\Lib\\site-packages\\keras\\src\\layers\\rnn\\rnn.py:204: UserWarning: Do not pass an `input_shape`/`input_dim` argument to a layer. When using Sequential models, prefer using an `Input(shape)` object as the first layer in the model instead.\n",
      "\u001b[36m(ClientAppActor pid=11724)\u001b[0m   super().__init__(**kwargs)\n"
     ]
    },
    {
     "name": "stdout",
     "output_type": "stream",
     "text": [
      "\u001b[36m(ClientAppActor pid=11724)\u001b[0m \n",
      "\u001b[36m(ClientAppActor pid=11724)\u001b[0m \u001b[1m  1/132\u001b[0m \u001b[37m━━━━━━━━━━━━━━━━━━━━\u001b[0m \u001b[1m33s\u001b[0m 252ms/step - loss: 0.1033 - mean_absolute_error: 0.3080\n",
      "\u001b[36m(ClientAppActor pid=11724)\u001b[0m \u001b[1m 99/132\u001b[0m \u001b[32m━━━━━━━━━━━━━━━\u001b[0m\u001b[37m━━━━━\u001b[0m \u001b[1m0s\u001b[0m 642us/step - loss: 0.2666 - mean_absolute_error: 0.4252 \n",
      "\u001b[36m(ClientAppActor pid=11724)\u001b[0m \u001b[1m132/132\u001b[0m \u001b[32m━━━━━━━━━━━━━━━━━━━━\u001b[0m\u001b[37m\u001b[0m \u001b[1m0s\u001b[0m 599us/step - loss: 0.3007 - mean_absolute_error: 0.4379\n"
     ]
    },
    {
     "name": "stderr",
     "output_type": "stream",
     "text": [
      "\u001b[36m(ClientAppActor pid=11724)\u001b[0m c:\\Users\\Yedek\\AppData\\Local\\Programs\\Python\\Python311\\Lib\\site-packages\\keras\\src\\layers\\rnn\\rnn.py:204: UserWarning: Do not pass an `input_shape`/`input_dim` argument to a layer. When using Sequential models, prefer using an `Input(shape)` object as the first layer in the model instead.\n",
      "\u001b[36m(ClientAppActor pid=11724)\u001b[0m   super().__init__(**kwargs)\n"
     ]
    },
    {
     "name": "stdout",
     "output_type": "stream",
     "text": [
      "\u001b[36m(ClientAppActor pid=11724)\u001b[0m \n",
      "\u001b[36m(ClientAppActor pid=11724)\u001b[0m \u001b[1m  1/132\u001b[0m \u001b[37m━━━━━━━━━━━━━━━━━━━━\u001b[0m \u001b[1m33s\u001b[0m 253ms/step - loss: 0.7263 - mean_absolute_error: 0.7276\n",
      "\u001b[36m(ClientAppActor pid=11724)\u001b[0m \n",
      "\u001b[36m(ClientAppActor pid=11724)\u001b[0m \u001b[1m 99/132\u001b[0m \u001b[32m━━━━━━━━━━━━━━━\u001b[0m\u001b[37m━━━━━\u001b[0m \u001b[1m0s\u001b[0m 646us/step - loss: 0.3450 - mean_absolute_error: 0.4869 \n",
      "\u001b[36m(ClientAppActor pid=11724)\u001b[0m \u001b[1m132/132\u001b[0m \u001b[32m━━━━━━━━━━━━━━━━━━━━\u001b[0m\u001b[37m\u001b[0m \u001b[1m0s\u001b[0m 602us/step - loss: 0.3844 - mean_absolute_error: 0.5002\n"
     ]
    },
    {
     "name": "stderr",
     "output_type": "stream",
     "text": [
      "\u001b[36m(ClientAppActor pid=11724)\u001b[0m c:\\Users\\Yedek\\AppData\\Local\\Programs\\Python\\Python311\\Lib\\site-packages\\keras\\src\\layers\\rnn\\rnn.py:204: UserWarning: Do not pass an `input_shape`/`input_dim` argument to a layer. When using Sequential models, prefer using an `Input(shape)` object as the first layer in the model instead.\n",
      "\u001b[36m(ClientAppActor pid=11724)\u001b[0m   super().__init__(**kwargs)\n"
     ]
    },
    {
     "name": "stdout",
     "output_type": "stream",
     "text": [
      "\u001b[36m(ClientAppActor pid=11724)\u001b[0m \n",
      "\u001b[36m(ClientAppActor pid=11724)\u001b[0m \u001b[1m  1/547\u001b[0m \u001b[37m━━━━━━━━━━━━━━━━━━━━\u001b[0m \u001b[1m2:21\u001b[0m 260ms/step - loss: 0.0553 - mean_absolute_error: 0.2210\n",
      "\u001b[36m(ClientAppActor pid=11724)\u001b[0m \n",
      "\u001b[36m(ClientAppActor pid=11724)\u001b[0m \u001b[1m 88/547\u001b[0m \u001b[32m━━━\u001b[0m\u001b[37m━━━━━━━━━━━━━━━━━\u001b[0m \u001b[1m0s\u001b[0m 723us/step - loss: 0.3118 - mean_absolute_error: 0.3729  \n",
      "\u001b[36m(ClientAppActor pid=11724)\u001b[0m \u001b[1m194/547\u001b[0m \u001b[32m━━━━━━━\u001b[0m\u001b[37m━━━━━━━━━━━━━\u001b[0m \u001b[1m0s\u001b[0m 650us/step - loss: 0.5592 - mean_absolute_error: 0.5132\n",
      "\u001b[36m(ClientAppActor pid=11724)\u001b[0m \n",
      "\u001b[36m(ClientAppActor pid=11724)\u001b[0m \u001b[1m299/547\u001b[0m \u001b[32m━━━━━━━━━━\u001b[0m\u001b[37m━━━━━━━━━━\u001b[0m \u001b[1m0s\u001b[0m 633us/step - loss: 0.7512 - mean_absolute_error: 0.6003\n",
      "\u001b[36m(ClientAppActor pid=11724)\u001b[0m \u001b[1m406/547\u001b[0m \u001b[32m━━━━━━━━━━━━━━\u001b[0m\u001b[37m━━━━━━\u001b[0m \u001b[1m0s\u001b[0m 621us/step - loss: 0.8957 - mean_absolute_error: 0.6578\n",
      "\u001b[36m(ClientAppActor pid=11724)\u001b[0m \n",
      "\u001b[36m(ClientAppActor pid=11724)\u001b[0m \u001b[1m511/547\u001b[0m \u001b[32m━━━━━━━━━━━━━━━━━━\u001b[0m\u001b[37m━━\u001b[0m \u001b[1m0s\u001b[0m 617us/step - loss: 0.9717 - mean_absolute_error: 0.6867\n",
      "\u001b[36m(ClientAppActor pid=11724)\u001b[0m \u001b[1m547/547\u001b[0m \u001b[32m━━━━━━━━━━━━━━━━━━━━\u001b[0m\u001b[37m\u001b[0m \u001b[1m1s\u001b[0m 605us/step - loss: 0.9863 - mean_absolute_error: 0.6918\n"
     ]
    },
    {
     "name": "stderr",
     "output_type": "stream",
     "text": [
      "\u001b[36m(ClientAppActor pid=11724)\u001b[0m c:\\Users\\Yedek\\AppData\\Local\\Programs\\Python\\Python311\\Lib\\site-packages\\keras\\src\\layers\\rnn\\rnn.py:204: UserWarning: Do not pass an `input_shape`/`input_dim` argument to a layer. When using Sequential models, prefer using an `Input(shape)` object as the first layer in the model instead.\n",
      "\u001b[36m(ClientAppActor pid=11724)\u001b[0m   super().__init__(**kwargs)\n",
      "\u001b[92mINFO \u001b[0m:      aggregate_evaluate: received 10 results and 0 failures\n",
      "\u001b[92mINFO \u001b[0m:      \n",
      "\u001b[92mINFO \u001b[0m:      [ROUND 7]\n",
      "\u001b[92mINFO \u001b[0m:      Sampling failed: number of available clients (30) is less than number of requested clients (40).\n",
      "\u001b[92mINFO \u001b[0m:      configure_fit: no clients selected, cancel\n"
     ]
    },
    {
     "name": "stdout",
     "output_type": "stream",
     "text": [
      "\u001b[36m(ClientAppActor pid=11724)\u001b[0m \n",
      "\u001b[36m(ClientAppActor pid=11724)\u001b[0m \u001b[1m  1/132\u001b[0m \u001b[37m━━━━━━━━━━━━━━━━━━━━\u001b[0m \u001b[1m32s\u001b[0m 251ms/step - loss: 0.0386 - mean_absolute_error: 0.1811\n",
      "\u001b[36m(ClientAppActor pid=11724)\u001b[0m \n",
      "\u001b[36m(ClientAppActor pid=11724)\u001b[0m \u001b[1m 88/132\u001b[0m \u001b[32m━━━━━━━━━━━━━\u001b[0m\u001b[37m━━━━━━━\u001b[0m \u001b[1m0s\u001b[0m 723us/step - loss: 0.4555 - mean_absolute_error: 0.3837 \n",
      "\u001b[36m(ClientAppActor pid=11724)\u001b[0m \u001b[1m132/132\u001b[0m \u001b[32m━━━━━━━━━━━━━━━━━━━━\u001b[0m\u001b[37m\u001b[0m \u001b[1m0s\u001b[0m 599us/step - loss: 0.6839 - mean_absolute_error: 0.4755\n"
     ]
    },
    {
     "name": "stderr",
     "output_type": "stream",
     "text": [
      "c:\\Users\\Yedek\\AppData\\Local\\Programs\\Python\\Python311\\Lib\\site-packages\\keras\\src\\layers\\rnn\\rnn.py:204: UserWarning: Do not pass an `input_shape`/`input_dim` argument to a layer. When using Sequential models, prefer using an `Input(shape)` object as the first layer in the model instead.\n",
      "  super().__init__(**kwargs)\n",
      "\u001b[92mINFO \u001b[0m:      fit progress: (7, 2.3573930263519287, {'accuracy': 0.9640632271766663}, 44.68229169999904)\n",
      "\u001b[92mINFO \u001b[0m:      configure_evaluate: strategy sampled 10 clients (out of 30)\n",
      "\u001b[36m(ClientAppActor pid=11724)\u001b[0m c:\\Users\\Yedek\\AppData\\Local\\Programs\\Python\\Python311\\Lib\\site-packages\\keras\\src\\layers\\rnn\\rnn.py:204: UserWarning: Do not pass an `input_shape`/`input_dim` argument to a layer. When using Sequential models, prefer using an `Input(shape)` object as the first layer in the model instead.\n",
      "\u001b[36m(ClientAppActor pid=11724)\u001b[0m   super().__init__(**kwargs)\n"
     ]
    },
    {
     "name": "stdout",
     "output_type": "stream",
     "text": [
      "\u001b[36m(ClientAppActor pid=11724)\u001b[0m \n",
      "\u001b[36m(ClientAppActor pid=11724)\u001b[0m \u001b[1m  1/132\u001b[0m \u001b[37m━━━━━━━━━━━━━━━━━━━━\u001b[0m \u001b[1m33s\u001b[0m 252ms/step - loss: 0.1033 - mean_absolute_error: 0.3080\n",
      "\u001b[36m(ClientAppActor pid=11724)\u001b[0m \n",
      "\u001b[36m(ClientAppActor pid=11724)\u001b[0m \u001b[1m 92/132\u001b[0m \u001b[32m━━━━━━━━━━━━━\u001b[0m\u001b[37m━━━━━━━\u001b[0m \u001b[1m0s\u001b[0m 618us/step - loss: 0.2613 - mean_absolute_error: 0.4242 \n",
      "\u001b[36m(ClientAppActor pid=11724)\u001b[0m \u001b[1m132/132\u001b[0m \u001b[32m━━━━━━━━━━━━━━━━━━━━\u001b[0m\u001b[37m\u001b[0m \u001b[1m0s\u001b[0m 602us/step - loss: 0.3007 - mean_absolute_error: 0.4379\n"
     ]
    },
    {
     "name": "stderr",
     "output_type": "stream",
     "text": [
      "\u001b[36m(ClientAppActor pid=11724)\u001b[0m c:\\Users\\Yedek\\AppData\\Local\\Programs\\Python\\Python311\\Lib\\site-packages\\keras\\src\\layers\\rnn\\rnn.py:204: UserWarning: Do not pass an `input_shape`/`input_dim` argument to a layer. When using Sequential models, prefer using an `Input(shape)` object as the first layer in the model instead.\n",
      "\u001b[36m(ClientAppActor pid=11724)\u001b[0m   super().__init__(**kwargs)\n"
     ]
    },
    {
     "name": "stdout",
     "output_type": "stream",
     "text": [
      "\u001b[36m(ClientAppActor pid=11724)\u001b[0m \n",
      "\u001b[36m(ClientAppActor pid=11724)\u001b[0m \u001b[1m  1/123\u001b[0m \u001b[37m━━━━━━━━━━━━━━━━━━━━\u001b[0m \u001b[1m30s\u001b[0m 252ms/step - loss: 0.0138 - mean_absolute_error: 0.0967\n",
      "\u001b[36m(ClientAppActor pid=11724)\u001b[0m \u001b[1m102/123\u001b[0m \u001b[32m━━━━━━━━━━━━━━━━\u001b[0m\u001b[37m━━━━\u001b[0m \u001b[1m0s\u001b[0m 619us/step - loss: 0.3196 - mean_absolute_error: 0.3898 \n",
      "\u001b[36m(ClientAppActor pid=11724)\u001b[0m \u001b[1m123/123\u001b[0m \u001b[32m━━━━━━━━━━━━━━━━━━━━\u001b[0m\u001b[37m\u001b[0m \u001b[1m0s\u001b[0m 525us/step - loss: 0.4021 - mean_absolute_error: 0.4434\n"
     ]
    },
    {
     "name": "stderr",
     "output_type": "stream",
     "text": [
      "\u001b[36m(ClientAppActor pid=11724)\u001b[0m c:\\Users\\Yedek\\AppData\\Local\\Programs\\Python\\Python311\\Lib\\site-packages\\keras\\src\\layers\\rnn\\rnn.py:204: UserWarning: Do not pass an `input_shape`/`input_dim` argument to a layer. When using Sequential models, prefer using an `Input(shape)` object as the first layer in the model instead.\n",
      "\u001b[36m(ClientAppActor pid=11724)\u001b[0m   super().__init__(**kwargs)\n"
     ]
    },
    {
     "name": "stdout",
     "output_type": "stream",
     "text": [
      "\u001b[36m(ClientAppActor pid=11724)\u001b[0m \n",
      "\u001b[36m(ClientAppActor pid=11724)\u001b[0m \u001b[1m  1/128\u001b[0m \u001b[37m━━━━━━━━━━━━━━━━━━━━\u001b[0m \u001b[1m32s\u001b[0m 252ms/step - loss: 0.2679 - mean_absolute_error: 0.4892\n",
      "\u001b[36m(ClientAppActor pid=11724)\u001b[0m \n",
      "\u001b[36m(ClientAppActor pid=11724)\u001b[0m \u001b[1m102/128\u001b[0m \u001b[32m━━━━━━━━━━━━━━━\u001b[0m\u001b[37m━━━━━\u001b[0m \u001b[1m0s\u001b[0m 623us/step - loss: 0.2770 - mean_absolute_error: 0.4580 \n",
      "\u001b[36m(ClientAppActor pid=11724)\u001b[0m \u001b[1m128/128\u001b[0m \u001b[32m━━━━━━━━━━━━━━━━━━━━\u001b[0m\u001b[37m\u001b[0m \u001b[1m0s\u001b[0m 621us/step - loss: 0.2620 - mean_absolute_error: 0.4383\n"
     ]
    },
    {
     "name": "stderr",
     "output_type": "stream",
     "text": [
      "\u001b[36m(ClientAppActor pid=11724)\u001b[0m c:\\Users\\Yedek\\AppData\\Local\\Programs\\Python\\Python311\\Lib\\site-packages\\keras\\src\\layers\\rnn\\rnn.py:204: UserWarning: Do not pass an `input_shape`/`input_dim` argument to a layer. When using Sequential models, prefer using an `Input(shape)` object as the first layer in the model instead.\n",
      "\u001b[36m(ClientAppActor pid=11724)\u001b[0m   super().__init__(**kwargs)\n"
     ]
    },
    {
     "name": "stdout",
     "output_type": "stream",
     "text": [
      "\u001b[36m(ClientAppActor pid=11724)\u001b[0m \n",
      "\u001b[36m(ClientAppActor pid=11724)\u001b[0m \u001b[1m  1/132\u001b[0m \u001b[37m━━━━━━━━━━━━━━━━━━━━\u001b[0m \u001b[1m33s\u001b[0m 252ms/step - loss: 0.2986 - mean_absolute_error: 0.4749\n",
      "\u001b[36m(ClientAppActor pid=11724)\u001b[0m \n",
      "\u001b[36m(ClientAppActor pid=11724)\u001b[0m \u001b[1m103/132\u001b[0m \u001b[32m━━━━━━━━━━━━━━━\u001b[0m\u001b[37m━━━━━\u001b[0m \u001b[1m0s\u001b[0m 617us/step - loss: 0.5649 - mean_absolute_error: 0.5951 \n",
      "\u001b[36m(ClientAppActor pid=11724)\u001b[0m \u001b[1m132/132\u001b[0m \u001b[32m━━━━━━━━━━━━━━━━━━━━\u001b[0m\u001b[37m\u001b[0m \u001b[1m0s\u001b[0m 602us/step - loss: 0.5294 - mean_absolute_error: 0.5687\n"
     ]
    },
    {
     "name": "stderr",
     "output_type": "stream",
     "text": [
      "\u001b[36m(ClientAppActor pid=11724)\u001b[0m c:\\Users\\Yedek\\AppData\\Local\\Programs\\Python\\Python311\\Lib\\site-packages\\keras\\src\\layers\\rnn\\rnn.py:204: UserWarning: Do not pass an `input_shape`/`input_dim` argument to a layer. When using Sequential models, prefer using an `Input(shape)` object as the first layer in the model instead.\n",
      "\u001b[36m(ClientAppActor pid=11724)\u001b[0m   super().__init__(**kwargs)\n"
     ]
    },
    {
     "name": "stdout",
     "output_type": "stream",
     "text": [
      "\u001b[36m(ClientAppActor pid=11724)\u001b[0m \n",
      "\u001b[36m(ClientAppActor pid=11724)\u001b[0m \u001b[1m  1/121\u001b[0m \u001b[37m━━━━━━━━━━━━━━━━━━━━\u001b[0m \u001b[1m29s\u001b[0m 248ms/step - loss: 6.2059 - mean_absolute_error: 2.1670\n",
      "\u001b[36m(ClientAppActor pid=11724)\u001b[0m \u001b[1m 93/121\u001b[0m \u001b[32m━━━━━━━━━━━━━━━\u001b[0m\u001b[37m━━━━━\u001b[0m \u001b[1m0s\u001b[0m 679us/step - loss: 5.7034 - mean_absolute_error: 1.8456 \n",
      "\u001b[36m(ClientAppActor pid=11724)\u001b[0m \n",
      "\u001b[36m(ClientAppActor pid=11724)\u001b[0m \u001b[1m121/121\u001b[0m \u001b[32m━━━━━━━━━━━━━━━━━━━━\u001b[0m\u001b[37m\u001b[0m \u001b[1m0s\u001b[0m 654us/step - loss: 5.1636 - mean_absolute_error: 1.7147\n"
     ]
    },
    {
     "name": "stderr",
     "output_type": "stream",
     "text": [
      "\u001b[36m(ClientAppActor pid=11724)\u001b[0m c:\\Users\\Yedek\\AppData\\Local\\Programs\\Python\\Python311\\Lib\\site-packages\\keras\\src\\layers\\rnn\\rnn.py:204: UserWarning: Do not pass an `input_shape`/`input_dim` argument to a layer. When using Sequential models, prefer using an `Input(shape)` object as the first layer in the model instead.\n",
      "\u001b[36m(ClientAppActor pid=11724)\u001b[0m   super().__init__(**kwargs)\n"
     ]
    },
    {
     "name": "stdout",
     "output_type": "stream",
     "text": [
      "\u001b[36m(ClientAppActor pid=11724)\u001b[0m \n",
      "\u001b[36m(ClientAppActor pid=11724)\u001b[0m \u001b[1m  1/132\u001b[0m \u001b[37m━━━━━━━━━━━━━━━━━━━━\u001b[0m \u001b[1m58s\u001b[0m 444ms/step - loss: 1.7097 - mean_absolute_error: 1.0682\n",
      "\u001b[36m(ClientAppActor pid=11724)\u001b[0m \n",
      "\u001b[36m(ClientAppActor pid=11724)\u001b[0m \u001b[1m 84/132\u001b[0m \u001b[32m━━━━━━━━━━━━\u001b[0m\u001b[37m━━━━━━━━\u001b[0m \u001b[1m0s\u001b[0m 702us/step - loss: 1.3504 - mean_absolute_error: 0.8519 \n",
      "\u001b[36m(ClientAppActor pid=11724)\u001b[0m \u001b[1m132/132\u001b[0m \u001b[32m━━━━━━━━━━━━━━━━━━━━\u001b[0m\u001b[37m\u001b[0m \u001b[1m1s\u001b[0m 564us/step - loss: 1.3874 - mean_absolute_error: 0.8100\n"
     ]
    },
    {
     "name": "stderr",
     "output_type": "stream",
     "text": [
      "\u001b[36m(ClientAppActor pid=11724)\u001b[0m c:\\Users\\Yedek\\AppData\\Local\\Programs\\Python\\Python311\\Lib\\site-packages\\keras\\src\\layers\\rnn\\rnn.py:204: UserWarning: Do not pass an `input_shape`/`input_dim` argument to a layer. When using Sequential models, prefer using an `Input(shape)` object as the first layer in the model instead.\n",
      "\u001b[36m(ClientAppActor pid=11724)\u001b[0m   super().__init__(**kwargs)\n"
     ]
    },
    {
     "name": "stdout",
     "output_type": "stream",
     "text": [
      "\u001b[36m(ClientAppActor pid=11724)\u001b[0m \n",
      "\u001b[36m(ClientAppActor pid=11724)\u001b[0m \u001b[1m  1/113\u001b[0m \u001b[37m━━━━━━━━━━━━━━━━━━━━\u001b[0m \u001b[1m28s\u001b[0m 252ms/step - loss: 2.3713 - mean_absolute_error: 1.1847\n",
      "\u001b[36m(ClientAppActor pid=11724)\u001b[0m \n",
      "\u001b[36m(ClientAppActor pid=11724)\u001b[0m \u001b[1m 95/113\u001b[0m \u001b[32m━━━━━━━━━━━━━━━━\u001b[0m\u001b[37m━━━━\u001b[0m \u001b[1m0s\u001b[0m 669us/step - loss: 1.6745 - mean_absolute_error: 0.8708 \n",
      "\u001b[36m(ClientAppActor pid=11724)\u001b[0m \u001b[1m113/113\u001b[0m \u001b[32m━━━━━━━━━━━━━━━━━━━━\u001b[0m\u001b[37m\u001b[0m \u001b[1m0s\u001b[0m 562us/step - loss: 1.7226 - mean_absolute_error: 0.8555\n"
     ]
    },
    {
     "name": "stderr",
     "output_type": "stream",
     "text": [
      "\u001b[36m(ClientAppActor pid=11724)\u001b[0m c:\\Users\\Yedek\\AppData\\Local\\Programs\\Python\\Python311\\Lib\\site-packages\\keras\\src\\layers\\rnn\\rnn.py:204: UserWarning: Do not pass an `input_shape`/`input_dim` argument to a layer. When using Sequential models, prefer using an `Input(shape)` object as the first layer in the model instead.\n",
      "\u001b[36m(ClientAppActor pid=11724)\u001b[0m   super().__init__(**kwargs)\n"
     ]
    },
    {
     "name": "stdout",
     "output_type": "stream",
     "text": [
      "\u001b[36m(ClientAppActor pid=11724)\u001b[0m \n",
      "\u001b[36m(ClientAppActor pid=11724)\u001b[0m \u001b[1m  1/128\u001b[0m \u001b[37m━━━━━━━━━━━━━━━━━━━━\u001b[0m \u001b[1m32s\u001b[0m 252ms/step - loss: 0.1980 - mean_absolute_error: 0.4256\n",
      "\u001b[36m(ClientAppActor pid=11724)\u001b[0m \u001b[1m104/128\u001b[0m \u001b[32m━━━━━━━━━━━━━━━━\u001b[0m\u001b[37m━━━━\u001b[0m \u001b[1m0s\u001b[0m 611us/step - loss: 0.3970 - mean_absolute_error: 0.5234 \n",
      "\u001b[36m(ClientAppActor pid=11724)\u001b[0m \n",
      "\u001b[36m(ClientAppActor pid=11724)\u001b[0m \u001b[1m128/128\u001b[0m \u001b[32m━━━━━━━━━━━━━━━━━━━━\u001b[0m\u001b[37m\u001b[0m \u001b[1m0s\u001b[0m 543us/step - loss: 0.5716 - mean_absolute_error: 0.5774\n"
     ]
    },
    {
     "name": "stderr",
     "output_type": "stream",
     "text": [
      "\u001b[36m(ClientAppActor pid=11724)\u001b[0m c:\\Users\\Yedek\\AppData\\Local\\Programs\\Python\\Python311\\Lib\\site-packages\\keras\\src\\layers\\rnn\\rnn.py:204: UserWarning: Do not pass an `input_shape`/`input_dim` argument to a layer. When using Sequential models, prefer using an `Input(shape)` object as the first layer in the model instead.\n",
      "\u001b[36m(ClientAppActor pid=11724)\u001b[0m   super().__init__(**kwargs)\n"
     ]
    },
    {
     "name": "stdout",
     "output_type": "stream",
     "text": [
      "\u001b[36m(ClientAppActor pid=11724)\u001b[0m \n",
      "\u001b[36m(ClientAppActor pid=11724)\u001b[0m \u001b[1m  1/132\u001b[0m \u001b[37m━━━━━━━━━━━━━━━━━━━━\u001b[0m \u001b[1m34s\u001b[0m 261ms/step - loss: 0.3562 - mean_absolute_error: 0.5761\n",
      "\u001b[36m(ClientAppActor pid=11724)\u001b[0m \u001b[1m 91/132\u001b[0m \u001b[32m━━━━━━━━━━━━━\u001b[0m\u001b[37m━━━━━━━\u001b[0m \u001b[1m0s\u001b[0m 621us/step - loss: 0.8255 - mean_absolute_error: 0.7740 \n",
      "\u001b[36m(ClientAppActor pid=11724)\u001b[0m \u001b[1m132/132\u001b[0m \u001b[32m━━━━━━━━━━━━━━━━━━━━\u001b[0m\u001b[37m\u001b[0m \u001b[1m0s\u001b[0m 546us/step - loss: 0.8680 - mean_absolute_error: 0.7699\n"
     ]
    },
    {
     "name": "stderr",
     "output_type": "stream",
     "text": [
      "\u001b[36m(ClientAppActor pid=11724)\u001b[0m c:\\Users\\Yedek\\AppData\\Local\\Programs\\Python\\Python311\\Lib\\site-packages\\keras\\src\\layers\\rnn\\rnn.py:204: UserWarning: Do not pass an `input_shape`/`input_dim` argument to a layer. When using Sequential models, prefer using an `Input(shape)` object as the first layer in the model instead.\n",
      "\u001b[36m(ClientAppActor pid=11724)\u001b[0m   super().__init__(**kwargs)\n",
      "\u001b[92mINFO \u001b[0m:      aggregate_evaluate: received 10 results and 0 failures\n",
      "\u001b[92mINFO \u001b[0m:      \n",
      "\u001b[92mINFO \u001b[0m:      [ROUND 8]\n",
      "\u001b[92mINFO \u001b[0m:      Sampling failed: number of available clients (30) is less than number of requested clients (40).\n",
      "\u001b[92mINFO \u001b[0m:      configure_fit: no clients selected, cancel\n"
     ]
    },
    {
     "name": "stdout",
     "output_type": "stream",
     "text": [
      "\u001b[36m(ClientAppActor pid=11724)\u001b[0m \n",
      "\u001b[36m(ClientAppActor pid=11724)\u001b[0m \u001b[1m  1/132\u001b[0m \u001b[37m━━━━━━━━━━━━━━━━━━━━\u001b[0m \u001b[1m33s\u001b[0m 257ms/step - loss: 0.0386 - mean_absolute_error: 0.1811\n",
      "\u001b[36m(ClientAppActor pid=11724)\u001b[0m \n",
      "\u001b[36m(ClientAppActor pid=11724)\u001b[0m \u001b[1m 92/132\u001b[0m \u001b[32m━━━━━━━━━━━━━\u001b[0m\u001b[37m━━━━━━━\u001b[0m \u001b[1m0s\u001b[0m 690us/step - loss: 0.4939 - mean_absolute_error: 0.3984 \n",
      "\u001b[36m(ClientAppActor pid=11724)\u001b[0m \u001b[1m132/132\u001b[0m \u001b[32m━━━━━━━━━━━━━━━━━━━━\u001b[0m\u001b[37m\u001b[0m \u001b[1m0s\u001b[0m 599us/step - loss: 0.6839 - mean_absolute_error: 0.4755\n"
     ]
    },
    {
     "name": "stderr",
     "output_type": "stream",
     "text": [
      "c:\\Users\\Yedek\\AppData\\Local\\Programs\\Python\\Python311\\Lib\\site-packages\\keras\\src\\layers\\rnn\\rnn.py:204: UserWarning: Do not pass an `input_shape`/`input_dim` argument to a layer. When using Sequential models, prefer using an `Input(shape)` object as the first layer in the model instead.\n",
      "  super().__init__(**kwargs)\n",
      "\u001b[92mINFO \u001b[0m:      fit progress: (8, 2.3573930263519287, {'accuracy': 0.9640632271766663}, 51.577553699997225)\n",
      "\u001b[92mINFO \u001b[0m:      configure_evaluate: strategy sampled 10 clients (out of 30)\n",
      "\u001b[36m(ClientAppActor pid=11724)\u001b[0m c:\\Users\\Yedek\\AppData\\Local\\Programs\\Python\\Python311\\Lib\\site-packages\\keras\\src\\layers\\rnn\\rnn.py:204: UserWarning: Do not pass an `input_shape`/`input_dim` argument to a layer. When using Sequential models, prefer using an `Input(shape)` object as the first layer in the model instead.\n",
      "\u001b[36m(ClientAppActor pid=11724)\u001b[0m   super().__init__(**kwargs)\n"
     ]
    },
    {
     "name": "stdout",
     "output_type": "stream",
     "text": [
      "\u001b[36m(ClientAppActor pid=11724)\u001b[0m \n",
      "\u001b[36m(ClientAppActor pid=11724)\u001b[0m \u001b[1m  1/113\u001b[0m \u001b[37m━━━━━━━━━━━━━━━━━━━━\u001b[0m \u001b[1m28s\u001b[0m 252ms/step - loss: 2.3713 - mean_absolute_error: 1.1847\n",
      "\u001b[36m(ClientAppActor pid=11724)\u001b[0m \n",
      "\u001b[36m(ClientAppActor pid=11724)\u001b[0m \u001b[1m 92/113\u001b[0m \u001b[32m━━━━━━━━━━━━━━━━\u001b[0m\u001b[37m━━━━\u001b[0m \u001b[1m0s\u001b[0m 691us/step - loss: 1.6580 - mean_absolute_error: 0.8715 \n",
      "\u001b[36m(ClientAppActor pid=11724)\u001b[0m \u001b[1m113/113\u001b[0m \u001b[32m━━━━━━━━━━━━━━━━━━━━\u001b[0m\u001b[37m\u001b[0m \u001b[1m0s\u001b[0m 575us/step - loss: 1.7226 - mean_absolute_error: 0.8555\n"
     ]
    },
    {
     "name": "stderr",
     "output_type": "stream",
     "text": [
      "\u001b[36m(ClientAppActor pid=11724)\u001b[0m c:\\Users\\Yedek\\AppData\\Local\\Programs\\Python\\Python311\\Lib\\site-packages\\keras\\src\\layers\\rnn\\rnn.py:204: UserWarning: Do not pass an `input_shape`/`input_dim` argument to a layer. When using Sequential models, prefer using an `Input(shape)` object as the first layer in the model instead.\n",
      "\u001b[36m(ClientAppActor pid=11724)\u001b[0m   super().__init__(**kwargs)\n"
     ]
    },
    {
     "name": "stdout",
     "output_type": "stream",
     "text": [
      "\u001b[36m(ClientAppActor pid=11724)\u001b[0m \n",
      "\u001b[36m(ClientAppActor pid=11724)\u001b[0m \u001b[1m  1/132\u001b[0m \u001b[37m━━━━━━━━━━━━━━━━━━━━\u001b[0m \u001b[1m33s\u001b[0m 252ms/step - loss: 0.0050 - mean_absolute_error: 0.0463\n",
      "\u001b[36m(ClientAppActor pid=11724)\u001b[0m \u001b[1m 86/132\u001b[0m \u001b[32m━━━━━━━━━━━━━\u001b[0m\u001b[37m━━━━━━━\u001b[0m \u001b[1m0s\u001b[0m 610us/step - loss: 0.1678 - mean_absolute_error: 0.1802 \n",
      "\u001b[36m(ClientAppActor pid=11724)\u001b[0m \n",
      "\u001b[36m(ClientAppActor pid=11724)\u001b[0m \u001b[1m132/132\u001b[0m \u001b[32m━━━━━━━━━━━━━━━━━━━━\u001b[0m\u001b[37m\u001b[0m \u001b[1m0s\u001b[0m 602us/step - loss: 0.3147 - mean_absolute_error: 0.2865\n"
     ]
    },
    {
     "name": "stderr",
     "output_type": "stream",
     "text": [
      "\u001b[36m(ClientAppActor pid=11724)\u001b[0m c:\\Users\\Yedek\\AppData\\Local\\Programs\\Python\\Python311\\Lib\\site-packages\\keras\\src\\layers\\rnn\\rnn.py:204: UserWarning: Do not pass an `input_shape`/`input_dim` argument to a layer. When using Sequential models, prefer using an `Input(shape)` object as the first layer in the model instead.\n",
      "\u001b[36m(ClientAppActor pid=11724)\u001b[0m   super().__init__(**kwargs)\n"
     ]
    },
    {
     "name": "stdout",
     "output_type": "stream",
     "text": [
      "\u001b[36m(ClientAppActor pid=11724)\u001b[0m \n",
      "\u001b[36m(ClientAppActor pid=11724)\u001b[0m \u001b[1m 1/98\u001b[0m \u001b[37m━━━━━━━━━━━━━━━━━━━━\u001b[0m \u001b[1m24s\u001b[0m 251ms/step - loss: 0.6670 - mean_absolute_error: 0.7618\n",
      "\u001b[36m(ClientAppActor pid=11724)\u001b[0m \u001b[1m84/98\u001b[0m \u001b[32m━━━━━━━━━━━━━━━━━\u001b[0m\u001b[37m━━━\u001b[0m \u001b[1m0s\u001b[0m 753us/step - loss: 1.0203 - mean_absolute_error: 0.7380 \n",
      "\u001b[36m(ClientAppActor pid=11724)\u001b[0m \u001b[1m98/98\u001b[0m \u001b[32m━━━━━━━━━━━━━━━━━━━━\u001b[0m\u001b[37m\u001b[0m \u001b[1m0s\u001b[0m 644us/step - loss: 1.1102 - mean_absolute_error: 0.7708\n"
     ]
    },
    {
     "name": "stderr",
     "output_type": "stream",
     "text": [
      "\u001b[36m(ClientAppActor pid=11724)\u001b[0m c:\\Users\\Yedek\\AppData\\Local\\Programs\\Python\\Python311\\Lib\\site-packages\\keras\\src\\layers\\rnn\\rnn.py:204: UserWarning: Do not pass an `input_shape`/`input_dim` argument to a layer. When using Sequential models, prefer using an `Input(shape)` object as the first layer in the model instead.\n",
      "\u001b[36m(ClientAppActor pid=11724)\u001b[0m   super().__init__(**kwargs)\n"
     ]
    },
    {
     "name": "stdout",
     "output_type": "stream",
     "text": [
      "\u001b[36m(ClientAppActor pid=11724)\u001b[0m \n",
      "\u001b[36m(ClientAppActor pid=11724)\u001b[0m \u001b[1m  1/121\u001b[0m \u001b[37m━━━━━━━━━━━━━━━━━━━━\u001b[0m \u001b[1m30s\u001b[0m 255ms/step - loss: 6.2059 - mean_absolute_error: 2.1670\n",
      "\u001b[36m(ClientAppActor pid=11724)\u001b[0m \n",
      "\u001b[36m(ClientAppActor pid=11724)\u001b[0m \u001b[1m 88/121\u001b[0m \u001b[32m━━━━━━━━━━━━━━\u001b[0m\u001b[37m━━━━━━\u001b[0m \u001b[1m0s\u001b[0m 687us/step - loss: 5.8034 - mean_absolute_error: 1.8694 \n",
      "\u001b[36m(ClientAppActor pid=11724)\u001b[0m \u001b[1m121/121\u001b[0m \u001b[32m━━━━━━━━━━━━━━━━━━━━\u001b[0m\u001b[37m\u001b[0m \u001b[1m0s\u001b[0m 628us/step - loss: 5.1636 - mean_absolute_error: 1.7147\n"
     ]
    },
    {
     "name": "stderr",
     "output_type": "stream",
     "text": [
      "\u001b[36m(ClientAppActor pid=11724)\u001b[0m c:\\Users\\Yedek\\AppData\\Local\\Programs\\Python\\Python311\\Lib\\site-packages\\keras\\src\\layers\\rnn\\rnn.py:204: UserWarning: Do not pass an `input_shape`/`input_dim` argument to a layer. When using Sequential models, prefer using an `Input(shape)` object as the first layer in the model instead.\n",
      "\u001b[36m(ClientAppActor pid=11724)\u001b[0m   super().__init__(**kwargs)\n"
     ]
    },
    {
     "name": "stdout",
     "output_type": "stream",
     "text": [
      "\u001b[36m(ClientAppActor pid=11724)\u001b[0m \n",
      "\u001b[36m(ClientAppActor pid=11724)\u001b[0m \u001b[1m  1/132\u001b[0m \u001b[37m━━━━━━━━━━━━━━━━━━━━\u001b[0m \u001b[1m34s\u001b[0m 262ms/step - loss: 0.1676 - mean_absolute_error: 0.3636\n",
      "\u001b[36m(ClientAppActor pid=11724)\u001b[0m \u001b[1m 83/132\u001b[0m \u001b[32m━━━━━━━━━━━━\u001b[0m\u001b[37m━━━━━━━━\u001b[0m \u001b[1m0s\u001b[0m 639us/step - loss: 0.1899 - mean_absolute_error: 0.3253 \n",
      "\u001b[36m(ClientAppActor pid=11724)\u001b[0m \n",
      "\u001b[36m(ClientAppActor pid=11724)\u001b[0m \u001b[1m132/132\u001b[0m \u001b[32m━━━━━━━━━━━━━━━━━━━━\u001b[0m\u001b[37m\u001b[0m \u001b[1m0s\u001b[0m 522us/step - loss: 0.2456 - mean_absolute_error: 0.3571\n"
     ]
    },
    {
     "name": "stderr",
     "output_type": "stream",
     "text": [
      "\u001b[36m(ClientAppActor pid=11724)\u001b[0m c:\\Users\\Yedek\\AppData\\Local\\Programs\\Python\\Python311\\Lib\\site-packages\\keras\\src\\layers\\rnn\\rnn.py:204: UserWarning: Do not pass an `input_shape`/`input_dim` argument to a layer. When using Sequential models, prefer using an `Input(shape)` object as the first layer in the model instead.\n",
      "\u001b[36m(ClientAppActor pid=11724)\u001b[0m   super().__init__(**kwargs)\n"
     ]
    },
    {
     "name": "stdout",
     "output_type": "stream",
     "text": [
      "\u001b[36m(ClientAppActor pid=11724)\u001b[0m \n",
      "\u001b[36m(ClientAppActor pid=11724)\u001b[0m \u001b[1m  1/132\u001b[0m \u001b[37m━━━━━━━━━━━━━━━━━━━━\u001b[0m \u001b[1m33s\u001b[0m 253ms/step - loss: 1.0598 - mean_absolute_error: 0.9438\n",
      "\u001b[36m(ClientAppActor pid=11724)\u001b[0m \u001b[1m106/132\u001b[0m \u001b[32m━━━━━━━━━━━━━━━━\u001b[0m\u001b[37m━━━━\u001b[0m \u001b[1m0s\u001b[0m 599us/step - loss: 1.4621 - mean_absolute_error: 0.9741 \n",
      "\u001b[36m(ClientAppActor pid=11724)\u001b[0m \u001b[1m132/132\u001b[0m \u001b[32m━━━━━━━━━━━━━━━━━━━━\u001b[0m\u001b[37m\u001b[0m \u001b[1m0s\u001b[0m 599us/step - loss: 1.3395 - mean_absolute_error: 0.9163\n"
     ]
    },
    {
     "name": "stderr",
     "output_type": "stream",
     "text": [
      "\u001b[36m(ClientAppActor pid=11724)\u001b[0m c:\\Users\\Yedek\\AppData\\Local\\Programs\\Python\\Python311\\Lib\\site-packages\\keras\\src\\layers\\rnn\\rnn.py:204: UserWarning: Do not pass an `input_shape`/`input_dim` argument to a layer. When using Sequential models, prefer using an `Input(shape)` object as the first layer in the model instead.\n",
      "\u001b[36m(ClientAppActor pid=11724)\u001b[0m   super().__init__(**kwargs)\n"
     ]
    },
    {
     "name": "stdout",
     "output_type": "stream",
     "text": [
      "\u001b[36m(ClientAppActor pid=11724)\u001b[0m \n",
      "\u001b[36m(ClientAppActor pid=11724)\u001b[0m \u001b[1m  1/132\u001b[0m \u001b[37m━━━━━━━━━━━━━━━━━━━━\u001b[0m \u001b[1m57s\u001b[0m 440ms/step - loss: 0.7109 - mean_absolute_error: 0.6670\n",
      "\u001b[36m(ClientAppActor pid=11724)\u001b[0m \n",
      "\u001b[36m(ClientAppActor pid=11724)\u001b[0m \u001b[1m 96/132\u001b[0m \u001b[32m━━━━━━━━━━━━━━\u001b[0m\u001b[37m━━━━━━\u001b[0m \u001b[1m0s\u001b[0m 662us/step - loss: 0.7829 - mean_absolute_error: 0.6976 \n",
      "\u001b[36m(ClientAppActor pid=11724)\u001b[0m \u001b[1m132/132\u001b[0m \u001b[32m━━━━━━━━━━━━━━━━━━━━\u001b[0m\u001b[37m\u001b[0m \u001b[1m1s\u001b[0m 599us/step - loss: 0.7282 - mean_absolute_error: 0.6624\n"
     ]
    },
    {
     "name": "stderr",
     "output_type": "stream",
     "text": [
      "\u001b[36m(ClientAppActor pid=11724)\u001b[0m c:\\Users\\Yedek\\AppData\\Local\\Programs\\Python\\Python311\\Lib\\site-packages\\keras\\src\\layers\\rnn\\rnn.py:204: UserWarning: Do not pass an `input_shape`/`input_dim` argument to a layer. When using Sequential models, prefer using an `Input(shape)` object as the first layer in the model instead.\n",
      "\u001b[36m(ClientAppActor pid=11724)\u001b[0m   super().__init__(**kwargs)\n"
     ]
    },
    {
     "name": "stdout",
     "output_type": "stream",
     "text": [
      "\u001b[36m(ClientAppActor pid=11724)\u001b[0m \n",
      "\u001b[36m(ClientAppActor pid=11724)\u001b[0m \u001b[1m  1/132\u001b[0m \u001b[37m━━━━━━━━━━━━━━━━━━━━\u001b[0m \u001b[1m35s\u001b[0m 268ms/step - loss: 0.9315 - mean_absolute_error: 0.8802\n",
      "\u001b[36m(ClientAppActor pid=11724)\u001b[0m \n",
      "\u001b[36m(ClientAppActor pid=11724)\u001b[0m \u001b[1m 99/132\u001b[0m \u001b[32m━━━━━━━━━━━━━━━\u001b[0m\u001b[37m━━━━━\u001b[0m \u001b[1m0s\u001b[0m 646us/step - loss: 1.9707 - mean_absolute_error: 1.1759 \n",
      "\u001b[36m(ClientAppActor pid=11724)\u001b[0m \u001b[1m132/132\u001b[0m \u001b[32m━━━━━━━━━━━━━━━━━━━━\u001b[0m\u001b[37m\u001b[0m \u001b[1m0s\u001b[0m 602us/step - loss: 1.8119 - mean_absolute_error: 1.1129\n"
     ]
    },
    {
     "name": "stderr",
     "output_type": "stream",
     "text": [
      "\u001b[36m(ClientAppActor pid=11724)\u001b[0m c:\\Users\\Yedek\\AppData\\Local\\Programs\\Python\\Python311\\Lib\\site-packages\\keras\\src\\layers\\rnn\\rnn.py:204: UserWarning: Do not pass an `input_shape`/`input_dim` argument to a layer. When using Sequential models, prefer using an `Input(shape)` object as the first layer in the model instead.\n",
      "\u001b[36m(ClientAppActor pid=11724)\u001b[0m   super().__init__(**kwargs)\n"
     ]
    },
    {
     "name": "stdout",
     "output_type": "stream",
     "text": [
      "\u001b[36m(ClientAppActor pid=11724)\u001b[0m \n",
      "\u001b[36m(ClientAppActor pid=11724)\u001b[0m \u001b[1m  1/132\u001b[0m \u001b[37m━━━━━━━━━━━━━━━━━━━━\u001b[0m \u001b[1m35s\u001b[0m 270ms/step - loss: 1.2314 - mean_absolute_error: 0.8956\n",
      "\u001b[36m(ClientAppActor pid=11724)\u001b[0m \u001b[1m101/132\u001b[0m \u001b[32m━━━━━━━━━━━━━━━\u001b[0m\u001b[37m━━━━━\u001b[0m \u001b[1m0s\u001b[0m 614us/step - loss: 2.2102 - mean_absolute_error: 0.9779 \n",
      "\u001b[36m(ClientAppActor pid=11724)\u001b[0m \n",
      "\u001b[36m(ClientAppActor pid=11724)\u001b[0m \u001b[1m132/132\u001b[0m \u001b[32m━━━━━━━━━━━━━━━━━━━━\u001b[0m\u001b[37m\u001b[0m \u001b[1m0s\u001b[0m 591us/step - loss: 2.0384 - mean_absolute_error: 0.9261\n"
     ]
    },
    {
     "name": "stderr",
     "output_type": "stream",
     "text": [
      "\u001b[36m(ClientAppActor pid=11724)\u001b[0m c:\\Users\\Yedek\\AppData\\Local\\Programs\\Python\\Python311\\Lib\\site-packages\\keras\\src\\layers\\rnn\\rnn.py:204: UserWarning: Do not pass an `input_shape`/`input_dim` argument to a layer. When using Sequential models, prefer using an `Input(shape)` object as the first layer in the model instead.\n",
      "\u001b[36m(ClientAppActor pid=11724)\u001b[0m   super().__init__(**kwargs)\n",
      "\u001b[92mINFO \u001b[0m:      aggregate_evaluate: received 10 results and 0 failures\n",
      "\u001b[92mINFO \u001b[0m:      \n",
      "\u001b[92mINFO \u001b[0m:      [ROUND 9]\n",
      "\u001b[92mINFO \u001b[0m:      Sampling failed: number of available clients (30) is less than number of requested clients (40).\n",
      "\u001b[92mINFO \u001b[0m:      configure_fit: no clients selected, cancel\n",
      "c:\\Users\\Yedek\\AppData\\Local\\Programs\\Python\\Python311\\Lib\\site-packages\\keras\\src\\layers\\rnn\\rnn.py:204: UserWarning: Do not pass an `input_shape`/`input_dim` argument to a layer. When using Sequential models, prefer using an `Input(shape)` object as the first layer in the model instead.\n",
      "  super().__init__(**kwargs)\n"
     ]
    },
    {
     "name": "stdout",
     "output_type": "stream",
     "text": [
      "\u001b[36m(ClientAppActor pid=11724)\u001b[0m \n",
      "\u001b[36m(ClientAppActor pid=11724)\u001b[0m \u001b[1m  1/128\u001b[0m \u001b[37m━━━━━━━━━━━━━━━━━━━━\u001b[0m \u001b[1m32s\u001b[0m 253ms/step - loss: 0.1980 - mean_absolute_error: 0.4256\n",
      "\u001b[36m(ClientAppActor pid=11724)\u001b[0m \u001b[1m101/128\u001b[0m \u001b[32m━━━━━━━━━━━━━━━\u001b[0m\u001b[37m━━━━━\u001b[0m \u001b[1m0s\u001b[0m 629us/step - loss: 0.3799 - mean_absolute_error: 0.5181 \n",
      "\u001b[36m(ClientAppActor pid=11724)\u001b[0m \u001b[1m128/128\u001b[0m \u001b[32m━━━━━━━━━━━━━━━━━━━━\u001b[0m\u001b[37m\u001b[0m \u001b[1m0s\u001b[0m 618us/step - loss: 0.5716 - mean_absolute_error: 0.5774\n"
     ]
    },
    {
     "name": "stderr",
     "output_type": "stream",
     "text": [
      "\u001b[92mINFO \u001b[0m:      fit progress: (9, 2.3573930263519287, {'accuracy': 0.9640632271766663}, 58.51211779999721)\n",
      "\u001b[92mINFO \u001b[0m:      configure_evaluate: strategy sampled 10 clients (out of 30)\n",
      "\u001b[36m(ClientAppActor pid=11724)\u001b[0m c:\\Users\\Yedek\\AppData\\Local\\Programs\\Python\\Python311\\Lib\\site-packages\\keras\\src\\layers\\rnn\\rnn.py:204: UserWarning: Do not pass an `input_shape`/`input_dim` argument to a layer. When using Sequential models, prefer using an `Input(shape)` object as the first layer in the model instead.\n",
      "\u001b[36m(ClientAppActor pid=11724)\u001b[0m   super().__init__(**kwargs)\n"
     ]
    },
    {
     "name": "stdout",
     "output_type": "stream",
     "text": [
      "\u001b[36m(ClientAppActor pid=11724)\u001b[0m \n",
      "\u001b[36m(ClientAppActor pid=11724)\u001b[0m \u001b[1m  1/132\u001b[0m \u001b[37m━━━━━━━━━━━━━━━━━━━━\u001b[0m \u001b[1m32s\u001b[0m 252ms/step - loss: 0.7483 - mean_absolute_error: 0.7832\n",
      "\u001b[36m(ClientAppActor pid=11724)\u001b[0m \u001b[1m 90/132\u001b[0m \u001b[32m━━━━━━━━━━━━━\u001b[0m\u001b[37m━━━━━━━\u001b[0m \u001b[1m0s\u001b[0m 705us/step - loss: 1.7455 - mean_absolute_error: 1.0411 \n",
      "\u001b[36m(ClientAppActor pid=11724)\u001b[0m \n",
      "\u001b[36m(ClientAppActor pid=11724)\u001b[0m \u001b[1m132/132\u001b[0m \u001b[32m━━━━━━━━━━━━━━━━━━━━\u001b[0m\u001b[37m\u001b[0m \u001b[1m0s\u001b[0m 598us/step - loss: 1.5456 - mean_absolute_error: 0.9594\n"
     ]
    },
    {
     "name": "stderr",
     "output_type": "stream",
     "text": [
      "\u001b[36m(ClientAppActor pid=11724)\u001b[0m c:\\Users\\Yedek\\AppData\\Local\\Programs\\Python\\Python311\\Lib\\site-packages\\keras\\src\\layers\\rnn\\rnn.py:204: UserWarning: Do not pass an `input_shape`/`input_dim` argument to a layer. When using Sequential models, prefer using an `Input(shape)` object as the first layer in the model instead.\n",
      "\u001b[36m(ClientAppActor pid=11724)\u001b[0m   super().__init__(**kwargs)\n"
     ]
    },
    {
     "name": "stdout",
     "output_type": "stream",
     "text": [
      "\u001b[36m(ClientAppActor pid=11724)\u001b[0m \n",
      "\u001b[36m(ClientAppActor pid=11724)\u001b[0m \u001b[1m  1/132\u001b[0m \u001b[37m━━━━━━━━━━━━━━━━━━━━\u001b[0m \u001b[1m33s\u001b[0m 253ms/step - loss: 1.7097 - mean_absolute_error: 1.0682\n",
      "\u001b[36m(ClientAppActor pid=11724)\u001b[0m \u001b[1m 86/132\u001b[0m \u001b[32m━━━━━━━━━━━━━\u001b[0m\u001b[37m━━━━━━━\u001b[0m \u001b[1m0s\u001b[0m 740us/step - loss: 1.3576 - mean_absolute_error: 0.8507 \n",
      "\u001b[36m(ClientAppActor pid=11724)\u001b[0m \u001b[1m132/132\u001b[0m \u001b[32m━━━━━━━━━━━━━━━━━━━━\u001b[0m\u001b[37m\u001b[0m \u001b[1m0s\u001b[0m 599us/step - loss: 1.3874 - mean_absolute_error: 0.8100\n"
     ]
    },
    {
     "name": "stderr",
     "output_type": "stream",
     "text": [
      "\u001b[36m(ClientAppActor pid=11724)\u001b[0m c:\\Users\\Yedek\\AppData\\Local\\Programs\\Python\\Python311\\Lib\\site-packages\\keras\\src\\layers\\rnn\\rnn.py:204: UserWarning: Do not pass an `input_shape`/`input_dim` argument to a layer. When using Sequential models, prefer using an `Input(shape)` object as the first layer in the model instead.\n",
      "\u001b[36m(ClientAppActor pid=11724)\u001b[0m   super().__init__(**kwargs)\n"
     ]
    },
    {
     "name": "stdout",
     "output_type": "stream",
     "text": [
      "\u001b[36m(ClientAppActor pid=11724)\u001b[0m \n",
      "\u001b[36m(ClientAppActor pid=11724)\u001b[0m \u001b[1m 1/98\u001b[0m \u001b[37m━━━━━━━━━━━━━━━━━━━━\u001b[0m \u001b[1m24s\u001b[0m 252ms/step - loss: 0.6670 - mean_absolute_error: 0.7618\n",
      "\u001b[36m(ClientAppActor pid=11724)\u001b[0m \n",
      "\u001b[36m(ClientAppActor pid=11724)\u001b[0m \u001b[1m94/98\u001b[0m \u001b[32m━━━━━━━━━━━━━━━━━━━\u001b[0m\u001b[37m━\u001b[0m \u001b[1m0s\u001b[0m 681us/step - loss: 1.0844 - mean_absolute_error: 0.7612 \n",
      "\u001b[36m(ClientAppActor pid=11724)\u001b[0m \u001b[1m98/98\u001b[0m \u001b[32m━━━━━━━━━━━━━━━━━━━━\u001b[0m\u001b[37m\u001b[0m \u001b[1m0s\u001b[0m 653us/step - loss: 1.1102 - mean_absolute_error: 0.7708\n"
     ]
    },
    {
     "name": "stderr",
     "output_type": "stream",
     "text": [
      "\u001b[36m(ClientAppActor pid=11724)\u001b[0m c:\\Users\\Yedek\\AppData\\Local\\Programs\\Python\\Python311\\Lib\\site-packages\\keras\\src\\layers\\rnn\\rnn.py:204: UserWarning: Do not pass an `input_shape`/`input_dim` argument to a layer. When using Sequential models, prefer using an `Input(shape)` object as the first layer in the model instead.\n",
      "\u001b[36m(ClientAppActor pid=11724)\u001b[0m   super().__init__(**kwargs)\n"
     ]
    },
    {
     "name": "stdout",
     "output_type": "stream",
     "text": [
      "\u001b[36m(ClientAppActor pid=11724)\u001b[0m \n",
      "\u001b[36m(ClientAppActor pid=11724)\u001b[0m \u001b[1m  1/111\u001b[0m \u001b[37m━━━━━━━━━━━━━━━━━━━━\u001b[0m \u001b[1m27s\u001b[0m 252ms/step - loss: 0.0339 - mean_absolute_error: 0.1710\n",
      "\u001b[36m(ClientAppActor pid=11724)\u001b[0m \u001b[1m 87/111\u001b[0m \u001b[32m━━━━━━━━━━━━━━━\u001b[0m\u001b[37m━━━━━\u001b[0m \u001b[1m0s\u001b[0m 667us/step - loss: 0.1468 - mean_absolute_error: 0.2847 \n",
      "\u001b[36m(ClientAppActor pid=11724)\u001b[0m \n",
      "\u001b[36m(ClientAppActor pid=11724)\u001b[0m \u001b[1m111/111\u001b[0m \u001b[32m━━━━━━━━━━━━━━━━━━━━\u001b[0m\u001b[37m\u001b[0m \u001b[1m0s\u001b[0m 572us/step - loss: 0.2175 - mean_absolute_error: 0.3317\n"
     ]
    },
    {
     "name": "stderr",
     "output_type": "stream",
     "text": [
      "\u001b[36m(ClientAppActor pid=11724)\u001b[0m c:\\Users\\Yedek\\AppData\\Local\\Programs\\Python\\Python311\\Lib\\site-packages\\keras\\src\\layers\\rnn\\rnn.py:204: UserWarning: Do not pass an `input_shape`/`input_dim` argument to a layer. When using Sequential models, prefer using an `Input(shape)` object as the first layer in the model instead.\n",
      "\u001b[36m(ClientAppActor pid=11724)\u001b[0m   super().__init__(**kwargs)\n"
     ]
    },
    {
     "name": "stdout",
     "output_type": "stream",
     "text": [
      "\u001b[36m(ClientAppActor pid=11724)\u001b[0m \n",
      "\u001b[36m(ClientAppActor pid=11724)\u001b[0m \u001b[1m  1/132\u001b[0m \u001b[37m━━━━━━━━━━━━━━━━━━━━\u001b[0m \u001b[1m33s\u001b[0m 255ms/step - loss: 0.1676 - mean_absolute_error: 0.3636\n",
      "\u001b[36m(ClientAppActor pid=11724)\u001b[0m \u001b[1m 88/132\u001b[0m \u001b[32m━━━━━━━━━━━━━\u001b[0m\u001b[37m━━━━━━━\u001b[0m \u001b[1m0s\u001b[0m 694us/step - loss: 0.1893 - mean_absolute_error: 0.3243 \n",
      "\u001b[36m(ClientAppActor pid=11724)\u001b[0m \u001b[1m132/132\u001b[0m \u001b[32m━━━━━━━━━━━━━━━━━━━━\u001b[0m\u001b[37m\u001b[0m \u001b[1m0s\u001b[0m 630us/step - loss: 0.2456 - mean_absolute_error: 0.3571\n"
     ]
    },
    {
     "name": "stderr",
     "output_type": "stream",
     "text": [
      "\u001b[36m(ClientAppActor pid=11724)\u001b[0m c:\\Users\\Yedek\\AppData\\Local\\Programs\\Python\\Python311\\Lib\\site-packages\\keras\\src\\layers\\rnn\\rnn.py:204: UserWarning: Do not pass an `input_shape`/`input_dim` argument to a layer. When using Sequential models, prefer using an `Input(shape)` object as the first layer in the model instead.\n",
      "\u001b[36m(ClientAppActor pid=11724)\u001b[0m   super().__init__(**kwargs)\n"
     ]
    },
    {
     "name": "stdout",
     "output_type": "stream",
     "text": [
      "\u001b[36m(ClientAppActor pid=11724)\u001b[0m \n",
      "\u001b[36m(ClientAppActor pid=11724)\u001b[0m \u001b[1m  1/128\u001b[0m \u001b[37m━━━━━━━━━━━━━━━━━━━━\u001b[0m \u001b[1m32s\u001b[0m 252ms/step - loss: 0.9348 - mean_absolute_error: 0.8182\n",
      "\u001b[36m(ClientAppActor pid=11724)\u001b[0m \n",
      "\u001b[36m(ClientAppActor pid=11724)\u001b[0m \u001b[1m 81/128\u001b[0m \u001b[32m━━━━━━━━━━━━\u001b[0m\u001b[37m━━━━━━━━\u001b[0m \u001b[1m0s\u001b[0m 786us/step - loss: 0.6526 - mean_absolute_error: 0.6569 \n",
      "\u001b[36m(ClientAppActor pid=11724)\u001b[0m \u001b[1m128/128\u001b[0m \u001b[32m━━━━━━━━━━━━━━━━━━━━\u001b[0m\u001b[37m\u001b[0m \u001b[1m0s\u001b[0m 618us/step - loss: 0.5894 - mean_absolute_error: 0.6273\n"
     ]
    },
    {
     "name": "stderr",
     "output_type": "stream",
     "text": [
      "\u001b[36m(ClientAppActor pid=11724)\u001b[0m c:\\Users\\Yedek\\AppData\\Local\\Programs\\Python\\Python311\\Lib\\site-packages\\keras\\src\\layers\\rnn\\rnn.py:204: UserWarning: Do not pass an `input_shape`/`input_dim` argument to a layer. When using Sequential models, prefer using an `Input(shape)` object as the first layer in the model instead.\n",
      "\u001b[36m(ClientAppActor pid=11724)\u001b[0m   super().__init__(**kwargs)\n"
     ]
    },
    {
     "name": "stdout",
     "output_type": "stream",
     "text": [
      "\u001b[36m(ClientAppActor pid=11724)\u001b[0m \n",
      "\u001b[36m(ClientAppActor pid=11724)\u001b[0m \u001b[1m  1/132\u001b[0m \u001b[37m━━━━━━━━━━━━━━━━━━━━\u001b[0m \u001b[1m34s\u001b[0m 266ms/step - loss: 0.2711 - mean_absolute_error: 0.4863\n",
      "\u001b[36m(ClientAppActor pid=11724)\u001b[0m \u001b[1m 78/132\u001b[0m \u001b[32m━━━━━━━━━━━\u001b[0m\u001b[37m━━━━━━━━━\u001b[0m \u001b[1m0s\u001b[0m 667us/step - loss: 0.4846 - mean_absolute_error: 0.6059 \n",
      "\u001b[36m(ClientAppActor pid=11724)\u001b[0m \n",
      "\u001b[36m(ClientAppActor pid=11724)\u001b[0m \u001b[1m132/132\u001b[0m \u001b[32m━━━━━━━━━━━━━━━━━━━━\u001b[0m\u001b[37m\u001b[0m \u001b[1m0s\u001b[0m 630us/step - loss: 0.5273 - mean_absolute_error: 0.6178\n"
     ]
    },
    {
     "name": "stderr",
     "output_type": "stream",
     "text": [
      "\u001b[36m(ClientAppActor pid=11724)\u001b[0m c:\\Users\\Yedek\\AppData\\Local\\Programs\\Python\\Python311\\Lib\\site-packages\\keras\\src\\layers\\rnn\\rnn.py:204: UserWarning: Do not pass an `input_shape`/`input_dim` argument to a layer. When using Sequential models, prefer using an `Input(shape)` object as the first layer in the model instead.\n",
      "\u001b[36m(ClientAppActor pid=11724)\u001b[0m   super().__init__(**kwargs)\n"
     ]
    },
    {
     "name": "stdout",
     "output_type": "stream",
     "text": [
      "\u001b[36m(ClientAppActor pid=11724)\u001b[0m \n",
      "\u001b[36m(ClientAppActor pid=11724)\u001b[0m \u001b[1m  1/128\u001b[0m \u001b[37m━━━━━━━━━━━━━━━━━━━━\u001b[0m \u001b[1m30s\u001b[0m 239ms/step - loss: 0.1980 - mean_absolute_error: 0.4256\n",
      "\u001b[36m(ClientAppActor pid=11724)\u001b[0m \u001b[1m 79/128\u001b[0m \u001b[32m━━━━━━━━━━━━\u001b[0m\u001b[37m━━━━━━━━\u001b[0m \u001b[1m0s\u001b[0m 768us/step - loss: 0.3217 - mean_absolute_error: 0.5036 \n",
      "\u001b[36m(ClientAppActor pid=11724)\u001b[0m \u001b[1m128/128\u001b[0m \u001b[32m━━━━━━━━━━━━━━━━━━━━\u001b[0m\u001b[37m\u001b[0m \u001b[1m0s\u001b[0m 595us/step - loss: 0.5716 - mean_absolute_error: 0.5774\n"
     ]
    },
    {
     "name": "stderr",
     "output_type": "stream",
     "text": [
      "\u001b[36m(ClientAppActor pid=11724)\u001b[0m c:\\Users\\Yedek\\AppData\\Local\\Programs\\Python\\Python311\\Lib\\site-packages\\keras\\src\\layers\\rnn\\rnn.py:204: UserWarning: Do not pass an `input_shape`/`input_dim` argument to a layer. When using Sequential models, prefer using an `Input(shape)` object as the first layer in the model instead.\n",
      "\u001b[36m(ClientAppActor pid=11724)\u001b[0m   super().__init__(**kwargs)\n"
     ]
    },
    {
     "name": "stdout",
     "output_type": "stream",
     "text": [
      "\u001b[36m(ClientAppActor pid=11724)\u001b[0m \n",
      "\u001b[36m(ClientAppActor pid=11724)\u001b[0m \u001b[1m  1/132\u001b[0m \u001b[37m━━━━━━━━━━━━━━━━━━━━\u001b[0m \u001b[1m32s\u001b[0m 252ms/step - loss: 0.4876 - mean_absolute_error: 0.6747\n",
      "\u001b[36m(ClientAppActor pid=11724)\u001b[0m \n",
      "\u001b[36m(ClientAppActor pid=11724)\u001b[0m \u001b[1m 96/132\u001b[0m \u001b[32m━━━━━━━━━━━━━━\u001b[0m\u001b[37m━━━━━━\u001b[0m \u001b[1m0s\u001b[0m 662us/step - loss: 2.9010 - mean_absolute_error: 1.3036 \n",
      "\u001b[36m(ClientAppActor pid=11724)\u001b[0m \u001b[1m132/132\u001b[0m \u001b[32m━━━━━━━━━━━━━━━━━━━━\u001b[0m\u001b[37m\u001b[0m \u001b[1m0s\u001b[0m 599us/step - loss: 2.6437 - mean_absolute_error: 1.2201\n"
     ]
    },
    {
     "name": "stderr",
     "output_type": "stream",
     "text": [
      "\u001b[36m(ClientAppActor pid=11724)\u001b[0m c:\\Users\\Yedek\\AppData\\Local\\Programs\\Python\\Python311\\Lib\\site-packages\\keras\\src\\layers\\rnn\\rnn.py:204: UserWarning: Do not pass an `input_shape`/`input_dim` argument to a layer. When using Sequential models, prefer using an `Input(shape)` object as the first layer in the model instead.\n",
      "\u001b[36m(ClientAppActor pid=11724)\u001b[0m   super().__init__(**kwargs)\n",
      "\u001b[92mINFO \u001b[0m:      aggregate_evaluate: received 10 results and 0 failures\n",
      "\u001b[92mINFO \u001b[0m:      \n",
      "\u001b[92mINFO \u001b[0m:      [ROUND 10]\n",
      "\u001b[92mINFO \u001b[0m:      Sampling failed: number of available clients (30) is less than number of requested clients (40).\n",
      "\u001b[92mINFO \u001b[0m:      configure_fit: no clients selected, cancel\n"
     ]
    },
    {
     "name": "stdout",
     "output_type": "stream",
     "text": [
      "\u001b[36m(ClientAppActor pid=11724)\u001b[0m \n",
      "\u001b[36m(ClientAppActor pid=11724)\u001b[0m \u001b[1m  1/132\u001b[0m \u001b[37m━━━━━━━━━━━━━━━━━━━━\u001b[0m \u001b[1m33s\u001b[0m 255ms/step - loss: 0.7263 - mean_absolute_error: 0.7276\n",
      "\u001b[36m(ClientAppActor pid=11724)\u001b[0m \n",
      "\u001b[36m(ClientAppActor pid=11724)\u001b[0m \u001b[1m 82/132\u001b[0m \u001b[32m━━━━━━━━━━━━\u001b[0m\u001b[37m━━━━━━━━\u001b[0m \u001b[1m0s\u001b[0m 738us/step - loss: 0.3590 - mean_absolute_error: 0.5023 \n",
      "\u001b[36m(ClientAppActor pid=11724)\u001b[0m \u001b[1m132/132\u001b[0m \u001b[32m━━━━━━━━━━━━━━━━━━━━\u001b[0m\u001b[37m\u001b[0m \u001b[1m0s\u001b[0m 576us/step - loss: 0.3844 - mean_absolute_error: 0.5002\n"
     ]
    },
    {
     "name": "stderr",
     "output_type": "stream",
     "text": [
      "c:\\Users\\Yedek\\AppData\\Local\\Programs\\Python\\Python311\\Lib\\site-packages\\keras\\src\\layers\\rnn\\rnn.py:204: UserWarning: Do not pass an `input_shape`/`input_dim` argument to a layer. When using Sequential models, prefer using an `Input(shape)` object as the first layer in the model instead.\n",
      "  super().__init__(**kwargs)\n",
      "\u001b[92mINFO \u001b[0m:      fit progress: (10, 2.3573930263519287, {'accuracy': 0.9640632271766663}, 65.3923423999986)\n",
      "\u001b[92mINFO \u001b[0m:      configure_evaluate: strategy sampled 10 clients (out of 30)\n",
      "\u001b[36m(ClientAppActor pid=11724)\u001b[0m c:\\Users\\Yedek\\AppData\\Local\\Programs\\Python\\Python311\\Lib\\site-packages\\keras\\src\\layers\\rnn\\rnn.py:204: UserWarning: Do not pass an `input_shape`/`input_dim` argument to a layer. When using Sequential models, prefer using an `Input(shape)` object as the first layer in the model instead.\n",
      "\u001b[36m(ClientAppActor pid=11724)\u001b[0m   super().__init__(**kwargs)\n"
     ]
    },
    {
     "name": "stdout",
     "output_type": "stream",
     "text": [
      "\u001b[36m(ClientAppActor pid=11724)\u001b[0m \n",
      "\u001b[36m(ClientAppActor pid=11724)\u001b[0m \u001b[1m  1/132\u001b[0m \u001b[37m━━━━━━━━━━━━━━━━━━━━\u001b[0m \u001b[1m30s\u001b[0m 236ms/step - loss: 0.3714 - mean_absolute_error: 0.5183\n",
      "\u001b[36m(ClientAppActor pid=11724)\u001b[0m \u001b[1m 83/132\u001b[0m \u001b[32m━━━━━━━━━━━━\u001b[0m\u001b[37m━━━━━━━━\u001b[0m \u001b[1m0s\u001b[0m 762us/step - loss: 0.7232 - mean_absolute_error: 0.6582 \n",
      "\u001b[36m(ClientAppActor pid=11724)\u001b[0m \n",
      "\u001b[36m(ClientAppActor pid=11724)\u001b[0m \u001b[1m132/132\u001b[0m \u001b[32m━━━━━━━━━━━━━━━━━━━━\u001b[0m\u001b[37m\u001b[0m \u001b[1m0s\u001b[0m 687us/step - loss: 0.6598 - mean_absolute_error: 0.6325\n"
     ]
    },
    {
     "name": "stderr",
     "output_type": "stream",
     "text": [
      "\u001b[36m(ClientAppActor pid=11724)\u001b[0m c:\\Users\\Yedek\\AppData\\Local\\Programs\\Python\\Python311\\Lib\\site-packages\\keras\\src\\layers\\rnn\\rnn.py:204: UserWarning: Do not pass an `input_shape`/`input_dim` argument to a layer. When using Sequential models, prefer using an `Input(shape)` object as the first layer in the model instead.\n",
      "\u001b[36m(ClientAppActor pid=11724)\u001b[0m   super().__init__(**kwargs)\n"
     ]
    },
    {
     "name": "stdout",
     "output_type": "stream",
     "text": [
      "\u001b[36m(ClientAppActor pid=11724)\u001b[0m \n",
      "\u001b[36m(ClientAppActor pid=11724)\u001b[0m \u001b[1m  1/132\u001b[0m \u001b[37m━━━━━━━━━━━━━━━━━━━━\u001b[0m \u001b[1m31s\u001b[0m 244ms/step - loss: 1.2314 - mean_absolute_error: 0.8956\n",
      "\u001b[36m(ClientAppActor pid=11724)\u001b[0m \u001b[1m 79/132\u001b[0m \u001b[32m━━━━━━━━━━━\u001b[0m\u001b[37m━━━━━━━━━\u001b[0m \u001b[1m0s\u001b[0m 704us/step - loss: 2.3731 - mean_absolute_error: 1.0392 \n",
      "\u001b[36m(ClientAppActor pid=11724)\u001b[0m \u001b[1m132/132\u001b[0m \u001b[32m━━━━━━━━━━━━━━━━━━━━\u001b[0m\u001b[37m\u001b[0m \u001b[1m0s\u001b[0m 658us/step - loss: 2.0384 - mean_absolute_error: 0.9261\n"
     ]
    },
    {
     "name": "stderr",
     "output_type": "stream",
     "text": [
      "\u001b[36m(ClientAppActor pid=11724)\u001b[0m c:\\Users\\Yedek\\AppData\\Local\\Programs\\Python\\Python311\\Lib\\site-packages\\keras\\src\\layers\\rnn\\rnn.py:204: UserWarning: Do not pass an `input_shape`/`input_dim` argument to a layer. When using Sequential models, prefer using an `Input(shape)` object as the first layer in the model instead.\n",
      "\u001b[36m(ClientAppActor pid=11724)\u001b[0m   super().__init__(**kwargs)\n"
     ]
    },
    {
     "name": "stdout",
     "output_type": "stream",
     "text": [
      "\u001b[36m(ClientAppActor pid=11724)\u001b[0m \n",
      "\u001b[36m(ClientAppActor pid=11724)\u001b[0m \u001b[1m  1/132\u001b[0m \u001b[37m━━━━━━━━━━━━━━━━━━━━\u001b[0m \u001b[1m32s\u001b[0m 251ms/step - loss: 0.9315 - mean_absolute_error: 0.8802\n",
      "\u001b[36m(ClientAppActor pid=11724)\u001b[0m \n",
      "\u001b[36m(ClientAppActor pid=11724)\u001b[0m \u001b[1m 93/132\u001b[0m \u001b[32m━━━━━━━━━━━━━━\u001b[0m\u001b[37m━━━━━━\u001b[0m \u001b[1m0s\u001b[0m 684us/step - loss: 2.0035 - mean_absolute_error: 1.1883 \n",
      "\u001b[36m(ClientAppActor pid=11724)\u001b[0m \u001b[1m132/132\u001b[0m \u001b[32m━━━━━━━━━━━━━━━━━━━━\u001b[0m\u001b[37m\u001b[0m \u001b[1m0s\u001b[0m 599us/step - loss: 1.8119 - mean_absolute_error: 1.1129\n"
     ]
    },
    {
     "name": "stderr",
     "output_type": "stream",
     "text": [
      "\u001b[36m(ClientAppActor pid=11724)\u001b[0m c:\\Users\\Yedek\\AppData\\Local\\Programs\\Python\\Python311\\Lib\\site-packages\\keras\\src\\layers\\rnn\\rnn.py:204: UserWarning: Do not pass an `input_shape`/`input_dim` argument to a layer. When using Sequential models, prefer using an `Input(shape)` object as the first layer in the model instead.\n",
      "\u001b[36m(ClientAppActor pid=11724)\u001b[0m   super().__init__(**kwargs)\n"
     ]
    },
    {
     "name": "stdout",
     "output_type": "stream",
     "text": [
      "\u001b[36m(ClientAppActor pid=11724)\u001b[0m \n",
      "\u001b[36m(ClientAppActor pid=11724)\u001b[0m \u001b[1m  1/130\u001b[0m \u001b[37m━━━━━━━━━━━━━━━━━━━━\u001b[0m \u001b[1m32s\u001b[0m 252ms/step - loss: 0.6060 - mean_absolute_error: 0.7064\n",
      "\u001b[36m(ClientAppActor pid=11724)\u001b[0m \u001b[1m 82/130\u001b[0m \u001b[32m━━━━━━━━━━━━\u001b[0m\u001b[37m━━━━━━━━\u001b[0m \u001b[1m0s\u001b[0m 721us/step - loss: 1.3319 - mean_absolute_error: 0.9222 \n",
      "\u001b[36m(ClientAppActor pid=11724)\u001b[0m \n",
      "\u001b[36m(ClientAppActor pid=11724)\u001b[0m \u001b[1m130/130\u001b[0m \u001b[32m━━━━━━━━━━━━━━━━━━━━\u001b[0m\u001b[37m\u001b[0m \u001b[1m0s\u001b[0m 609us/step - loss: 2.0117 - mean_absolute_error: 1.0157\n"
     ]
    },
    {
     "name": "stderr",
     "output_type": "stream",
     "text": [
      "\u001b[36m(ClientAppActor pid=11724)\u001b[0m c:\\Users\\Yedek\\AppData\\Local\\Programs\\Python\\Python311\\Lib\\site-packages\\keras\\src\\layers\\rnn\\rnn.py:204: UserWarning: Do not pass an `input_shape`/`input_dim` argument to a layer. When using Sequential models, prefer using an `Input(shape)` object as the first layer in the model instead.\n",
      "\u001b[36m(ClientAppActor pid=11724)\u001b[0m   super().__init__(**kwargs)\n"
     ]
    },
    {
     "name": "stdout",
     "output_type": "stream",
     "text": [
      "\u001b[36m(ClientAppActor pid=11724)\u001b[0m \n",
      "\u001b[36m(ClientAppActor pid=11724)\u001b[0m \u001b[1m  1/113\u001b[0m \u001b[37m━━━━━━━━━━━━━━━━━━━━\u001b[0m \u001b[1m30s\u001b[0m 268ms/step - loss: 2.3713 - mean_absolute_error: 1.1847\n",
      "\u001b[36m(ClientAppActor pid=11724)\u001b[0m \u001b[1m 77/113\u001b[0m \u001b[32m━━━━━━━━━━━━━\u001b[0m\u001b[37m━━━━━━━\u001b[0m \u001b[1m0s\u001b[0m 823us/step - loss: 1.5108 - mean_absolute_error: 0.8612 \n",
      "\u001b[36m(ClientAppActor pid=11724)\u001b[0m \n",
      "\u001b[36m(ClientAppActor pid=11724)\u001b[0m \u001b[1m113/113\u001b[0m \u001b[32m━━━━━━━━━━━━━━━━━━━━\u001b[0m\u001b[37m\u001b[0m \u001b[1m0s\u001b[0m 701us/step - loss: 1.7226 - mean_absolute_error: 0.8555\n"
     ]
    },
    {
     "name": "stderr",
     "output_type": "stream",
     "text": [
      "\u001b[36m(ClientAppActor pid=11724)\u001b[0m c:\\Users\\Yedek\\AppData\\Local\\Programs\\Python\\Python311\\Lib\\site-packages\\keras\\src\\layers\\rnn\\rnn.py:204: UserWarning: Do not pass an `input_shape`/`input_dim` argument to a layer. When using Sequential models, prefer using an `Input(shape)` object as the first layer in the model instead.\n",
      "\u001b[36m(ClientAppActor pid=11724)\u001b[0m   super().__init__(**kwargs)\n"
     ]
    },
    {
     "name": "stdout",
     "output_type": "stream",
     "text": [
      "\u001b[36m(ClientAppActor pid=11724)\u001b[0m \n",
      "\u001b[36m(ClientAppActor pid=11724)\u001b[0m \u001b[1m  1/547\u001b[0m \u001b[37m━━━━━━━━━━━━━━━━━━━━\u001b[0m \u001b[1m2:20\u001b[0m 257ms/step - loss: 0.0553 - mean_absolute_error: 0.2210\n",
      "\u001b[36m(ClientAppActor pid=11724)\u001b[0m \n",
      "\u001b[36m(ClientAppActor pid=11724)\u001b[0m \u001b[1m 92/547\u001b[0m \u001b[32m━━━\u001b[0m\u001b[37m━━━━━━━━━━━━━━━━━\u001b[0m \u001b[1m0s\u001b[0m 631us/step - loss: 0.3316 - mean_absolute_error: 0.3824  \n",
      "\u001b[36m(ClientAppActor pid=11724)\u001b[0m \u001b[1m183/547\u001b[0m \u001b[32m━━━━━━\u001b[0m\u001b[37m━━━━━━━━━━━━━━\u001b[0m \u001b[1m0s\u001b[0m 600us/step - loss: 0.5361 - mean_absolute_error: 0.5011\n",
      "\u001b[36m(ClientAppActor pid=11724)\u001b[0m \n",
      "\u001b[36m(ClientAppActor pid=11724)\u001b[0m \u001b[1m285/547\u001b[0m \u001b[32m━━━━━━━━━━\u001b[0m\u001b[37m━━━━━━━━━━\u001b[0m \u001b[1m0s\u001b[0m 590us/step - loss: 0.7370 - mean_absolute_error: 0.5936\n",
      "\u001b[36m(ClientAppActor pid=11724)\u001b[0m \u001b[1m355/547\u001b[0m \u001b[32m━━━━━━━━━━━━\u001b[0m\u001b[37m━━━━━━━━\u001b[0m \u001b[1m0s\u001b[0m 615us/step - loss: 0.8374 - mean_absolute_error: 0.6348\n",
      "\u001b[36m(ClientAppActor pid=11724)\u001b[0m \n",
      "\u001b[36m(ClientAppActor pid=11724)\u001b[0m \u001b[1m438/547\u001b[0m \u001b[32m━━━━━━━━━━━━━━━━\u001b[0m\u001b[37m━━━━\u001b[0m \u001b[1m0s\u001b[0m 636us/step - loss: 0.9217 - mean_absolute_error: 0.6683\n"
     ]
    },
    {
     "name": "stderr",
     "output_type": "stream",
     "text": [
      "\u001b[36m(ClientAppActor pid=11724)\u001b[0m c:\\Users\\Yedek\\AppData\\Local\\Programs\\Python\\Python311\\Lib\\site-packages\\keras\\src\\layers\\rnn\\rnn.py:204: UserWarning: Do not pass an `input_shape`/`input_dim` argument to a layer. When using Sequential models, prefer using an `Input(shape)` object as the first layer in the model instead.\n",
      "\u001b[36m(ClientAppActor pid=11724)\u001b[0m   super().__init__(**kwargs)\n"
     ]
    },
    {
     "name": "stdout",
     "output_type": "stream",
     "text": [
      "\u001b[36m(ClientAppActor pid=11724)\u001b[0m \n",
      "\u001b[36m(ClientAppActor pid=11724)\u001b[0m \u001b[1m534/547\u001b[0m \u001b[32m━━━━━━━━━━━━━━━━━━━\u001b[0m\u001b[37m━\u001b[0m \u001b[1m0s\u001b[0m 640us/step - loss: 0.9814 - mean_absolute_error: 0.6900\n",
      "\u001b[36m(ClientAppActor pid=11724)\u001b[0m \u001b[1m547/547\u001b[0m \u001b[32m━━━━━━━━━━━━━━━━━━━━\u001b[0m\u001b[37m\u001b[0m \u001b[1m1s\u001b[0m 625us/step - loss: 0.9863 - mean_absolute_error: 0.6918\n",
      "\u001b[36m(ClientAppActor pid=11724)\u001b[0m \n",
      "\u001b[36m(ClientAppActor pid=11724)\u001b[0m \u001b[1m  1/128\u001b[0m \u001b[37m━━━━━━━━━━━━━━━━━━━━\u001b[0m \u001b[1m31s\u001b[0m 249ms/step - loss: 0.2679 - mean_absolute_error: 0.4892\n",
      "\u001b[36m(ClientAppActor pid=11724)\u001b[0m \u001b[1m 92/128\u001b[0m \u001b[32m━━━━━━━━━━━━━━\u001b[0m\u001b[37m━━━━━━\u001b[0m \u001b[1m0s\u001b[0m 691us/step - loss: 0.2833 - mean_absolute_error: 0.4656 \n",
      "\u001b[36m(ClientAppActor pid=11724)\u001b[0m \u001b[1m128/128\u001b[0m \u001b[32m━━━━━━━━━━━━━━━━━━━━\u001b[0m\u001b[37m\u001b[0m \u001b[1m0s\u001b[0m 662us/step - loss: 0.2620 - mean_absolute_error: 0.4383\n"
     ]
    },
    {
     "name": "stderr",
     "output_type": "stream",
     "text": [
      "\u001b[36m(ClientAppActor pid=11724)\u001b[0m c:\\Users\\Yedek\\AppData\\Local\\Programs\\Python\\Python311\\Lib\\site-packages\\keras\\src\\layers\\rnn\\rnn.py:204: UserWarning: Do not pass an `input_shape`/`input_dim` argument to a layer. When using Sequential models, prefer using an `Input(shape)` object as the first layer in the model instead.\n",
      "\u001b[36m(ClientAppActor pid=11724)\u001b[0m   super().__init__(**kwargs)\n"
     ]
    },
    {
     "name": "stdout",
     "output_type": "stream",
     "text": [
      "\u001b[36m(ClientAppActor pid=11724)\u001b[0m \n",
      "\u001b[36m(ClientAppActor pid=11724)\u001b[0m \u001b[1m  1/132\u001b[0m \u001b[37m━━━━━━━━━━━━━━━━━━━━\u001b[0m \u001b[1m57s\u001b[0m 442ms/step - loss: 0.3562 - mean_absolute_error: 0.5761\n",
      "\u001b[36m(ClientAppActor pid=11724)\u001b[0m \n",
      "\u001b[36m(ClientAppActor pid=11724)\u001b[0m \u001b[1m 96/132\u001b[0m \u001b[32m━━━━━━━━━━━━━━\u001b[0m\u001b[37m━━━━━━\u001b[0m \u001b[1m0s\u001b[0m 666us/step - loss: 0.8218 - mean_absolute_error: 0.7701 \n",
      "\u001b[36m(ClientAppActor pid=11724)\u001b[0m \u001b[1m132/132\u001b[0m \u001b[32m━━━━━━━━━━━━━━━━━━━━\u001b[0m\u001b[37m\u001b[0m \u001b[1m1s\u001b[0m 602us/step - loss: 0.8680 - mean_absolute_error: 0.7699\n"
     ]
    },
    {
     "name": "stderr",
     "output_type": "stream",
     "text": [
      "\u001b[36m(ClientAppActor pid=11724)\u001b[0m c:\\Users\\Yedek\\AppData\\Local\\Programs\\Python\\Python311\\Lib\\site-packages\\keras\\src\\layers\\rnn\\rnn.py:204: UserWarning: Do not pass an `input_shape`/`input_dim` argument to a layer. When using Sequential models, prefer using an `Input(shape)` object as the first layer in the model instead.\n",
      "\u001b[36m(ClientAppActor pid=11724)\u001b[0m   super().__init__(**kwargs)\n"
     ]
    },
    {
     "name": "stdout",
     "output_type": "stream",
     "text": [
      "\u001b[36m(ClientAppActor pid=11724)\u001b[0m \n",
      "\u001b[36m(ClientAppActor pid=11724)\u001b[0m \u001b[1m 1/98\u001b[0m \u001b[37m━━━━━━━━━━━━━━━━━━━━\u001b[0m \u001b[1m24s\u001b[0m 251ms/step - loss: 0.6670 - mean_absolute_error: 0.7618\n",
      "\u001b[36m(ClientAppActor pid=11724)\u001b[0m \u001b[1m81/98\u001b[0m \u001b[32m━━━━━━━━━━━━━━━━\u001b[0m\u001b[37m━━━━\u001b[0m \u001b[1m0s\u001b[0m 786us/step - loss: 0.9969 - mean_absolute_error: 0.7298 \n",
      "\u001b[36m(ClientAppActor pid=11724)\u001b[0m \n",
      "\u001b[36m(ClientAppActor pid=11724)\u001b[0m \u001b[1m98/98\u001b[0m \u001b[32m━━━━━━━━━━━━━━━━━━━━\u001b[0m\u001b[37m\u001b[0m \u001b[1m0s\u001b[0m 669us/step - loss: 1.1102 - mean_absolute_error: 0.7708\n"
     ]
    },
    {
     "name": "stderr",
     "output_type": "stream",
     "text": [
      "\u001b[36m(ClientAppActor pid=11724)\u001b[0m c:\\Users\\Yedek\\AppData\\Local\\Programs\\Python\\Python311\\Lib\\site-packages\\keras\\src\\layers\\rnn\\rnn.py:204: UserWarning: Do not pass an `input_shape`/`input_dim` argument to a layer. When using Sequential models, prefer using an `Input(shape)` object as the first layer in the model instead.\n",
      "\u001b[36m(ClientAppActor pid=11724)\u001b[0m   super().__init__(**kwargs)\n",
      "\u001b[92mINFO \u001b[0m:      aggregate_evaluate: received 10 results and 0 failures\n",
      "\u001b[92mINFO \u001b[0m:      \n",
      "\u001b[92mINFO \u001b[0m:      [SUMMARY]\n",
      "\u001b[92mINFO \u001b[0m:      Run finished 10 round(s) in 69.82s\n",
      "\u001b[92mINFO \u001b[0m:      \tHistory (loss, distributed):\n",
      "\u001b[92mINFO \u001b[0m:      \t\tround 1: 1.111851548514317\n",
      "\u001b[92mINFO \u001b[0m:      \t\tround 2: 1.0513171018227532\n",
      "\u001b[92mINFO \u001b[0m:      \t\tround 3: 0.9787470973886425\n",
      "\u001b[92mINFO \u001b[0m:      \t\tround 4: 1.085974330130203\n",
      "\u001b[92mINFO \u001b[0m:      \t\tround 5: 1.6561953988345912\n",
      "\u001b[92mINFO \u001b[0m:      \t\tround 6: 0.9967506836829996\n",
      "\u001b[92mINFO \u001b[0m:      \t\tround 7: 1.135208981230979\n",
      "\u001b[92mINFO \u001b[0m:      \t\tround 8: 1.2788370268898996\n",
      "\u001b[92mINFO \u001b[0m:      \t\tround 9: 0.9394399399540122\n",
      "\u001b[92mINFO \u001b[0m:      \t\tround 10: 1.5979445349619965\n",
      "\u001b[92mINFO \u001b[0m:      \tHistory (loss, centralized):\n",
      "\u001b[92mINFO \u001b[0m:      \t\tround 0: 2.3573930263519287\n",
      "\u001b[92mINFO \u001b[0m:      \t\tround 1: 2.3573930263519287\n",
      "\u001b[92mINFO \u001b[0m:      \t\tround 2: 2.3573930263519287\n",
      "\u001b[92mINFO \u001b[0m:      \t\tround 3: 2.3573930263519287\n",
      "\u001b[92mINFO \u001b[0m:      \t\tround 4: 2.3573930263519287\n",
      "\u001b[92mINFO \u001b[0m:      \t\tround 5: 2.3573930263519287\n",
      "\u001b[92mINFO \u001b[0m:      \t\tround 6: 2.3573930263519287\n",
      "\u001b[92mINFO \u001b[0m:      \t\tround 7: 2.3573930263519287\n",
      "\u001b[92mINFO \u001b[0m:      \t\tround 8: 2.3573930263519287\n",
      "\u001b[92mINFO \u001b[0m:      \t\tround 9: 2.3573930263519287\n",
      "\u001b[92mINFO \u001b[0m:      \t\tround 10: 2.3573930263519287\n",
      "\u001b[92mINFO \u001b[0m:      \tHistory (metrics, distributed, evaluate):\n",
      "\u001b[92mINFO \u001b[0m:      \t{'accuracy': [(1, 0.7183759688878802),\n",
      "\u001b[92mINFO \u001b[0m:      \t              (2, 0.7236978021670174),\n",
      "\u001b[92mINFO \u001b[0m:      \t              (3, 0.6520486448724724),\n",
      "\u001b[92mINFO \u001b[0m:      \t              (4, 0.7131958628928625),\n",
      "\u001b[92mINFO \u001b[0m:      \t              (5, 0.8232983465796879),\n",
      "\u001b[92mINFO \u001b[0m:      \t              (6, 0.6805691945176664),\n",
      "\u001b[92mINFO \u001b[0m:      \t              (7, 0.6890876460803009),\n",
      "\u001b[92mINFO \u001b[0m:      \t              (8, 0.7525699791355401),\n",
      "\u001b[92mINFO \u001b[0m:      \t              (9, 0.6848999866984885),\n",
      "\u001b[92mINFO \u001b[0m:      \t              (10, 0.8199562374958506)]}\n",
      "\u001b[92mINFO \u001b[0m:      \tHistory (metrics, centralized):\n",
      "\u001b[92mINFO \u001b[0m:      \t{'accuracy': [(0, 0.9640632271766663),\n",
      "\u001b[92mINFO \u001b[0m:      \t              (1, 0.9640632271766663),\n",
      "\u001b[92mINFO \u001b[0m:      \t              (2, 0.9640632271766663),\n",
      "\u001b[92mINFO \u001b[0m:      \t              (3, 0.9640632271766663),\n",
      "\u001b[92mINFO \u001b[0m:      \t              (4, 0.9640632271766663),\n",
      "\u001b[92mINFO \u001b[0m:      \t              (5, 0.9640632271766663),\n",
      "\u001b[92mINFO \u001b[0m:      \t              (6, 0.9640632271766663),\n",
      "\u001b[92mINFO \u001b[0m:      \t              (7, 0.9640632271766663),\n",
      "\u001b[92mINFO \u001b[0m:      \t              (8, 0.9640632271766663),\n",
      "\u001b[92mINFO \u001b[0m:      \t              (9, 0.9640632271766663),\n",
      "\u001b[92mINFO \u001b[0m:      \t              (10, 0.9640632271766663)]}\n",
      "\u001b[92mINFO \u001b[0m:      \n"
     ]
    },
    {
     "name": "stdout",
     "output_type": "stream",
     "text": [
      "\u001b[36m(ClientAppActor pid=11724)\u001b[0m \n",
      "\u001b[36m(ClientAppActor pid=11724)\u001b[0m \u001b[1m  1/132\u001b[0m \u001b[37m━━━━━━━━━━━━━━━━━━━━\u001b[0m \u001b[1m35s\u001b[0m 268ms/step - loss: 0.1329 - mean_absolute_error: 0.3251\n",
      "\u001b[36m(ClientAppActor pid=11724)\u001b[0m \u001b[1m 86/132\u001b[0m \u001b[32m━━━━━━━━━━━━━\u001b[0m\u001b[37m━━━━━━━\u001b[0m \u001b[1m0s\u001b[0m 639us/step - loss: 2.3399 - mean_absolute_error: 0.8629 \n",
      "\u001b[36m(ClientAppActor pid=11724)\u001b[0m \u001b[1m132/132\u001b[0m \u001b[32m━━━━━━━━━━━━━━━━━━━━\u001b[0m\u001b[37m\u001b[0m \u001b[1m0s\u001b[0m 602us/step - loss: 2.3662 - mean_absolute_error: 0.8977\n"
     ]
    }
   ],
   "source": [
    "# Create FedAvg strategy\n",
    "strategy = fl.server.strategy.FedAvg(\n",
    "    fraction_fit=0.5,  # Sample 10% of available clients for training\n",
    "    fraction_evaluate=0.1,  # Sample 5% of available clients for evaluation\n",
    "    min_fit_clients=40,  # Never sample less than 10 clients for training\n",
    "    min_evaluate_clients=10,  # Never sample less than 5 clients for evaluation\n",
    "    min_available_clients=int(\n",
    "        NUM_CLIENTS * 0.75\n",
    "    ),  # Wait until at least 75 clients are available\n",
    "    evaluate_metrics_aggregation_fn=weighted_average,  # aggregates federated metrics\n",
    "    evaluate_fn=get_evaluate_fn(centralized_testset),  # global evaluation function\n",
    ")\n",
    "\n",
    "# With a dictionary, you tell Flower's VirtualClientEngine that each\n",
    "# client needs exclusive access to these many resources in order to run\n",
    "client_resources = {\"num_cpus\": 8.0}\n",
    "\n",
    "# Start simulation\n",
    "history = fl.simulation.start_simulation(\n",
    "    client_fn=get_client_fn(df_dataset),\n",
    "    num_clients=NUM_CLIENTS,\n",
    "    config=fl.server.ServerConfig(num_rounds=10),\n",
    "    strategy=strategy,\n",
    "    client_resources=client_resources,\n",
    "    actor_kwargs={\n",
    "            \"on_actor_init_fn\": enable_tf_gpu_growth  # Enable GPU growth upon actor init\n",
    "            # does nothing if `num_gpus` in client_resources is 0.0\n",
    "        },\n",
    ")"
   ]
  },
  {
   "cell_type": "code",
   "execution_count": 9,
   "metadata": {},
   "outputs": [
    {
     "name": "stdout",
     "output_type": "stream",
     "text": [
      "history.metrics_centralized = {'accuracy': [(0, 0.9640632271766663), (1, 0.9640632271766663), (2, 0.9640632271766663), (3, 0.9640632271766663), (4, 0.9640632271766663), (5, 0.9640632271766663), (6, 0.9640632271766663), (7, 0.9640632271766663), (8, 0.9640632271766663), (9, 0.9640632271766663), (10, 0.9640632271766663)]}\n"
     ]
    },
    {
     "data": {
      "application/vnd.plotly.v1+json": {
       "config": {
        "plotlyServerURL": "https://plot.ly"
       },
       "data": [
        {
         "mode": "markers",
         "name": "MAE",
         "type": "scatter",
         "x": [
          1,
          2,
          3,
          4,
          5,
          6,
          7,
          8,
          9,
          10
         ],
         "xaxis": "x",
         "y": [
          71.83759688878803,
          72.36978021670174,
          65.20486448724724,
          71.31958628928625,
          82.32983465796879,
          68.05691945176665,
          68.9087646080301,
          75.25699791355402,
          68.48999866984884,
          81.99562374958505
         ],
         "yaxis": "y"
        },
        {
         "mode": "lines",
         "name": "MAE Line",
         "type": "scatter",
         "x": [
          1,
          2,
          3,
          4,
          5,
          6,
          7,
          8,
          9,
          10
         ],
         "xaxis": "x",
         "y": [
          71.83759688878803,
          72.36978021670174,
          65.20486448724724,
          71.31958628928625,
          82.32983465796879,
          68.05691945176665,
          68.9087646080301,
          75.25699791355402,
          68.48999866984884,
          81.99562374958505
         ],
         "yaxis": "y"
        },
        {
         "mode": "markers",
         "name": "MSE",
         "type": "scatter",
         "x": [
          1,
          2,
          3,
          4,
          5,
          6,
          7,
          8,
          9,
          10
         ],
         "xaxis": "x2",
         "y": [
          1.111851548514317,
          1.0513171018227532,
          0.9787470973886425,
          1.085974330130203,
          1.6561953988345912,
          0.9967506836829996,
          1.135208981230979,
          1.2788370268898996,
          0.9394399399540122,
          1.5979445349619965
         ],
         "yaxis": "y2"
        },
        {
         "mode": "lines",
         "name": "MSE Line",
         "type": "scatter",
         "x": [
          1,
          2,
          3,
          4,
          5,
          6,
          7,
          8,
          9,
          10
         ],
         "xaxis": "x2",
         "y": [
          1.111851548514317,
          1.0513171018227532,
          0.9787470973886425,
          1.085974330130203,
          1.6561953988345912,
          0.9967506836829996,
          1.135208981230979,
          1.2788370268898996,
          0.9394399399540122,
          1.5979445349619965
         ],
         "yaxis": "y2"
        }
       ],
       "layout": {
        "annotations": [
         {
          "font": {
           "size": 16
          },
          "showarrow": false,
          "text": "MEAN ABSOLUTE ERROR",
          "x": 0.5,
          "xanchor": "center",
          "xref": "paper",
          "y": 1,
          "yanchor": "bottom",
          "yref": "paper"
         },
         {
          "font": {
           "size": 16
          },
          "showarrow": false,
          "text": "MEAN SQUARED ERROR",
          "x": 0.5,
          "xanchor": "center",
          "xref": "paper",
          "y": 0.375,
          "yanchor": "bottom",
          "yref": "paper"
         }
        ],
        "height": 800,
        "template": {
         "data": {
          "bar": [
           {
            "error_x": {
             "color": "#2a3f5f"
            },
            "error_y": {
             "color": "#2a3f5f"
            },
            "marker": {
             "line": {
              "color": "#E5ECF6",
              "width": 0.5
             },
             "pattern": {
              "fillmode": "overlay",
              "size": 10,
              "solidity": 0.2
             }
            },
            "type": "bar"
           }
          ],
          "barpolar": [
           {
            "marker": {
             "line": {
              "color": "#E5ECF6",
              "width": 0.5
             },
             "pattern": {
              "fillmode": "overlay",
              "size": 10,
              "solidity": 0.2
             }
            },
            "type": "barpolar"
           }
          ],
          "carpet": [
           {
            "aaxis": {
             "endlinecolor": "#2a3f5f",
             "gridcolor": "white",
             "linecolor": "white",
             "minorgridcolor": "white",
             "startlinecolor": "#2a3f5f"
            },
            "baxis": {
             "endlinecolor": "#2a3f5f",
             "gridcolor": "white",
             "linecolor": "white",
             "minorgridcolor": "white",
             "startlinecolor": "#2a3f5f"
            },
            "type": "carpet"
           }
          ],
          "choropleth": [
           {
            "colorbar": {
             "outlinewidth": 0,
             "ticks": ""
            },
            "type": "choropleth"
           }
          ],
          "contour": [
           {
            "colorbar": {
             "outlinewidth": 0,
             "ticks": ""
            },
            "colorscale": [
             [
              0,
              "#0d0887"
             ],
             [
              0.1111111111111111,
              "#46039f"
             ],
             [
              0.2222222222222222,
              "#7201a8"
             ],
             [
              0.3333333333333333,
              "#9c179e"
             ],
             [
              0.4444444444444444,
              "#bd3786"
             ],
             [
              0.5555555555555556,
              "#d8576b"
             ],
             [
              0.6666666666666666,
              "#ed7953"
             ],
             [
              0.7777777777777778,
              "#fb9f3a"
             ],
             [
              0.8888888888888888,
              "#fdca26"
             ],
             [
              1,
              "#f0f921"
             ]
            ],
            "type": "contour"
           }
          ],
          "contourcarpet": [
           {
            "colorbar": {
             "outlinewidth": 0,
             "ticks": ""
            },
            "type": "contourcarpet"
           }
          ],
          "heatmap": [
           {
            "colorbar": {
             "outlinewidth": 0,
             "ticks": ""
            },
            "colorscale": [
             [
              0,
              "#0d0887"
             ],
             [
              0.1111111111111111,
              "#46039f"
             ],
             [
              0.2222222222222222,
              "#7201a8"
             ],
             [
              0.3333333333333333,
              "#9c179e"
             ],
             [
              0.4444444444444444,
              "#bd3786"
             ],
             [
              0.5555555555555556,
              "#d8576b"
             ],
             [
              0.6666666666666666,
              "#ed7953"
             ],
             [
              0.7777777777777778,
              "#fb9f3a"
             ],
             [
              0.8888888888888888,
              "#fdca26"
             ],
             [
              1,
              "#f0f921"
             ]
            ],
            "type": "heatmap"
           }
          ],
          "heatmapgl": [
           {
            "colorbar": {
             "outlinewidth": 0,
             "ticks": ""
            },
            "colorscale": [
             [
              0,
              "#0d0887"
             ],
             [
              0.1111111111111111,
              "#46039f"
             ],
             [
              0.2222222222222222,
              "#7201a8"
             ],
             [
              0.3333333333333333,
              "#9c179e"
             ],
             [
              0.4444444444444444,
              "#bd3786"
             ],
             [
              0.5555555555555556,
              "#d8576b"
             ],
             [
              0.6666666666666666,
              "#ed7953"
             ],
             [
              0.7777777777777778,
              "#fb9f3a"
             ],
             [
              0.8888888888888888,
              "#fdca26"
             ],
             [
              1,
              "#f0f921"
             ]
            ],
            "type": "heatmapgl"
           }
          ],
          "histogram": [
           {
            "marker": {
             "pattern": {
              "fillmode": "overlay",
              "size": 10,
              "solidity": 0.2
             }
            },
            "type": "histogram"
           }
          ],
          "histogram2d": [
           {
            "colorbar": {
             "outlinewidth": 0,
             "ticks": ""
            },
            "colorscale": [
             [
              0,
              "#0d0887"
             ],
             [
              0.1111111111111111,
              "#46039f"
             ],
             [
              0.2222222222222222,
              "#7201a8"
             ],
             [
              0.3333333333333333,
              "#9c179e"
             ],
             [
              0.4444444444444444,
              "#bd3786"
             ],
             [
              0.5555555555555556,
              "#d8576b"
             ],
             [
              0.6666666666666666,
              "#ed7953"
             ],
             [
              0.7777777777777778,
              "#fb9f3a"
             ],
             [
              0.8888888888888888,
              "#fdca26"
             ],
             [
              1,
              "#f0f921"
             ]
            ],
            "type": "histogram2d"
           }
          ],
          "histogram2dcontour": [
           {
            "colorbar": {
             "outlinewidth": 0,
             "ticks": ""
            },
            "colorscale": [
             [
              0,
              "#0d0887"
             ],
             [
              0.1111111111111111,
              "#46039f"
             ],
             [
              0.2222222222222222,
              "#7201a8"
             ],
             [
              0.3333333333333333,
              "#9c179e"
             ],
             [
              0.4444444444444444,
              "#bd3786"
             ],
             [
              0.5555555555555556,
              "#d8576b"
             ],
             [
              0.6666666666666666,
              "#ed7953"
             ],
             [
              0.7777777777777778,
              "#fb9f3a"
             ],
             [
              0.8888888888888888,
              "#fdca26"
             ],
             [
              1,
              "#f0f921"
             ]
            ],
            "type": "histogram2dcontour"
           }
          ],
          "mesh3d": [
           {
            "colorbar": {
             "outlinewidth": 0,
             "ticks": ""
            },
            "type": "mesh3d"
           }
          ],
          "parcoords": [
           {
            "line": {
             "colorbar": {
              "outlinewidth": 0,
              "ticks": ""
             }
            },
            "type": "parcoords"
           }
          ],
          "pie": [
           {
            "automargin": true,
            "type": "pie"
           }
          ],
          "scatter": [
           {
            "fillpattern": {
             "fillmode": "overlay",
             "size": 10,
             "solidity": 0.2
            },
            "type": "scatter"
           }
          ],
          "scatter3d": [
           {
            "line": {
             "colorbar": {
              "outlinewidth": 0,
              "ticks": ""
             }
            },
            "marker": {
             "colorbar": {
              "outlinewidth": 0,
              "ticks": ""
             }
            },
            "type": "scatter3d"
           }
          ],
          "scattercarpet": [
           {
            "marker": {
             "colorbar": {
              "outlinewidth": 0,
              "ticks": ""
             }
            },
            "type": "scattercarpet"
           }
          ],
          "scattergeo": [
           {
            "marker": {
             "colorbar": {
              "outlinewidth": 0,
              "ticks": ""
             }
            },
            "type": "scattergeo"
           }
          ],
          "scattergl": [
           {
            "marker": {
             "colorbar": {
              "outlinewidth": 0,
              "ticks": ""
             }
            },
            "type": "scattergl"
           }
          ],
          "scattermapbox": [
           {
            "marker": {
             "colorbar": {
              "outlinewidth": 0,
              "ticks": ""
             }
            },
            "type": "scattermapbox"
           }
          ],
          "scatterpolar": [
           {
            "marker": {
             "colorbar": {
              "outlinewidth": 0,
              "ticks": ""
             }
            },
            "type": "scatterpolar"
           }
          ],
          "scatterpolargl": [
           {
            "marker": {
             "colorbar": {
              "outlinewidth": 0,
              "ticks": ""
             }
            },
            "type": "scatterpolargl"
           }
          ],
          "scatterternary": [
           {
            "marker": {
             "colorbar": {
              "outlinewidth": 0,
              "ticks": ""
             }
            },
            "type": "scatterternary"
           }
          ],
          "surface": [
           {
            "colorbar": {
             "outlinewidth": 0,
             "ticks": ""
            },
            "colorscale": [
             [
              0,
              "#0d0887"
             ],
             [
              0.1111111111111111,
              "#46039f"
             ],
             [
              0.2222222222222222,
              "#7201a8"
             ],
             [
              0.3333333333333333,
              "#9c179e"
             ],
             [
              0.4444444444444444,
              "#bd3786"
             ],
             [
              0.5555555555555556,
              "#d8576b"
             ],
             [
              0.6666666666666666,
              "#ed7953"
             ],
             [
              0.7777777777777778,
              "#fb9f3a"
             ],
             [
              0.8888888888888888,
              "#fdca26"
             ],
             [
              1,
              "#f0f921"
             ]
            ],
            "type": "surface"
           }
          ],
          "table": [
           {
            "cells": {
             "fill": {
              "color": "#EBF0F8"
             },
             "line": {
              "color": "white"
             }
            },
            "header": {
             "fill": {
              "color": "#C8D4E3"
             },
             "line": {
              "color": "white"
             }
            },
            "type": "table"
           }
          ]
         },
         "layout": {
          "annotationdefaults": {
           "arrowcolor": "#2a3f5f",
           "arrowhead": 0,
           "arrowwidth": 1
          },
          "autotypenumbers": "strict",
          "coloraxis": {
           "colorbar": {
            "outlinewidth": 0,
            "ticks": ""
           }
          },
          "colorscale": {
           "diverging": [
            [
             0,
             "#8e0152"
            ],
            [
             0.1,
             "#c51b7d"
            ],
            [
             0.2,
             "#de77ae"
            ],
            [
             0.3,
             "#f1b6da"
            ],
            [
             0.4,
             "#fde0ef"
            ],
            [
             0.5,
             "#f7f7f7"
            ],
            [
             0.6,
             "#e6f5d0"
            ],
            [
             0.7,
             "#b8e186"
            ],
            [
             0.8,
             "#7fbc41"
            ],
            [
             0.9,
             "#4d9221"
            ],
            [
             1,
             "#276419"
            ]
           ],
           "sequential": [
            [
             0,
             "#0d0887"
            ],
            [
             0.1111111111111111,
             "#46039f"
            ],
            [
             0.2222222222222222,
             "#7201a8"
            ],
            [
             0.3333333333333333,
             "#9c179e"
            ],
            [
             0.4444444444444444,
             "#bd3786"
            ],
            [
             0.5555555555555556,
             "#d8576b"
            ],
            [
             0.6666666666666666,
             "#ed7953"
            ],
            [
             0.7777777777777778,
             "#fb9f3a"
            ],
            [
             0.8888888888888888,
             "#fdca26"
            ],
            [
             1,
             "#f0f921"
            ]
           ],
           "sequentialminus": [
            [
             0,
             "#0d0887"
            ],
            [
             0.1111111111111111,
             "#46039f"
            ],
            [
             0.2222222222222222,
             "#7201a8"
            ],
            [
             0.3333333333333333,
             "#9c179e"
            ],
            [
             0.4444444444444444,
             "#bd3786"
            ],
            [
             0.5555555555555556,
             "#d8576b"
            ],
            [
             0.6666666666666666,
             "#ed7953"
            ],
            [
             0.7777777777777778,
             "#fb9f3a"
            ],
            [
             0.8888888888888888,
             "#fdca26"
            ],
            [
             1,
             "#f0f921"
            ]
           ]
          },
          "colorway": [
           "#636efa",
           "#EF553B",
           "#00cc96",
           "#ab63fa",
           "#FFA15A",
           "#19d3f3",
           "#FF6692",
           "#B6E880",
           "#FF97FF",
           "#FECB52"
          ],
          "font": {
           "color": "#2a3f5f"
          },
          "geo": {
           "bgcolor": "white",
           "lakecolor": "white",
           "landcolor": "#E5ECF6",
           "showlakes": true,
           "showland": true,
           "subunitcolor": "white"
          },
          "hoverlabel": {
           "align": "left"
          },
          "hovermode": "closest",
          "mapbox": {
           "style": "light"
          },
          "paper_bgcolor": "white",
          "plot_bgcolor": "#E5ECF6",
          "polar": {
           "angularaxis": {
            "gridcolor": "white",
            "linecolor": "white",
            "ticks": ""
           },
           "bgcolor": "#E5ECF6",
           "radialaxis": {
            "gridcolor": "white",
            "linecolor": "white",
            "ticks": ""
           }
          },
          "scene": {
           "xaxis": {
            "backgroundcolor": "#E5ECF6",
            "gridcolor": "white",
            "gridwidth": 2,
            "linecolor": "white",
            "showbackground": true,
            "ticks": "",
            "zerolinecolor": "white"
           },
           "yaxis": {
            "backgroundcolor": "#E5ECF6",
            "gridcolor": "white",
            "gridwidth": 2,
            "linecolor": "white",
            "showbackground": true,
            "ticks": "",
            "zerolinecolor": "white"
           },
           "zaxis": {
            "backgroundcolor": "#E5ECF6",
            "gridcolor": "white",
            "gridwidth": 2,
            "linecolor": "white",
            "showbackground": true,
            "ticks": "",
            "zerolinecolor": "white"
           }
          },
          "shapedefaults": {
           "line": {
            "color": "#2a3f5f"
           }
          },
          "ternary": {
           "aaxis": {
            "gridcolor": "white",
            "linecolor": "white",
            "ticks": ""
           },
           "baxis": {
            "gridcolor": "white",
            "linecolor": "white",
            "ticks": ""
           },
           "bgcolor": "#E5ECF6",
           "caxis": {
            "gridcolor": "white",
            "linecolor": "white",
            "ticks": ""
           }
          },
          "title": {
           "x": 0.05
          },
          "xaxis": {
           "automargin": true,
           "gridcolor": "white",
           "linecolor": "white",
           "ticks": "",
           "title": {
            "standoff": 15
           },
           "zerolinecolor": "white",
           "zerolinewidth": 2
          },
          "yaxis": {
           "automargin": true,
           "gridcolor": "white",
           "linecolor": "white",
           "ticks": "",
           "title": {
            "standoff": 15
           },
           "zerolinecolor": "white",
           "zerolinewidth": 2
          }
         }
        },
        "title": {
         "text": "SMART METERS - 30 clients with 15 sampled clients per round"
        },
        "xaxis": {
         "anchor": "y",
         "domain": [
          0,
          1
         ],
         "matches": "x2",
         "showticklabels": false
        },
        "xaxis2": {
         "anchor": "y2",
         "domain": [
          0,
          1
         ],
         "title": {
          "text": "Round"
         }
        },
        "yaxis": {
         "anchor": "x",
         "domain": [
          0.625,
          1
         ],
         "title": {
          "text": "MEAN ABSOLUTE ERROR"
         }
        },
        "yaxis2": {
         "anchor": "x2",
         "domain": [
          0,
          0.375
         ],
         "title": {
          "text": "MEAN SQUARED ERROR"
         }
        }
       }
      }
     },
     "metadata": {},
     "output_type": "display_data"
    }
   ],
   "source": [
    "import plotly.express as px\n",
    "import plotly.graph_objects as go\n",
    "from plotly.subplots import make_subplots\n",
    "\n",
    "print(f\"{history.metrics_centralized = }\")\n",
    "\n",
    "global_accuracy_centralised = history.metrics_distributed[\"accuracy\"]\n",
    "global_loss_centralised = history.losses_distributed\n",
    "rounds = [data[0] for data in global_accuracy_centralised]\n",
    "loss = [data[1] for data in global_loss_centralised]\n",
    "acc = [100.0 * data[1] for data in global_accuracy_centralised]\n",
    "\n",
    "fig = make_subplots(rows=2, cols=1, shared_xaxes=True, \n",
    "                    subplot_titles=(\"MEAN ABSOLUTE ERROR\", \"MEAN SQUARED ERROR\"))\n",
    "\n",
    "# Add scatter plot for accuracy\n",
    "fig.add_trace(go.Scatter(x=rounds, y=acc, mode='markers', name='MAE'), row=1, col=1)\n",
    "# Add line plot for accuracy\n",
    "fig.add_trace(go.Scatter(x=rounds, y=acc, mode='lines', name='MAE Line'), row=1, col=1)\n",
    "\n",
    "# Add scatter plot for loss\n",
    "fig.add_trace(go.Scatter(x=rounds, y=loss, mode='markers', name='MSE'), row=2, col=1)\n",
    "# Add line plot for loss\n",
    "fig.add_trace(go.Scatter(x=rounds, y=loss, mode='lines', name='MSE Line'), row=2, col=1)\n",
    "\n",
    "# Update layout\n",
    "fig.update_layout(\n",
    "    height=800,  # Height of the figure\n",
    "    title_text=f\"SMART METERS - {NUM_CLIENTS} clients with {int(0.5 * NUM_CLIENTS)} sampled clients per round\",\n",
    ")\n",
    "\n",
    "# Update x-axis for all subplots\n",
    "fig.update_xaxes(title_text=\"Round\", row=2, col=1)\n",
    "# Update y-axis for each subplot\n",
    "fig.update_yaxes(title_text=\"MEAN ABSOLUTE ERROR\", row=1, col=1)\n",
    "fig.update_yaxes(title_text=\"MEAN SQUARED ERROR\", row=2, col=1)\n",
    "\n",
    "# Show the plot\n",
    "fig.show()"
   ]
  },
  {
   "cell_type": "code",
   "execution_count": null,
   "metadata": {},
   "outputs": [],
   "source": []
  }
 ],
 "metadata": {
  "colab": {
   "name": "flower.ipynb",
   "provenance": []
  },
  "kernelspec": {
   "display_name": "Python 3 (ipykernel)",
   "language": "python",
   "name": "python3"
  },
  "language_info": {
   "codemirror_mode": {
    "name": "ipython",
    "version": 3
   },
   "file_extension": ".py",
   "mimetype": "text/x-python",
   "name": "python",
   "nbconvert_exporter": "python",
   "pygments_lexer": "ipython3",
   "version": "3.11.9"
  }
 },
 "nbformat": 4,
 "nbformat_minor": 4
}
